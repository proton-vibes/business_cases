{
 "cells": [
  {
   "cell_type": "markdown",
   "id": "7b42b782-6344-4982-97f4-0a6ec9cc0498",
   "metadata": {},
   "source": [
    "# Fitness brand usecase"
   ]
  },
  {
   "cell_type": "markdown",
   "id": "f6461cea-09b1-4ef4-94ec-563f7c0a06cf",
   "metadata": {},
   "source": [
    "\n",
    "**Business Problem**\n",
    "\n",
    "The market research team wants to identify the characteristics of the target audience for each type of treadmill offered by the company, to provide a better recommendation of the treadmills to the new customers. The team decides to investigate whether there are differences across the product with respect to customer characteristics.\n",
    "\n",
    "Perform descriptive analytics to create a customer profile for each treadmill product by developing appropriate tables and charts."
   ]
  },
  {
   "cell_type": "markdown",
   "id": "d20f7a1d-3d3a-4faa-aa6d-e0b05e7c2f4d",
   "metadata": {},
   "source": [
    "#### Features\n",
    "\n",
    "The dataset has the following features:\n",
    "\n",
    "Product Purchased:\tKP281, KP481, or KP781\n",
    "\n",
    "Age:\tIn years\n",
    "\n",
    "Gender:\tMale/Female\n",
    "\n",
    "Education:\tIn years\n",
    "\n",
    "MaritalStatus:\tSingle or partnered\n",
    "\n",
    "Usage:\tThe average number of times the customer plans to use the treadmill each week.\n",
    "\n",
    "Income:\tAnnual income (in $)\n",
    "\n",
    "Fitness:\tSelf-rated fitness on a 1-to-5 scale, where 1 is the poor shape and 5 is the excellent shape.\n",
    "\n",
    "Miles:\tThe average number of miles the customer expects to walk/run each week"
   ]
  },
  {
   "cell_type": "markdown",
   "id": "16825a8e-cd9d-4c98-b8bd-e708db9423a0",
   "metadata": {},
   "source": [
    "**Product Portfolio**\n",
    "\n",
    "The KP281 is an entry-level treadmill that sells for $1,500.\n",
    "\n",
    "The KP481 is for mid-level runners that sell for $1,750.\n",
    "\n",
    "The KP781 treadmill is having advanced features that sell for $2,500."
   ]
  },
  {
   "cell_type": "markdown",
   "id": "46881a1a-c7fb-40eb-8469-b628cbf34569",
   "metadata": {},
   "source": [
    "# "
   ]
  },
  {
   "cell_type": "markdown",
   "id": "9be7e445-603c-4d3f-81c6-3278aaec1272",
   "metadata": {},
   "source": [
    "# Imports"
   ]
  },
  {
   "cell_type": "code",
   "execution_count": 1,
   "id": "0d990369-9d05-4647-9fd2-a2f8b202b35b",
   "metadata": {},
   "outputs": [],
   "source": [
    "import numpy as np\n",
    "import pandas as pd\n",
    "import matplotlib.pyplot as plt\n",
    "import seaborn as sns"
   ]
  },
  {
   "cell_type": "markdown",
   "id": "541a4748-a807-4cd0-a548-40fec9ba1117",
   "metadata": {},
   "source": [
    "###### "
   ]
  },
  {
   "cell_type": "markdown",
   "id": "86735f04-128b-4601-b24d-353c7f82fdff",
   "metadata": {},
   "source": [
    "# ***** Simplfying the problem statement *****\n",
    "\n",
    "Need to analyse the last 3 months of sales data of the 3 treadmills (KP281, KP418, KP781) sold by the brand. Look at the treadmills and see if there are particular characteristics of customers that are more aligned with either of the treadmills. This will help in better product recommendation.\n",
    "\n",
    "Finally, it would be better to have a set of features of customers that are more inclined to buy different treadmills.\n",
    "\n",
    "**How each feature affects the buying pattern for the treadmills is presented**"
   ]
  },
  {
   "cell_type": "markdown",
   "id": "72d65f25-82d0-482a-b8e0-96f7ae3d0fb5",
   "metadata": {},
   "source": [
    "###### "
   ]
  },
  {
   "cell_type": "markdown",
   "id": "e7eb80b4-9a31-4a6c-8335-562cb404d71d",
   "metadata": {},
   "source": [
    "# 1. Data loading and basic exploratory analysis"
   ]
  },
  {
   "cell_type": "code",
   "execution_count": 2,
   "id": "1cd3b3d7-1dd7-4a8a-905b-b0cba00ef531",
   "metadata": {},
   "outputs": [],
   "source": [
    "df = pd.read_csv('https://d2beiqkhq929f0.cloudfront.net/public_assets/assets/000/001/125/original/aerofit_treadmill.csv?1639992749')"
   ]
  },
  {
   "cell_type": "code",
   "execution_count": 3,
   "id": "07d7b369-4cac-4efa-b0f1-e3be265c260e",
   "metadata": {},
   "outputs": [
    {
     "data": {
      "text/html": [
       "<div>\n",
       "<style scoped>\n",
       "    .dataframe tbody tr th:only-of-type {\n",
       "        vertical-align: middle;\n",
       "    }\n",
       "\n",
       "    .dataframe tbody tr th {\n",
       "        vertical-align: top;\n",
       "    }\n",
       "\n",
       "    .dataframe thead th {\n",
       "        text-align: right;\n",
       "    }\n",
       "</style>\n",
       "<table border=\"1\" class=\"dataframe\">\n",
       "  <thead>\n",
       "    <tr style=\"text-align: right;\">\n",
       "      <th></th>\n",
       "      <th>Product</th>\n",
       "      <th>Age</th>\n",
       "      <th>Gender</th>\n",
       "      <th>Education</th>\n",
       "      <th>MaritalStatus</th>\n",
       "      <th>Usage</th>\n",
       "      <th>Fitness</th>\n",
       "      <th>Income</th>\n",
       "      <th>Miles</th>\n",
       "    </tr>\n",
       "  </thead>\n",
       "  <tbody>\n",
       "    <tr>\n",
       "      <th>0</th>\n",
       "      <td>KP281</td>\n",
       "      <td>18</td>\n",
       "      <td>Male</td>\n",
       "      <td>14</td>\n",
       "      <td>Single</td>\n",
       "      <td>3</td>\n",
       "      <td>4</td>\n",
       "      <td>29562</td>\n",
       "      <td>112</td>\n",
       "    </tr>\n",
       "    <tr>\n",
       "      <th>1</th>\n",
       "      <td>KP281</td>\n",
       "      <td>19</td>\n",
       "      <td>Male</td>\n",
       "      <td>15</td>\n",
       "      <td>Single</td>\n",
       "      <td>2</td>\n",
       "      <td>3</td>\n",
       "      <td>31836</td>\n",
       "      <td>75</td>\n",
       "    </tr>\n",
       "    <tr>\n",
       "      <th>2</th>\n",
       "      <td>KP281</td>\n",
       "      <td>19</td>\n",
       "      <td>Female</td>\n",
       "      <td>14</td>\n",
       "      <td>Partnered</td>\n",
       "      <td>4</td>\n",
       "      <td>3</td>\n",
       "      <td>30699</td>\n",
       "      <td>66</td>\n",
       "    </tr>\n",
       "    <tr>\n",
       "      <th>3</th>\n",
       "      <td>KP281</td>\n",
       "      <td>19</td>\n",
       "      <td>Male</td>\n",
       "      <td>12</td>\n",
       "      <td>Single</td>\n",
       "      <td>3</td>\n",
       "      <td>3</td>\n",
       "      <td>32973</td>\n",
       "      <td>85</td>\n",
       "    </tr>\n",
       "    <tr>\n",
       "      <th>4</th>\n",
       "      <td>KP281</td>\n",
       "      <td>20</td>\n",
       "      <td>Male</td>\n",
       "      <td>13</td>\n",
       "      <td>Partnered</td>\n",
       "      <td>4</td>\n",
       "      <td>2</td>\n",
       "      <td>35247</td>\n",
       "      <td>47</td>\n",
       "    </tr>\n",
       "    <tr>\n",
       "      <th>...</th>\n",
       "      <td>...</td>\n",
       "      <td>...</td>\n",
       "      <td>...</td>\n",
       "      <td>...</td>\n",
       "      <td>...</td>\n",
       "      <td>...</td>\n",
       "      <td>...</td>\n",
       "      <td>...</td>\n",
       "      <td>...</td>\n",
       "    </tr>\n",
       "    <tr>\n",
       "      <th>175</th>\n",
       "      <td>KP781</td>\n",
       "      <td>40</td>\n",
       "      <td>Male</td>\n",
       "      <td>21</td>\n",
       "      <td>Single</td>\n",
       "      <td>6</td>\n",
       "      <td>5</td>\n",
       "      <td>83416</td>\n",
       "      <td>200</td>\n",
       "    </tr>\n",
       "    <tr>\n",
       "      <th>176</th>\n",
       "      <td>KP781</td>\n",
       "      <td>42</td>\n",
       "      <td>Male</td>\n",
       "      <td>18</td>\n",
       "      <td>Single</td>\n",
       "      <td>5</td>\n",
       "      <td>4</td>\n",
       "      <td>89641</td>\n",
       "      <td>200</td>\n",
       "    </tr>\n",
       "    <tr>\n",
       "      <th>177</th>\n",
       "      <td>KP781</td>\n",
       "      <td>45</td>\n",
       "      <td>Male</td>\n",
       "      <td>16</td>\n",
       "      <td>Single</td>\n",
       "      <td>5</td>\n",
       "      <td>5</td>\n",
       "      <td>90886</td>\n",
       "      <td>160</td>\n",
       "    </tr>\n",
       "    <tr>\n",
       "      <th>178</th>\n",
       "      <td>KP781</td>\n",
       "      <td>47</td>\n",
       "      <td>Male</td>\n",
       "      <td>18</td>\n",
       "      <td>Partnered</td>\n",
       "      <td>4</td>\n",
       "      <td>5</td>\n",
       "      <td>104581</td>\n",
       "      <td>120</td>\n",
       "    </tr>\n",
       "    <tr>\n",
       "      <th>179</th>\n",
       "      <td>KP781</td>\n",
       "      <td>48</td>\n",
       "      <td>Male</td>\n",
       "      <td>18</td>\n",
       "      <td>Partnered</td>\n",
       "      <td>4</td>\n",
       "      <td>5</td>\n",
       "      <td>95508</td>\n",
       "      <td>180</td>\n",
       "    </tr>\n",
       "  </tbody>\n",
       "</table>\n",
       "<p>180 rows × 9 columns</p>\n",
       "</div>"
      ],
      "text/plain": [
       "    Product  Age  Gender  Education MaritalStatus  Usage  Fitness  Income  \\\n",
       "0     KP281   18    Male         14        Single      3        4   29562   \n",
       "1     KP281   19    Male         15        Single      2        3   31836   \n",
       "2     KP281   19  Female         14     Partnered      4        3   30699   \n",
       "3     KP281   19    Male         12        Single      3        3   32973   \n",
       "4     KP281   20    Male         13     Partnered      4        2   35247   \n",
       "..      ...  ...     ...        ...           ...    ...      ...     ...   \n",
       "175   KP781   40    Male         21        Single      6        5   83416   \n",
       "176   KP781   42    Male         18        Single      5        4   89641   \n",
       "177   KP781   45    Male         16        Single      5        5   90886   \n",
       "178   KP781   47    Male         18     Partnered      4        5  104581   \n",
       "179   KP781   48    Male         18     Partnered      4        5   95508   \n",
       "\n",
       "     Miles  \n",
       "0      112  \n",
       "1       75  \n",
       "2       66  \n",
       "3       85  \n",
       "4       47  \n",
       "..     ...  \n",
       "175    200  \n",
       "176    200  \n",
       "177    160  \n",
       "178    120  \n",
       "179    180  \n",
       "\n",
       "[180 rows x 9 columns]"
      ]
     },
     "execution_count": 3,
     "metadata": {},
     "output_type": "execute_result"
    }
   ],
   "source": [
    "df"
   ]
  },
  {
   "cell_type": "code",
   "execution_count": 4,
   "id": "a8111f69-a7fd-4d35-a54c-6696d442c187",
   "metadata": {},
   "outputs": [
    {
     "name": "stdout",
     "output_type": "stream",
     "text": [
      "<class 'pandas.core.frame.DataFrame'>\n",
      "RangeIndex: 180 entries, 0 to 179\n",
      "Data columns (total 9 columns):\n",
      " #   Column         Non-Null Count  Dtype \n",
      "---  ------         --------------  ----- \n",
      " 0   Product        180 non-null    object\n",
      " 1   Age            180 non-null    int64 \n",
      " 2   Gender         180 non-null    object\n",
      " 3   Education      180 non-null    int64 \n",
      " 4   MaritalStatus  180 non-null    object\n",
      " 5   Usage          180 non-null    int64 \n",
      " 6   Fitness        180 non-null    int64 \n",
      " 7   Income         180 non-null    int64 \n",
      " 8   Miles          180 non-null    int64 \n",
      "dtypes: int64(6), object(3)\n",
      "memory usage: 12.8+ KB\n"
     ]
    }
   ],
   "source": [
    "df.info()"
   ]
  },
  {
   "cell_type": "markdown",
   "id": "76ede213-7344-49c3-9380-2738c8c8cc5b",
   "metadata": {},
   "source": [
    "##### "
   ]
  },
  {
   "cell_type": "markdown",
   "id": "1a4d9f5d-3327-4689-8be7-17654df782c3",
   "metadata": {},
   "source": [
    "$\\color{blue}{\\text{The datatypes look proper. All the expected numerical values are int and strings are object}}$\n",
    "<!-- **The datatypes look proper. All the expected numerical values are int and strings are object** -->"
   ]
  },
  {
   "cell_type": "markdown",
   "id": "bb581531-24b4-413c-838f-61cf235e46c4",
   "metadata": {},
   "source": [
    "#### "
   ]
  },
  {
   "cell_type": "code",
   "execution_count": 5,
   "id": "5cc1099c-0017-4ae8-bfe6-71a4f5762b56",
   "metadata": {},
   "outputs": [
    {
     "data": {
      "text/plain": [
       "Product          0\n",
       "Age              0\n",
       "Gender           0\n",
       "Education        0\n",
       "MaritalStatus    0\n",
       "Usage            0\n",
       "Fitness          0\n",
       "Income           0\n",
       "Miles            0\n",
       "dtype: int64"
      ]
     },
     "execution_count": 5,
     "metadata": {},
     "output_type": "execute_result"
    }
   ],
   "source": [
    "df.isna().sum()"
   ]
  },
  {
   "cell_type": "markdown",
   "id": "1589ddeb-be8f-4d47-b307-9082308ec219",
   "metadata": {},
   "source": [
    "###### "
   ]
  },
  {
   "cell_type": "markdown",
   "id": "6a70231c-342b-4047-a251-8e7eaf5cacaa",
   "metadata": {},
   "source": [
    "$\\color{blue}{\\text{There are no null values in the dataset (also visible from the previous cell)}}$\n",
    "<!-- **There are no null values in the dataset (also visible from the previous cell)** -->"
   ]
  },
  {
   "cell_type": "markdown",
   "id": "244898c8-680f-4f66-906f-2616c132db36",
   "metadata": {},
   "source": [
    "##### "
   ]
  },
  {
   "cell_type": "markdown",
   "id": "cca0c05a-b2a0-4241-8dab-fe8cd6928190",
   "metadata": {},
   "source": [
    "### Value counts and unique attributes"
   ]
  },
  {
   "cell_type": "code",
   "execution_count": 6,
   "id": "b8bf759e-6468-44dc-9bd2-1ba493be85be",
   "metadata": {},
   "outputs": [
    {
     "data": {
      "text/html": [
       "<div>\n",
       "<style scoped>\n",
       "    .dataframe tbody tr th:only-of-type {\n",
       "        vertical-align: middle;\n",
       "    }\n",
       "\n",
       "    .dataframe tbody tr th {\n",
       "        vertical-align: top;\n",
       "    }\n",
       "\n",
       "    .dataframe thead th {\n",
       "        text-align: right;\n",
       "    }\n",
       "</style>\n",
       "<table border=\"1\" class=\"dataframe\">\n",
       "  <thead>\n",
       "    <tr style=\"text-align: right;\">\n",
       "      <th></th>\n",
       "      <th>Product</th>\n",
       "      <th>Gender</th>\n",
       "      <th>MaritalStatus</th>\n",
       "    </tr>\n",
       "  </thead>\n",
       "  <tbody>\n",
       "    <tr>\n",
       "      <th>count</th>\n",
       "      <td>180</td>\n",
       "      <td>180</td>\n",
       "      <td>180</td>\n",
       "    </tr>\n",
       "    <tr>\n",
       "      <th>unique</th>\n",
       "      <td>3</td>\n",
       "      <td>2</td>\n",
       "      <td>2</td>\n",
       "    </tr>\n",
       "    <tr>\n",
       "      <th>top</th>\n",
       "      <td>KP281</td>\n",
       "      <td>Male</td>\n",
       "      <td>Partnered</td>\n",
       "    </tr>\n",
       "    <tr>\n",
       "      <th>freq</th>\n",
       "      <td>80</td>\n",
       "      <td>104</td>\n",
       "      <td>107</td>\n",
       "    </tr>\n",
       "  </tbody>\n",
       "</table>\n",
       "</div>"
      ],
      "text/plain": [
       "       Product Gender MaritalStatus\n",
       "count      180    180           180\n",
       "unique       3      2             2\n",
       "top      KP281   Male     Partnered\n",
       "freq        80    104           107"
      ]
     },
     "execution_count": 6,
     "metadata": {},
     "output_type": "execute_result"
    }
   ],
   "source": [
    "df.describe(include='object')"
   ]
  },
  {
   "cell_type": "code",
   "execution_count": 7,
   "id": "cb59430d-419e-4dc4-99c1-9fb83793c5e1",
   "metadata": {},
   "outputs": [
    {
     "data": {
      "text/plain": [
       "Partnered    107\n",
       "Single        73\n",
       "Name: MaritalStatus, dtype: int64"
      ]
     },
     "execution_count": 7,
     "metadata": {},
     "output_type": "execute_result"
    }
   ],
   "source": [
    "df['MaritalStatus'].value_counts()"
   ]
  },
  {
   "cell_type": "code",
   "execution_count": 8,
   "id": "3be8424f-5f86-41b5-b418-83fd860908d4",
   "metadata": {},
   "outputs": [
    {
     "data": {
      "text/plain": [
       "Male      104\n",
       "Female     76\n",
       "Name: Gender, dtype: int64"
      ]
     },
     "execution_count": 8,
     "metadata": {},
     "output_type": "execute_result"
    }
   ],
   "source": [
    "df['Gender'].value_counts()"
   ]
  },
  {
   "cell_type": "code",
   "execution_count": 9,
   "id": "6f69e81f-6a54-4fc7-9619-336ae2fb8930",
   "metadata": {},
   "outputs": [
    {
     "data": {
      "text/plain": [
       "KP281    80\n",
       "KP481    60\n",
       "KP781    40\n",
       "Name: Product, dtype: int64"
      ]
     },
     "execution_count": 9,
     "metadata": {},
     "output_type": "execute_result"
    }
   ],
   "source": [
    "df['Product'].value_counts()"
   ]
  },
  {
   "cell_type": "code",
   "execution_count": 10,
   "id": "5c9d6f9e-333c-43ec-b1b0-20856264f203",
   "metadata": {},
   "outputs": [
    {
     "data": {
      "text/plain": [
       "KP281    44.0\n",
       "KP481    33.0\n",
       "KP781    22.0\n",
       "Name: Product, dtype: float64"
      ]
     },
     "execution_count": 10,
     "metadata": {},
     "output_type": "execute_result"
    }
   ],
   "source": [
    "(df['Product'].value_counts(normalize=True)*100).round(0)"
   ]
  },
  {
   "cell_type": "markdown",
   "id": "f40423bb-d589-4183-a71c-a05e61ac8d93",
   "metadata": {},
   "source": [
    "##### "
   ]
  },
  {
   "cell_type": "markdown",
   "id": "bff1a4e0-929b-41dc-b508-bb7c3d6ac691",
   "metadata": {},
   "source": [
    "$\\color{blue}{\\text{The data contains product (3 treadmills) sales diversification over 2 unique marital statuses (59% Partnered and 41% Single) and 2 unique genders (58% Males and 42% Females).}}$\n",
    "<!-- **The data contains product (3 treadmills) sales diversification over 2 unique marital statues (Partnered and Single) and 2 unique genders (Male and Female).** -->\n",
    "$\\color{blue}{\\text{The value counts for each categorical variable is shown above. Around 44% of people bought KP281, 33% bought KP481 and 22% bought KP781}}$\n",
    "\n",
    "<!-- **The value counts for each categorical variable is shown above** -->"
   ]
  },
  {
   "cell_type": "markdown",
   "id": "687cc92f-ab45-4ee0-a4ce-2ec2f88bf1b7",
   "metadata": {},
   "source": [
    "##### "
   ]
  },
  {
   "cell_type": "code",
   "execution_count": 11,
   "id": "e62b469b-b3ce-42a3-a461-9c2767f64011",
   "metadata": {},
   "outputs": [
    {
     "data": {
      "text/html": [
       "<div>\n",
       "<style scoped>\n",
       "    .dataframe tbody tr th:only-of-type {\n",
       "        vertical-align: middle;\n",
       "    }\n",
       "\n",
       "    .dataframe tbody tr th {\n",
       "        vertical-align: top;\n",
       "    }\n",
       "\n",
       "    .dataframe thead th {\n",
       "        text-align: right;\n",
       "    }\n",
       "</style>\n",
       "<table border=\"1\" class=\"dataframe\">\n",
       "  <thead>\n",
       "    <tr style=\"text-align: right;\">\n",
       "      <th></th>\n",
       "      <th>Age</th>\n",
       "      <th>Education</th>\n",
       "      <th>Usage</th>\n",
       "      <th>Fitness</th>\n",
       "      <th>Income</th>\n",
       "      <th>Miles</th>\n",
       "    </tr>\n",
       "  </thead>\n",
       "  <tbody>\n",
       "    <tr>\n",
       "      <th>count</th>\n",
       "      <td>180.00</td>\n",
       "      <td>180.00</td>\n",
       "      <td>180.00</td>\n",
       "      <td>180.00</td>\n",
       "      <td>180.00</td>\n",
       "      <td>180.00</td>\n",
       "    </tr>\n",
       "    <tr>\n",
       "      <th>mean</th>\n",
       "      <td>28.79</td>\n",
       "      <td>15.57</td>\n",
       "      <td>3.46</td>\n",
       "      <td>3.31</td>\n",
       "      <td>53719.58</td>\n",
       "      <td>103.19</td>\n",
       "    </tr>\n",
       "    <tr>\n",
       "      <th>std</th>\n",
       "      <td>6.94</td>\n",
       "      <td>1.62</td>\n",
       "      <td>1.08</td>\n",
       "      <td>0.96</td>\n",
       "      <td>16506.68</td>\n",
       "      <td>51.86</td>\n",
       "    </tr>\n",
       "    <tr>\n",
       "      <th>min</th>\n",
       "      <td>18.00</td>\n",
       "      <td>12.00</td>\n",
       "      <td>2.00</td>\n",
       "      <td>1.00</td>\n",
       "      <td>29562.00</td>\n",
       "      <td>21.00</td>\n",
       "    </tr>\n",
       "    <tr>\n",
       "      <th>25%</th>\n",
       "      <td>24.00</td>\n",
       "      <td>14.00</td>\n",
       "      <td>3.00</td>\n",
       "      <td>3.00</td>\n",
       "      <td>44058.75</td>\n",
       "      <td>66.00</td>\n",
       "    </tr>\n",
       "    <tr>\n",
       "      <th>50%</th>\n",
       "      <td>26.00</td>\n",
       "      <td>16.00</td>\n",
       "      <td>3.00</td>\n",
       "      <td>3.00</td>\n",
       "      <td>50596.50</td>\n",
       "      <td>94.00</td>\n",
       "    </tr>\n",
       "    <tr>\n",
       "      <th>75%</th>\n",
       "      <td>33.00</td>\n",
       "      <td>16.00</td>\n",
       "      <td>4.00</td>\n",
       "      <td>4.00</td>\n",
       "      <td>58668.00</td>\n",
       "      <td>114.75</td>\n",
       "    </tr>\n",
       "    <tr>\n",
       "      <th>max</th>\n",
       "      <td>50.00</td>\n",
       "      <td>21.00</td>\n",
       "      <td>7.00</td>\n",
       "      <td>5.00</td>\n",
       "      <td>104581.00</td>\n",
       "      <td>360.00</td>\n",
       "    </tr>\n",
       "  </tbody>\n",
       "</table>\n",
       "</div>"
      ],
      "text/plain": [
       "          Age  Education   Usage  Fitness     Income   Miles\n",
       "count  180.00     180.00  180.00   180.00     180.00  180.00\n",
       "mean    28.79      15.57    3.46     3.31   53719.58  103.19\n",
       "std      6.94       1.62    1.08     0.96   16506.68   51.86\n",
       "min     18.00      12.00    2.00     1.00   29562.00   21.00\n",
       "25%     24.00      14.00    3.00     3.00   44058.75   66.00\n",
       "50%     26.00      16.00    3.00     3.00   50596.50   94.00\n",
       "75%     33.00      16.00    4.00     4.00   58668.00  114.75\n",
       "max     50.00      21.00    7.00     5.00  104581.00  360.00"
      ]
     },
     "execution_count": 11,
     "metadata": {},
     "output_type": "execute_result"
    }
   ],
   "source": [
    "df.describe().round(2)"
   ]
  },
  {
   "cell_type": "markdown",
   "id": "2c61c014-ea25-4870-a78c-b0ae1318cea0",
   "metadata": {},
   "source": [
    "## "
   ]
  },
  {
   "cell_type": "markdown",
   "id": "82c8de1d-ce39-466e-bb16-1d21a978cd4f",
   "metadata": {},
   "source": [
    "## Boxplots for all the numerical features (Outliers)"
   ]
  },
  {
   "cell_type": "code",
   "execution_count": 12,
   "id": "d76f4fd4-cb60-44b6-a75f-210b6a1b431a",
   "metadata": {},
   "outputs": [
    {
     "data": {
      "image/png": "[encoded data removed]",
      "text/plain": [
       "<Figure size 1440x792 with 5 Axes>"
      ]
     },
     "metadata": {
      "needs_background": "light"
     },
     "output_type": "display_data"
    }
   ],
   "source": [
    "# plt.figure(figsize=(10,11))\n",
    "plt.subplots(1,3,figsize=(20,11))\n",
    "plt.suptitle('Boxplots of all the numerical features')\n",
    "\n",
    "plt.subplot(2,3,1)\n",
    "sns.boxplot(x=df['Age'], width=0.5)\n",
    "plt.grid(alpha=0.5)\n",
    "\n",
    "plt.subplot(2,3,2)\n",
    "sns.boxplot(x=df['Education'], width=0.5)\n",
    "plt.grid(alpha=0.5)\n",
    "\n",
    "\n",
    "plt.subplot(2,3,3)\n",
    "sns.boxplot(x=df['Usage'], width=0.5)\n",
    "plt.grid(alpha=0.5)\n",
    "\n",
    "# plt.subplot(2,3,4)\n",
    "# sns.boxplot(x=df['Fitness'], width=0.5)\n",
    "# plt.grid(alpha=0.5)\n",
    "\n",
    "plt.subplot(2,3,4)\n",
    "sns.boxplot(x=df['Income'], width=0.5)\n",
    "plt.grid(alpha=0.5)\n",
    "\n",
    "plt.subplot(2,3,5)\n",
    "sns.boxplot(x=df['Miles'], width=0.5)\n",
    "plt.grid(alpha=0.5)"
   ]
  },
  {
   "cell_type": "markdown",
   "id": "5c3d8b4c-9bf6-4adc-bd7f-452149f4186b",
   "metadata": {},
   "source": [
    "$\\color{blue}{\\text{From the boxplots, one can observe more outliers in Miles and Income than other features. Both are right-skewed as can be seen from the boxplots and the mean and median values in the previous cell. The mean is higher than the median value}}$\n",
    "\n",
    "$\\color{blue}{\\text{There are 7.22% outliers in Miles feature and 25% outliers in Income feature (look below for calculations).}}$"
   ]
  },
  {
   "cell_type": "markdown",
   "id": "da30ae17-309d-4684-a72c-69ecc886a929",
   "metadata": {},
   "source": [
    "##### "
   ]
  },
  {
   "cell_type": "code",
   "execution_count": 13,
   "id": "a46335e9-29f0-4021-9cf3-f998a5aedbd0",
   "metadata": {},
   "outputs": [
    {
     "data": {
      "text/plain": [
       "48.75"
      ]
     },
     "execution_count": 13,
     "metadata": {},
     "output_type": "execute_result"
    }
   ],
   "source": [
    "IQR_miles= df['Miles'].quantile(0.75) - df['Miles'].quantile(0.25)\n",
    "IQR_miles"
   ]
  },
  {
   "cell_type": "code",
   "execution_count": 14,
   "id": "6984e152-c88a-4f40-bc90-ebd8a1db4e2f",
   "metadata": {},
   "outputs": [
    {
     "data": {
      "text/plain": [
       "0.25     66.00\n",
       "0.75    114.75\n",
       "Name: Miles, dtype: float64"
      ]
     },
     "execution_count": 14,
     "metadata": {},
     "output_type": "execute_result"
    }
   ],
   "source": [
    "df['Miles'].quantile([0.25,0.75])"
   ]
  },
  {
   "cell_type": "code",
   "execution_count": 15,
   "id": "d1ace4ab-6a70-4b20-b083-dc0783391111",
   "metadata": {},
   "outputs": [
    {
     "data": {
      "text/plain": [
       "13"
      ]
     },
     "execution_count": 15,
     "metadata": {},
     "output_type": "execute_result"
    }
   ],
   "source": [
    "(df['Miles']>df['Miles'].quantile(0.75)+48.75*1.5).sum()"
   ]
  },
  {
   "cell_type": "markdown",
   "id": "f33336c3-4840-4cde-9e7b-6d7944ed3eeb",
   "metadata": {},
   "source": [
    "### %outliers in Miles"
   ]
  },
  {
   "cell_type": "code",
   "execution_count": 16,
   "id": "05d19478-4b68-4ceb-bb0b-17c50b3a2c57",
   "metadata": {},
   "outputs": [
    {
     "data": {
      "text/plain": [
       "7.22"
      ]
     },
     "execution_count": 16,
     "metadata": {},
     "output_type": "execute_result"
    }
   ],
   "source": [
    "round((13/180*100),2)"
   ]
  },
  {
   "cell_type": "code",
   "execution_count": 17,
   "id": "f3f41fa4-f1a8-4bde-8c51-1b7fad298b73",
   "metadata": {},
   "outputs": [
    {
     "data": {
      "text/html": [
       "<div>\n",
       "<style scoped>\n",
       "    .dataframe tbody tr th:only-of-type {\n",
       "        vertical-align: middle;\n",
       "    }\n",
       "\n",
       "    .dataframe tbody tr th {\n",
       "        vertical-align: top;\n",
       "    }\n",
       "\n",
       "    .dataframe thead th {\n",
       "        text-align: right;\n",
       "    }\n",
       "</style>\n",
       "<table border=\"1\" class=\"dataframe\">\n",
       "  <thead>\n",
       "    <tr style=\"text-align: right;\">\n",
       "      <th></th>\n",
       "      <th>Product</th>\n",
       "      <th>Age</th>\n",
       "      <th>Gender</th>\n",
       "      <th>Education</th>\n",
       "      <th>MaritalStatus</th>\n",
       "      <th>Usage</th>\n",
       "      <th>Fitness</th>\n",
       "      <th>Income</th>\n",
       "      <th>Miles</th>\n",
       "    </tr>\n",
       "  </thead>\n",
       "  <tbody>\n",
       "    <tr>\n",
       "      <th>23</th>\n",
       "      <td>KP281</td>\n",
       "      <td>24</td>\n",
       "      <td>Female</td>\n",
       "      <td>16</td>\n",
       "      <td>Partnered</td>\n",
       "      <td>5</td>\n",
       "      <td>5</td>\n",
       "      <td>44343</td>\n",
       "      <td>188</td>\n",
       "    </tr>\n",
       "    <tr>\n",
       "      <th>84</th>\n",
       "      <td>KP481</td>\n",
       "      <td>21</td>\n",
       "      <td>Female</td>\n",
       "      <td>14</td>\n",
       "      <td>Partnered</td>\n",
       "      <td>5</td>\n",
       "      <td>4</td>\n",
       "      <td>34110</td>\n",
       "      <td>212</td>\n",
       "    </tr>\n",
       "    <tr>\n",
       "      <th>142</th>\n",
       "      <td>KP781</td>\n",
       "      <td>22</td>\n",
       "      <td>Male</td>\n",
       "      <td>18</td>\n",
       "      <td>Single</td>\n",
       "      <td>4</td>\n",
       "      <td>5</td>\n",
       "      <td>48556</td>\n",
       "      <td>200</td>\n",
       "    </tr>\n",
       "    <tr>\n",
       "      <th>148</th>\n",
       "      <td>KP781</td>\n",
       "      <td>24</td>\n",
       "      <td>Female</td>\n",
       "      <td>16</td>\n",
       "      <td>Single</td>\n",
       "      <td>5</td>\n",
       "      <td>5</td>\n",
       "      <td>52291</td>\n",
       "      <td>200</td>\n",
       "    </tr>\n",
       "    <tr>\n",
       "      <th>152</th>\n",
       "      <td>KP781</td>\n",
       "      <td>25</td>\n",
       "      <td>Female</td>\n",
       "      <td>18</td>\n",
       "      <td>Partnered</td>\n",
       "      <td>5</td>\n",
       "      <td>5</td>\n",
       "      <td>61006</td>\n",
       "      <td>200</td>\n",
       "    </tr>\n",
       "    <tr>\n",
       "      <th>155</th>\n",
       "      <td>KP781</td>\n",
       "      <td>25</td>\n",
       "      <td>Male</td>\n",
       "      <td>18</td>\n",
       "      <td>Partnered</td>\n",
       "      <td>6</td>\n",
       "      <td>5</td>\n",
       "      <td>75946</td>\n",
       "      <td>240</td>\n",
       "    </tr>\n",
       "    <tr>\n",
       "      <th>166</th>\n",
       "      <td>KP781</td>\n",
       "      <td>29</td>\n",
       "      <td>Male</td>\n",
       "      <td>14</td>\n",
       "      <td>Partnered</td>\n",
       "      <td>7</td>\n",
       "      <td>5</td>\n",
       "      <td>85906</td>\n",
       "      <td>300</td>\n",
       "    </tr>\n",
       "    <tr>\n",
       "      <th>167</th>\n",
       "      <td>KP781</td>\n",
       "      <td>30</td>\n",
       "      <td>Female</td>\n",
       "      <td>16</td>\n",
       "      <td>Partnered</td>\n",
       "      <td>6</td>\n",
       "      <td>5</td>\n",
       "      <td>90886</td>\n",
       "      <td>280</td>\n",
       "    </tr>\n",
       "    <tr>\n",
       "      <th>170</th>\n",
       "      <td>KP781</td>\n",
       "      <td>31</td>\n",
       "      <td>Male</td>\n",
       "      <td>16</td>\n",
       "      <td>Partnered</td>\n",
       "      <td>6</td>\n",
       "      <td>5</td>\n",
       "      <td>89641</td>\n",
       "      <td>260</td>\n",
       "    </tr>\n",
       "    <tr>\n",
       "      <th>171</th>\n",
       "      <td>KP781</td>\n",
       "      <td>33</td>\n",
       "      <td>Female</td>\n",
       "      <td>18</td>\n",
       "      <td>Partnered</td>\n",
       "      <td>4</td>\n",
       "      <td>5</td>\n",
       "      <td>95866</td>\n",
       "      <td>200</td>\n",
       "    </tr>\n",
       "    <tr>\n",
       "      <th>173</th>\n",
       "      <td>KP781</td>\n",
       "      <td>35</td>\n",
       "      <td>Male</td>\n",
       "      <td>16</td>\n",
       "      <td>Partnered</td>\n",
       "      <td>4</td>\n",
       "      <td>5</td>\n",
       "      <td>92131</td>\n",
       "      <td>360</td>\n",
       "    </tr>\n",
       "    <tr>\n",
       "      <th>175</th>\n",
       "      <td>KP781</td>\n",
       "      <td>40</td>\n",
       "      <td>Male</td>\n",
       "      <td>21</td>\n",
       "      <td>Single</td>\n",
       "      <td>6</td>\n",
       "      <td>5</td>\n",
       "      <td>83416</td>\n",
       "      <td>200</td>\n",
       "    </tr>\n",
       "    <tr>\n",
       "      <th>176</th>\n",
       "      <td>KP781</td>\n",
       "      <td>42</td>\n",
       "      <td>Male</td>\n",
       "      <td>18</td>\n",
       "      <td>Single</td>\n",
       "      <td>5</td>\n",
       "      <td>4</td>\n",
       "      <td>89641</td>\n",
       "      <td>200</td>\n",
       "    </tr>\n",
       "  </tbody>\n",
       "</table>\n",
       "</div>"
      ],
      "text/plain": [
       "    Product  Age  Gender  Education MaritalStatus  Usage  Fitness  Income  \\\n",
       "23    KP281   24  Female         16     Partnered      5        5   44343   \n",
       "84    KP481   21  Female         14     Partnered      5        4   34110   \n",
       "142   KP781   22    Male         18        Single      4        5   48556   \n",
       "148   KP781   24  Female         16        Single      5        5   52291   \n",
       "152   KP781   25  Female         18     Partnered      5        5   61006   \n",
       "155   KP781   25    Male         18     Partnered      6        5   75946   \n",
       "166   KP781   29    Male         14     Partnered      7        5   85906   \n",
       "167   KP781   30  Female         16     Partnered      6        5   90886   \n",
       "170   KP781   31    Male         16     Partnered      6        5   89641   \n",
       "171   KP781   33  Female         18     Partnered      4        5   95866   \n",
       "173   KP781   35    Male         16     Partnered      4        5   92131   \n",
       "175   KP781   40    Male         21        Single      6        5   83416   \n",
       "176   KP781   42    Male         18        Single      5        4   89641   \n",
       "\n",
       "     Miles  \n",
       "23     188  \n",
       "84     212  \n",
       "142    200  \n",
       "148    200  \n",
       "152    200  \n",
       "155    240  \n",
       "166    300  \n",
       "167    280  \n",
       "170    260  \n",
       "171    200  \n",
       "173    360  \n",
       "175    200  \n",
       "176    200  "
      ]
     },
     "execution_count": 17,
     "metadata": {},
     "output_type": "execute_result"
    }
   ],
   "source": [
    "df[df['Miles']>df['Miles'].quantile(0.75)+48.75*1.5]"
   ]
  },
  {
   "cell_type": "markdown",
   "id": "10291c65-5e58-4d03-8e67-355c4ee0e37c",
   "metadata": {},
   "source": [
    "##### "
   ]
  },
  {
   "cell_type": "code",
   "execution_count": 18,
   "id": "8501c6e9-f5f1-469f-9c01-1e4387d5f5d0",
   "metadata": {},
   "outputs": [
    {
     "data": {
      "text/plain": [
       "14609.25"
      ]
     },
     "execution_count": 18,
     "metadata": {},
     "output_type": "execute_result"
    }
   ],
   "source": [
    "IQR_income= df['Income'].quantile(0.75) - df['Income'].quantile(0.25)\n",
    "IQR_income"
   ]
  },
  {
   "cell_type": "code",
   "execution_count": 19,
   "id": "58f05614-3152-4061-9f5a-93881c1a86c0",
   "metadata": {},
   "outputs": [
    {
     "data": {
      "text/plain": [
       "0.25    44058.75\n",
       "0.75    58668.00\n",
       "Name: Income, dtype: float64"
      ]
     },
     "execution_count": 19,
     "metadata": {},
     "output_type": "execute_result"
    }
   ],
   "source": [
    "df['Income'].quantile([0.25,0.75])"
   ]
  },
  {
   "cell_type": "code",
   "execution_count": 20,
   "id": "06c689bc-67b3-4d0b-a4a6-7ec042236de3",
   "metadata": {},
   "outputs": [
    {
     "data": {
      "text/plain": [
       "45"
      ]
     },
     "execution_count": 20,
     "metadata": {},
     "output_type": "execute_result"
    }
   ],
   "source": [
    "(df['Income']>df['Income'].quantile(0.75)+48.75*1.5).sum()"
   ]
  },
  {
   "cell_type": "markdown",
   "id": "74bb329c-ece5-48f7-b26f-e2dccbcb1445",
   "metadata": {},
   "source": [
    "### % outliers in Income"
   ]
  },
  {
   "cell_type": "code",
   "execution_count": 21,
   "id": "293c199b-c088-4e14-ab0f-247f0470cbc1",
   "metadata": {},
   "outputs": [
    {
     "data": {
      "text/plain": [
       "25.0"
      ]
     },
     "execution_count": 21,
     "metadata": {},
     "output_type": "execute_result"
    }
   ],
   "source": [
    "round(45/180*100,2)"
   ]
  },
  {
   "cell_type": "markdown",
   "id": "47105735-38d5-4a70-a846-9353cd4226b5",
   "metadata": {},
   "source": [
    "##### "
   ]
  },
  {
   "cell_type": "markdown",
   "id": "da79ec08-afe8-477f-9a54-0576afb1c967",
   "metadata": {},
   "source": [
    "## **Associations among the different numerical features**"
   ]
  },
  {
   "cell_type": "code",
   "execution_count": 22,
   "id": "61799def-3113-4816-ac28-b047f12b2b35",
   "metadata": {},
   "outputs": [
    {
     "data": {
      "text/html": [
       "<div>\n",
       "<style scoped>\n",
       "    .dataframe tbody tr th:only-of-type {\n",
       "        vertical-align: middle;\n",
       "    }\n",
       "\n",
       "    .dataframe tbody tr th {\n",
       "        vertical-align: top;\n",
       "    }\n",
       "\n",
       "    .dataframe thead th {\n",
       "        text-align: right;\n",
       "    }\n",
       "</style>\n",
       "<table border=\"1\" class=\"dataframe\">\n",
       "  <thead>\n",
       "    <tr style=\"text-align: right;\">\n",
       "      <th></th>\n",
       "      <th>Age</th>\n",
       "      <th>Education</th>\n",
       "      <th>Usage</th>\n",
       "      <th>Fitness</th>\n",
       "      <th>Income</th>\n",
       "      <th>Miles</th>\n",
       "    </tr>\n",
       "  </thead>\n",
       "  <tbody>\n",
       "    <tr>\n",
       "      <th>Age</th>\n",
       "      <td>1.00</td>\n",
       "      <td>0.28</td>\n",
       "      <td>0.02</td>\n",
       "      <td>0.06</td>\n",
       "      <td>0.51</td>\n",
       "      <td>0.04</td>\n",
       "    </tr>\n",
       "    <tr>\n",
       "      <th>Education</th>\n",
       "      <td>0.28</td>\n",
       "      <td>1.00</td>\n",
       "      <td>0.40</td>\n",
       "      <td>0.41</td>\n",
       "      <td>0.63</td>\n",
       "      <td>0.31</td>\n",
       "    </tr>\n",
       "    <tr>\n",
       "      <th>Usage</th>\n",
       "      <td>0.02</td>\n",
       "      <td>0.40</td>\n",
       "      <td>1.00</td>\n",
       "      <td>0.67</td>\n",
       "      <td>0.52</td>\n",
       "      <td>0.76</td>\n",
       "    </tr>\n",
       "    <tr>\n",
       "      <th>Fitness</th>\n",
       "      <td>0.06</td>\n",
       "      <td>0.41</td>\n",
       "      <td>0.67</td>\n",
       "      <td>1.00</td>\n",
       "      <td>0.54</td>\n",
       "      <td>0.79</td>\n",
       "    </tr>\n",
       "    <tr>\n",
       "      <th>Income</th>\n",
       "      <td>0.51</td>\n",
       "      <td>0.63</td>\n",
       "      <td>0.52</td>\n",
       "      <td>0.54</td>\n",
       "      <td>1.00</td>\n",
       "      <td>0.54</td>\n",
       "    </tr>\n",
       "    <tr>\n",
       "      <th>Miles</th>\n",
       "      <td>0.04</td>\n",
       "      <td>0.31</td>\n",
       "      <td>0.76</td>\n",
       "      <td>0.79</td>\n",
       "      <td>0.54</td>\n",
       "      <td>1.00</td>\n",
       "    </tr>\n",
       "  </tbody>\n",
       "</table>\n",
       "</div>"
      ],
      "text/plain": [
       "            Age  Education  Usage  Fitness  Income  Miles\n",
       "Age        1.00       0.28   0.02     0.06    0.51   0.04\n",
       "Education  0.28       1.00   0.40     0.41    0.63   0.31\n",
       "Usage      0.02       0.40   1.00     0.67    0.52   0.76\n",
       "Fitness    0.06       0.41   0.67     1.00    0.54   0.79\n",
       "Income     0.51       0.63   0.52     0.54    1.00   0.54\n",
       "Miles      0.04       0.31   0.76     0.79    0.54   1.00"
      ]
     },
     "execution_count": 22,
     "metadata": {},
     "output_type": "execute_result"
    }
   ],
   "source": [
    "corr = df.corr().round(2)\n",
    "corr"
   ]
  },
  {
   "cell_type": "code",
   "execution_count": 23,
   "id": "02e1757c-f56f-4058-8b3e-aaae1275d158",
   "metadata": {},
   "outputs": [],
   "source": [
    "# plt.figure(figsize=(8,5))\n",
    "# sns.heatmap(corr, annot=True, linewidths=1, cmap='Blues')"
   ]
  },
  {
   "cell_type": "code",
   "execution_count": 24,
   "id": "4ca612bf-7665-4aa5-b541-13cbb9b9458e",
   "metadata": {},
   "outputs": [
    {
     "data": {
      "image/png": "[encoded data removed]",
      "text/plain": [
       "<Figure size 504x360 with 2 Axes>"
      ]
     },
     "metadata": {},
     "output_type": "display_data"
    }
   ],
   "source": [
    "## the colormap blues are used because it is easier to tell that darkers regions are corelated.\n",
    "mask = np.zeros_like(corr)\n",
    "mask[np.triu_indices_from(mask)] = True\n",
    "with sns.axes_style(\"dark\"):\n",
    "    f, ax = plt.subplots(figsize=(7, 5))\n",
    "    ax = sns.heatmap(corr, mask=mask, vmax=0.8, vmin=0,annot=True, linewidths=1, cmap='Blues')\n",
    "    \n",
    "#vmax is the limit of the colormap and has nothing to do with the corelation values"
   ]
  },
  {
   "cell_type": "code",
   "execution_count": 25,
   "id": "953875b1-2949-487c-80e9-1f7b7e3e53f3",
   "metadata": {},
   "outputs": [
    {
     "data": {
      "image/png": "[encoded data removed]",
      "text/plain": [
       "<Figure size 864x864 with 27 Axes>"
      ]
     },
     "metadata": {
      "needs_background": "light"
     },
     "output_type": "display_data"
    }
   ],
   "source": [
    "# plt.title('Pairplot showing corelations among every other feature in the dataset', fontdict={'fontsize':20}, loc='center')\n",
    "pp = sns.pairplot(df,height=2, corner=True, markers='.')\n",
    "pp.fig.suptitle(\"Pairplot showing corelations among every other feature in the dataset\")\n",
    "plt.show()"
   ]
  },
  {
   "cell_type": "markdown",
   "id": "8ec812f7-13f0-46ad-a8e8-16e73af35061",
   "metadata": {},
   "source": [
    "\n",
    "##### "
   ]
  },
  {
   "cell_type": "markdown",
   "id": "e1fee2c8-325e-4dc2-ab44-75836f610363",
   "metadata": {},
   "source": [
    "$\\color{blue}{\\text{1. Miles and usage seem to be correlated both from corelation values as well as the scatter plots. It makes sense as the number of times per week usage is more, the miles clocked should be higher}}$\n",
    "<!-- **1. Miles and usage seem to be corelated both from corelation values as well as scatter plot. It makes sense as the number of times per week usage is more, the miles clocked should be higher.**  -->\n",
    "$\\color{blue}{\\text{2. Same is true for miles vs fitness (although this should be read with a grain of salt, might not always be true)}}$\n"
   ]
  },
  {
   "cell_type": "markdown",
   "id": "68081509-b9e2-4011-b155-ba2be97a6c8d",
   "metadata": {},
   "source": [
    "##### "
   ]
  },
  {
   "cell_type": "markdown",
   "id": "2c6cd9b8-9073-4a31-9b7d-85f870d73b08",
   "metadata": {},
   "source": [
    "## Treadmills vs gender"
   ]
  },
  {
   "cell_type": "code",
   "execution_count": 26,
   "id": "33db56a6-bb5d-4f8d-b89c-99be306d9e82",
   "metadata": {},
   "outputs": [
    {
     "data": {
      "text/html": [
       "<div>\n",
       "<style scoped>\n",
       "    .dataframe tbody tr th:only-of-type {\n",
       "        vertical-align: middle;\n",
       "    }\n",
       "\n",
       "    .dataframe tbody tr th {\n",
       "        vertical-align: top;\n",
       "    }\n",
       "\n",
       "    .dataframe thead th {\n",
       "        text-align: right;\n",
       "    }\n",
       "</style>\n",
       "<table border=\"1\" class=\"dataframe\">\n",
       "  <thead>\n",
       "    <tr style=\"text-align: right;\">\n",
       "      <th>Gender</th>\n",
       "      <th>Female</th>\n",
       "      <th>Male</th>\n",
       "      <th>All</th>\n",
       "    </tr>\n",
       "    <tr>\n",
       "      <th>Product</th>\n",
       "      <th></th>\n",
       "      <th></th>\n",
       "      <th></th>\n",
       "    </tr>\n",
       "  </thead>\n",
       "  <tbody>\n",
       "    <tr>\n",
       "      <th>KP281</th>\n",
       "      <td>40</td>\n",
       "      <td>40</td>\n",
       "      <td>80</td>\n",
       "    </tr>\n",
       "    <tr>\n",
       "      <th>KP481</th>\n",
       "      <td>29</td>\n",
       "      <td>31</td>\n",
       "      <td>60</td>\n",
       "    </tr>\n",
       "    <tr>\n",
       "      <th>KP781</th>\n",
       "      <td>7</td>\n",
       "      <td>33</td>\n",
       "      <td>40</td>\n",
       "    </tr>\n",
       "    <tr>\n",
       "      <th>All</th>\n",
       "      <td>76</td>\n",
       "      <td>104</td>\n",
       "      <td>180</td>\n",
       "    </tr>\n",
       "  </tbody>\n",
       "</table>\n",
       "</div>"
      ],
      "text/plain": [
       "Gender   Female  Male  All\n",
       "Product                   \n",
       "KP281        40    40   80\n",
       "KP481        29    31   60\n",
       "KP781         7    33   40\n",
       "All          76   104  180"
      ]
     },
     "execution_count": 26,
     "metadata": {},
     "output_type": "execute_result"
    }
   ],
   "source": [
    "pd.crosstab(index=df['Product'], columns=df['Gender'], margins=True)"
   ]
  },
  {
   "cell_type": "code",
   "execution_count": 27,
   "id": "855dd95a-9bc8-444e-a866-5417bb27235f",
   "metadata": {},
   "outputs": [
    {
     "data": {
      "text/html": [
       "<div>\n",
       "<style scoped>\n",
       "    .dataframe tbody tr th:only-of-type {\n",
       "        vertical-align: middle;\n",
       "    }\n",
       "\n",
       "    .dataframe tbody tr th {\n",
       "        vertical-align: top;\n",
       "    }\n",
       "\n",
       "    .dataframe thead th {\n",
       "        text-align: right;\n",
       "    }\n",
       "</style>\n",
       "<table border=\"1\" class=\"dataframe\">\n",
       "  <thead>\n",
       "    <tr style=\"text-align: right;\">\n",
       "      <th>Gender</th>\n",
       "      <th>Female</th>\n",
       "      <th>Male</th>\n",
       "      <th>All</th>\n",
       "    </tr>\n",
       "    <tr>\n",
       "      <th>Product</th>\n",
       "      <th></th>\n",
       "      <th></th>\n",
       "      <th></th>\n",
       "    </tr>\n",
       "  </thead>\n",
       "  <tbody>\n",
       "    <tr>\n",
       "      <th>KP281</th>\n",
       "      <td>0.22</td>\n",
       "      <td>0.22</td>\n",
       "      <td>0.44</td>\n",
       "    </tr>\n",
       "    <tr>\n",
       "      <th>KP481</th>\n",
       "      <td>0.16</td>\n",
       "      <td>0.17</td>\n",
       "      <td>0.33</td>\n",
       "    </tr>\n",
       "    <tr>\n",
       "      <th>KP781</th>\n",
       "      <td>0.04</td>\n",
       "      <td>0.18</td>\n",
       "      <td>0.22</td>\n",
       "    </tr>\n",
       "    <tr>\n",
       "      <th>All</th>\n",
       "      <td>0.42</td>\n",
       "      <td>0.58</td>\n",
       "      <td>1.00</td>\n",
       "    </tr>\n",
       "  </tbody>\n",
       "</table>\n",
       "</div>"
      ],
      "text/plain": [
       "Gender   Female  Male   All\n",
       "Product                    \n",
       "KP281      0.22  0.22  0.44\n",
       "KP481      0.16  0.17  0.33\n",
       "KP781      0.04  0.18  0.22\n",
       "All        0.42  0.58  1.00"
      ]
     },
     "execution_count": 27,
     "metadata": {},
     "output_type": "execute_result"
    }
   ],
   "source": [
    "pd.crosstab(index=df['Product'], columns=df['Gender'], margins=True, normalize=True).round(2)"
   ]
  },
  {
   "cell_type": "markdown",
   "id": "38e3c066-52a8-47f0-bb9c-627d7762bf69",
   "metadata": {},
   "source": [
    "### From the contigent table above\n",
    "\n",
    "$\\color{blue}{\\text{1. 58% of males (104/180) vs 42% (76/180) females have brought the treadmills in the last 3 months. Males seem to be more active in terms of buying the the brand treadmills.}}$\n",
    "\n",
    "$\\color{blue}{\\text{2. There is an almost equal preference for KP281 and KP481 among males and females, however, KP781 is a more popular choice among males (33 for males vs 7 for females)}}$\n",
    "\n",
    "$\\color{blue}{\\text{3. Lower priced treadmill KP281 is sold twice as much as the highest priced KP781 (80 vs 40).}}$"
   ]
  },
  {
   "cell_type": "markdown",
   "id": "2fd5b625-b835-4e6c-a64a-71c65be3623a",
   "metadata": {},
   "source": [
    "##### "
   ]
  },
  {
   "cell_type": "markdown",
   "id": "78afc789-ed19-498d-bb1c-a41490747a60",
   "metadata": {},
   "source": [
    "## Income (over gender) vs treadmills"
   ]
  },
  {
   "cell_type": "code",
   "execution_count": 28,
   "id": "5ef27fcd-ea05-4272-9b05-f1e4dd244359",
   "metadata": {},
   "outputs": [
    {
     "data": {
      "image/png": "[encoded data removed]",
      "text/plain": [
       "<Figure size 1080x360 with 1 Axes>"
      ]
     },
     "metadata": {
      "needs_background": "light"
     },
     "output_type": "display_data"
    }
   ],
   "source": [
    "plt.figure(figsize=(15,5))\n",
    "sns.boxplot(data=df, y='Income', x='Product', hue='Gender')\n",
    "plt.grid(alpha=0.5)\n",
    "plt.title(' Boxplots showing spread of income of males and females by each catergory of treadmill', fontdict={'fontsize':20})\n",
    "plt.show()"
   ]
  },
  {
   "cell_type": "code",
   "execution_count": 29,
   "id": "995efa58-d632-4f0b-988d-7f4ea08bb7c8",
   "metadata": {},
   "outputs": [
    {
     "data": {
      "image/png": "[encoded data removed]",
      "text/plain": [
       "<Figure size 432x288 with 1 Axes>"
      ]
     },
     "metadata": {
      "needs_background": "light"
     },
     "output_type": "display_data"
    }
   ],
   "source": [
    "sns.boxplot(data=df, y='Income', x='Gender')\n",
    "plt.title('Boxplot of income for 104 males and 76 females', fontdict={'fontsize':20})\n",
    "plt.show()"
   ]
  },
  {
   "cell_type": "code",
   "execution_count": 30,
   "id": "5b8154b4-0d9b-4f53-bbf0-03ab8f1dc242",
   "metadata": {},
   "outputs": [
    {
     "data": {
      "image/png": "[encoded data removed]",
      "text/plain": [
       "<Figure size 1080x360 with 1 Axes>"
      ]
     },
     "metadata": {
      "needs_background": "light"
     },
     "output_type": "display_data"
    }
   ],
   "source": [
    "plt.figure(figsize=(15,5))\n",
    "sns.histplot(data=df, x='Income', hue='Product', kde=True,multiple=\"stack\",shrink=0.98)\n",
    "plt.grid(alpha=0.5)\n",
    "plt.title('Histogram of customers according to their income segmented by different treadmills sold by the brand', fontdict={'fontsize':20})\n",
    "plt.show()"
   ]
  },
  {
   "cell_type": "markdown",
   "id": "133b4eb4-d538-4ea4-a726-419b054e99ac",
   "metadata": {},
   "source": [
    "##### "
   ]
  },
  {
   "cell_type": "markdown",
   "id": "fd0aef09-9ee7-4ab9-8ef2-46b3a88721f5",
   "metadata": {},
   "source": [
    "$\\color{blue}{\\text{1. KP781 is more popular among males as well as higher income folks. There is higher variability in the income for the KP781 group than the other two}}$\n",
    "\n",
    "$\\color{blue}{\\text{2. The IQR of income for males and females buying the treadmills is not very significant (refer the boxplots above and grouped df below), yet only 17% of total folks buying KP781 are females.}}$"
   ]
  },
  {
   "cell_type": "markdown",
   "id": "dd334d89-a4f4-4bf0-9659-59811c02dc15",
   "metadata": {},
   "source": [
    "##### "
   ]
  },
  {
   "cell_type": "code",
   "execution_count": 31,
   "id": "ab7d9c7d-e680-4a3e-bfe9-5e378b16fcaf",
   "metadata": {},
   "outputs": [
    {
     "data": {
      "text/html": [
       "<div>\n",
       "<style scoped>\n",
       "    .dataframe tbody tr th:only-of-type {\n",
       "        vertical-align: middle;\n",
       "    }\n",
       "\n",
       "    .dataframe tbody tr th {\n",
       "        vertical-align: top;\n",
       "    }\n",
       "\n",
       "    .dataframe thead th {\n",
       "        text-align: right;\n",
       "    }\n",
       "</style>\n",
       "<table border=\"1\" class=\"dataframe\">\n",
       "  <thead>\n",
       "    <tr style=\"text-align: right;\">\n",
       "      <th></th>\n",
       "      <th></th>\n",
       "      <th>min</th>\n",
       "      <th>mean</th>\n",
       "      <th>max</th>\n",
       "      <th>median</th>\n",
       "    </tr>\n",
       "    <tr>\n",
       "      <th>Product</th>\n",
       "      <th>Gender</th>\n",
       "      <th></th>\n",
       "      <th></th>\n",
       "      <th></th>\n",
       "      <th></th>\n",
       "    </tr>\n",
       "  </thead>\n",
       "  <tbody>\n",
       "    <tr>\n",
       "      <th rowspan=\"2\" valign=\"top\">KP281</th>\n",
       "      <th>Female</th>\n",
       "      <td>30699</td>\n",
       "      <td>46020.08</td>\n",
       "      <td>67083</td>\n",
       "      <td>46048.5</td>\n",
       "    </tr>\n",
       "    <tr>\n",
       "      <th>Male</th>\n",
       "      <td>29562</td>\n",
       "      <td>46815.98</td>\n",
       "      <td>68220</td>\n",
       "      <td>46617.0</td>\n",
       "    </tr>\n",
       "    <tr>\n",
       "      <th rowspan=\"2\" valign=\"top\">KP481</th>\n",
       "      <th>Female</th>\n",
       "      <td>34110</td>\n",
       "      <td>49336.45</td>\n",
       "      <td>65220</td>\n",
       "      <td>48891.0</td>\n",
       "    </tr>\n",
       "    <tr>\n",
       "      <th>Male</th>\n",
       "      <td>31836</td>\n",
       "      <td>48634.26</td>\n",
       "      <td>67083</td>\n",
       "      <td>50028.0</td>\n",
       "    </tr>\n",
       "    <tr>\n",
       "      <th rowspan=\"2\" valign=\"top\">KP781</th>\n",
       "      <th>Female</th>\n",
       "      <td>52291</td>\n",
       "      <td>73633.86</td>\n",
       "      <td>95866</td>\n",
       "      <td>69721.0</td>\n",
       "    </tr>\n",
       "    <tr>\n",
       "      <th>Male</th>\n",
       "      <td>48556</td>\n",
       "      <td>75825.03</td>\n",
       "      <td>104581</td>\n",
       "      <td>77191.0</td>\n",
       "    </tr>\n",
       "  </tbody>\n",
       "</table>\n",
       "</div>"
      ],
      "text/plain": [
       "                  min      mean     max   median\n",
       "Product Gender                                  \n",
       "KP281   Female  30699  46020.08   67083  46048.5\n",
       "        Male    29562  46815.98   68220  46617.0\n",
       "KP481   Female  34110  49336.45   65220  48891.0\n",
       "        Male    31836  48634.26   67083  50028.0\n",
       "KP781   Female  52291  73633.86   95866  69721.0\n",
       "        Male    48556  75825.03  104581  77191.0"
      ]
     },
     "execution_count": 31,
     "metadata": {},
     "output_type": "execute_result"
    }
   ],
   "source": [
    "df.groupby(['Product','Gender'])['Income'].agg(['min','mean','max','median']).round(2)"
   ]
  },
  {
   "cell_type": "markdown",
   "id": "822ac95e-1735-4cb7-903b-49f3f50252b3",
   "metadata": {},
   "source": [
    "#### "
   ]
  },
  {
   "cell_type": "markdown",
   "id": "2ca1f9ad-aeea-4336-8e84-f72c20503ba8",
   "metadata": {},
   "source": [
    "## Treadmill vs Marital Status"
   ]
  },
  {
   "cell_type": "code",
   "execution_count": 32,
   "id": "b55c27b8-7e2a-4ea2-95ef-3413133150dd",
   "metadata": {},
   "outputs": [
    {
     "data": {
      "text/html": [
       "<div>\n",
       "<style scoped>\n",
       "    .dataframe tbody tr th:only-of-type {\n",
       "        vertical-align: middle;\n",
       "    }\n",
       "\n",
       "    .dataframe tbody tr th {\n",
       "        vertical-align: top;\n",
       "    }\n",
       "\n",
       "    .dataframe thead th {\n",
       "        text-align: right;\n",
       "    }\n",
       "</style>\n",
       "<table border=\"1\" class=\"dataframe\">\n",
       "  <thead>\n",
       "    <tr style=\"text-align: right;\">\n",
       "      <th>MaritalStatus</th>\n",
       "      <th>Partnered</th>\n",
       "      <th>Single</th>\n",
       "      <th>All</th>\n",
       "    </tr>\n",
       "    <tr>\n",
       "      <th>Product</th>\n",
       "      <th></th>\n",
       "      <th></th>\n",
       "      <th></th>\n",
       "    </tr>\n",
       "  </thead>\n",
       "  <tbody>\n",
       "    <tr>\n",
       "      <th>KP281</th>\n",
       "      <td>48</td>\n",
       "      <td>32</td>\n",
       "      <td>80</td>\n",
       "    </tr>\n",
       "    <tr>\n",
       "      <th>KP481</th>\n",
       "      <td>36</td>\n",
       "      <td>24</td>\n",
       "      <td>60</td>\n",
       "    </tr>\n",
       "    <tr>\n",
       "      <th>KP781</th>\n",
       "      <td>23</td>\n",
       "      <td>17</td>\n",
       "      <td>40</td>\n",
       "    </tr>\n",
       "    <tr>\n",
       "      <th>All</th>\n",
       "      <td>107</td>\n",
       "      <td>73</td>\n",
       "      <td>180</td>\n",
       "    </tr>\n",
       "  </tbody>\n",
       "</table>\n",
       "</div>"
      ],
      "text/plain": [
       "MaritalStatus  Partnered  Single  All\n",
       "Product                              \n",
       "KP281                 48      32   80\n",
       "KP481                 36      24   60\n",
       "KP781                 23      17   40\n",
       "All                  107      73  180"
      ]
     },
     "execution_count": 32,
     "metadata": {},
     "output_type": "execute_result"
    }
   ],
   "source": [
    "pd.crosstab(index=df['Product'], columns=df['MaritalStatus'], margins=True)"
   ]
  },
  {
   "cell_type": "code",
   "execution_count": 33,
   "id": "15373e1e-67e6-47c2-a630-f52e55b4fb37",
   "metadata": {},
   "outputs": [],
   "source": [
    "# pd.crosstab(index=df['Product'], columns=df['MaritalStatus'],normalize=True).round(2)"
   ]
  },
  {
   "cell_type": "code",
   "execution_count": 34,
   "id": "759d086d-120c-4944-8c12-5680e7ddb2d4",
   "metadata": {},
   "outputs": [
    {
     "data": {
      "image/png": "[encoded data removed]",
      "text/plain": [
       "<Figure size 576x360 with 1 Axes>"
      ]
     },
     "metadata": {
      "needs_background": "light"
     },
     "output_type": "display_data"
    }
   ],
   "source": [
    "plt.figure(figsize=(8,5))\n",
    "sns.countplot(data=df, x='Product', hue='MaritalStatus')\n",
    "plt.grid(alpha=0.5)\n",
    "plt.title('Count of customers according to their marital status segmented by 3 treadmills', fontdict={'fontsize':20})\n",
    "plt.show()"
   ]
  },
  {
   "cell_type": "markdown",
   "id": "b445df87-13ec-4d73-aa0f-82dc7f7795f9",
   "metadata": {},
   "source": [
    "$\\color{blue}{\\text{The sale distribution among partnered and single people is 60% KP281, 60% KP481, and 58% KP781 for partnered customers. Clearly, partnered individuals have bought more treadmills than single across all 3 categories}}$"
   ]
  },
  {
   "cell_type": "markdown",
   "id": "aa3e7c6c-d869-4a82-b60e-60748c038df0",
   "metadata": {},
   "source": [
    "##### "
   ]
  },
  {
   "cell_type": "markdown",
   "id": "9ea9c6f8-085a-4791-b805-6c4c331d020e",
   "metadata": {},
   "source": [
    "## Treadmills vs Fitness"
   ]
  },
  {
   "cell_type": "code",
   "execution_count": 35,
   "id": "fcedd2f8-c372-4304-9b89-6f5a23f6b65f",
   "metadata": {},
   "outputs": [
    {
     "data": {
      "text/html": [
       "<div>\n",
       "<style scoped>\n",
       "    .dataframe tbody tr th:only-of-type {\n",
       "        vertical-align: middle;\n",
       "    }\n",
       "\n",
       "    .dataframe tbody tr th {\n",
       "        vertical-align: top;\n",
       "    }\n",
       "\n",
       "    .dataframe thead th {\n",
       "        text-align: right;\n",
       "    }\n",
       "</style>\n",
       "<table border=\"1\" class=\"dataframe\">\n",
       "  <thead>\n",
       "    <tr style=\"text-align: right;\">\n",
       "      <th></th>\n",
       "      <th>Product</th>\n",
       "      <th>Age</th>\n",
       "      <th>Gender</th>\n",
       "      <th>Education</th>\n",
       "      <th>MaritalStatus</th>\n",
       "      <th>Usage</th>\n",
       "      <th>Fitness</th>\n",
       "      <th>Income</th>\n",
       "      <th>Miles</th>\n",
       "    </tr>\n",
       "  </thead>\n",
       "  <tbody>\n",
       "    <tr>\n",
       "      <th>0</th>\n",
       "      <td>KP281</td>\n",
       "      <td>18</td>\n",
       "      <td>Male</td>\n",
       "      <td>14</td>\n",
       "      <td>Single</td>\n",
       "      <td>3</td>\n",
       "      <td>4</td>\n",
       "      <td>29562</td>\n",
       "      <td>112</td>\n",
       "    </tr>\n",
       "    <tr>\n",
       "      <th>1</th>\n",
       "      <td>KP281</td>\n",
       "      <td>19</td>\n",
       "      <td>Male</td>\n",
       "      <td>15</td>\n",
       "      <td>Single</td>\n",
       "      <td>2</td>\n",
       "      <td>3</td>\n",
       "      <td>31836</td>\n",
       "      <td>75</td>\n",
       "    </tr>\n",
       "    <tr>\n",
       "      <th>2</th>\n",
       "      <td>KP281</td>\n",
       "      <td>19</td>\n",
       "      <td>Female</td>\n",
       "      <td>14</td>\n",
       "      <td>Partnered</td>\n",
       "      <td>4</td>\n",
       "      <td>3</td>\n",
       "      <td>30699</td>\n",
       "      <td>66</td>\n",
       "    </tr>\n",
       "    <tr>\n",
       "      <th>3</th>\n",
       "      <td>KP281</td>\n",
       "      <td>19</td>\n",
       "      <td>Male</td>\n",
       "      <td>12</td>\n",
       "      <td>Single</td>\n",
       "      <td>3</td>\n",
       "      <td>3</td>\n",
       "      <td>32973</td>\n",
       "      <td>85</td>\n",
       "    </tr>\n",
       "    <tr>\n",
       "      <th>4</th>\n",
       "      <td>KP281</td>\n",
       "      <td>20</td>\n",
       "      <td>Male</td>\n",
       "      <td>13</td>\n",
       "      <td>Partnered</td>\n",
       "      <td>4</td>\n",
       "      <td>2</td>\n",
       "      <td>35247</td>\n",
       "      <td>47</td>\n",
       "    </tr>\n",
       "    <tr>\n",
       "      <th>...</th>\n",
       "      <td>...</td>\n",
       "      <td>...</td>\n",
       "      <td>...</td>\n",
       "      <td>...</td>\n",
       "      <td>...</td>\n",
       "      <td>...</td>\n",
       "      <td>...</td>\n",
       "      <td>...</td>\n",
       "      <td>...</td>\n",
       "    </tr>\n",
       "    <tr>\n",
       "      <th>175</th>\n",
       "      <td>KP781</td>\n",
       "      <td>40</td>\n",
       "      <td>Male</td>\n",
       "      <td>21</td>\n",
       "      <td>Single</td>\n",
       "      <td>6</td>\n",
       "      <td>5</td>\n",
       "      <td>83416</td>\n",
       "      <td>200</td>\n",
       "    </tr>\n",
       "    <tr>\n",
       "      <th>176</th>\n",
       "      <td>KP781</td>\n",
       "      <td>42</td>\n",
       "      <td>Male</td>\n",
       "      <td>18</td>\n",
       "      <td>Single</td>\n",
       "      <td>5</td>\n",
       "      <td>4</td>\n",
       "      <td>89641</td>\n",
       "      <td>200</td>\n",
       "    </tr>\n",
       "    <tr>\n",
       "      <th>177</th>\n",
       "      <td>KP781</td>\n",
       "      <td>45</td>\n",
       "      <td>Male</td>\n",
       "      <td>16</td>\n",
       "      <td>Single</td>\n",
       "      <td>5</td>\n",
       "      <td>5</td>\n",
       "      <td>90886</td>\n",
       "      <td>160</td>\n",
       "    </tr>\n",
       "    <tr>\n",
       "      <th>178</th>\n",
       "      <td>KP781</td>\n",
       "      <td>47</td>\n",
       "      <td>Male</td>\n",
       "      <td>18</td>\n",
       "      <td>Partnered</td>\n",
       "      <td>4</td>\n",
       "      <td>5</td>\n",
       "      <td>104581</td>\n",
       "      <td>120</td>\n",
       "    </tr>\n",
       "    <tr>\n",
       "      <th>179</th>\n",
       "      <td>KP781</td>\n",
       "      <td>48</td>\n",
       "      <td>Male</td>\n",
       "      <td>18</td>\n",
       "      <td>Partnered</td>\n",
       "      <td>4</td>\n",
       "      <td>5</td>\n",
       "      <td>95508</td>\n",
       "      <td>180</td>\n",
       "    </tr>\n",
       "  </tbody>\n",
       "</table>\n",
       "<p>180 rows × 9 columns</p>\n",
       "</div>"
      ],
      "text/plain": [
       "    Product  Age  Gender  Education MaritalStatus  Usage  Fitness  Income  \\\n",
       "0     KP281   18    Male         14        Single      3        4   29562   \n",
       "1     KP281   19    Male         15        Single      2        3   31836   \n",
       "2     KP281   19  Female         14     Partnered      4        3   30699   \n",
       "3     KP281   19    Male         12        Single      3        3   32973   \n",
       "4     KP281   20    Male         13     Partnered      4        2   35247   \n",
       "..      ...  ...     ...        ...           ...    ...      ...     ...   \n",
       "175   KP781   40    Male         21        Single      6        5   83416   \n",
       "176   KP781   42    Male         18        Single      5        4   89641   \n",
       "177   KP781   45    Male         16        Single      5        5   90886   \n",
       "178   KP781   47    Male         18     Partnered      4        5  104581   \n",
       "179   KP781   48    Male         18     Partnered      4        5   95508   \n",
       "\n",
       "     Miles  \n",
       "0      112  \n",
       "1       75  \n",
       "2       66  \n",
       "3       85  \n",
       "4       47  \n",
       "..     ...  \n",
       "175    200  \n",
       "176    200  \n",
       "177    160  \n",
       "178    120  \n",
       "179    180  \n",
       "\n",
       "[180 rows x 9 columns]"
      ]
     },
     "execution_count": 35,
     "metadata": {},
     "output_type": "execute_result"
    }
   ],
   "source": [
    "df"
   ]
  },
  {
   "cell_type": "code",
   "execution_count": 36,
   "id": "8ee48945-69b7-412d-92e7-18fde55ec084",
   "metadata": {},
   "outputs": [
    {
     "data": {
      "text/plain": [
       "3    53.89\n",
       "5    17.22\n",
       "2    14.44\n",
       "4    13.33\n",
       "1     1.11\n",
       "Name: Fitness, dtype: float64"
      ]
     },
     "execution_count": 36,
     "metadata": {},
     "output_type": "execute_result"
    }
   ],
   "source": [
    "(df['Fitness'].value_counts(normalize=True)*100).round(2)"
   ]
  },
  {
   "cell_type": "code",
   "execution_count": 37,
   "id": "5dcf762f-3440-43ba-a705-239811550bcb",
   "metadata": {},
   "outputs": [
    {
     "data": {
      "image/png": "[encoded data removed]",
      "text/plain": [
       "<Figure size 432x288 with 1 Axes>"
      ]
     },
     "metadata": {
      "needs_background": "light"
     },
     "output_type": "display_data"
    }
   ],
   "source": [
    "df['Fitness'].value_counts().sort_values(ascending=False).plot(kind='bar', grid=True)\n",
    "plt.title('Count of customers according to their self-claimed fitness score', fontdict={'fontsize':20})\n",
    "plt.show()"
   ]
  },
  {
   "cell_type": "code",
   "execution_count": 38,
   "id": "8d641f0b-9838-4a20-ae14-81ef57f20cac",
   "metadata": {},
   "outputs": [
    {
     "data": {
      "image/png": "[encoded data removed]",
      "text/plain": [
       "<Figure size 936x360 with 1 Axes>"
      ]
     },
     "metadata": {
      "needs_background": "light"
     },
     "output_type": "display_data"
    }
   ],
   "source": [
    "plt.figure(figsize=(13,5))\n",
    "sns.countplot(data=df, hue='Product', x='Fitness')\n",
    "plt.grid(alpha=0.5)\n",
    "plt.title('Count of customers according to their self-claimed fitness score segmented by different treadmills', fontdict={'fontsize':20})\n",
    "plt.show()"
   ]
  },
  {
   "cell_type": "markdown",
   "id": "78c86cca-ba11-4d9d-bb33-094187a6ab56",
   "metadata": {},
   "source": [
    "$\\color{blue}{\\text{The brand customer base mainly consists of people who think they are moderately fit (fitness rating 3, 54%) followed by people who rate themselves 5 (17%).}}$\n",
    "\n",
    "$\\color{blue}{\\text{The brand is poorly represented amoung people who rate themselves 1 (just 1%) on the fitness scale. There is a great opportunity for the brand to increase the sales. Should invest in fitness campaign and then offer discounts for people who attend it.}}$"
   ]
  },
  {
   "cell_type": "markdown",
   "id": "a5115089-deb4-4d7b-94ac-c6c4d51772bf",
   "metadata": {},
   "source": [
    "##### "
   ]
  },
  {
   "cell_type": "markdown",
   "id": "d961d75f-c73d-4031-aa68-4b8f2348d187",
   "metadata": {},
   "source": [
    "## Treadmill vs Mileage and Usage and Fitness"
   ]
  },
  {
   "cell_type": "code",
   "execution_count": 39,
   "id": "8ff02e12-e82c-470d-99f3-085b612cf4e5",
   "metadata": {},
   "outputs": [
    {
     "data": {
      "image/png": "[encoded data removed]",
      "text/plain": [
       "<Figure size 720x360 with 1 Axes>"
      ]
     },
     "metadata": {
      "needs_background": "light"
     },
     "output_type": "display_data"
    }
   ],
   "source": [
    "plt.figure(figsize=(10,5))\n",
    "sns.boxplot(data=df, y='Miles', x='Product')\n",
    "plt.grid(alpha=0.5)\n",
    "plt.title('Expected miles per week segmented by 3 treadmills', fontdict={'fontsize':20})\n",
    "plt.show()"
   ]
  },
  {
   "cell_type": "code",
   "execution_count": 40,
   "id": "eafd3dbc-c13d-4c60-890b-0753361584cb",
   "metadata": {},
   "outputs": [
    {
     "data": {
      "image/png": "[encoded data removed]",
      "text/plain": [
       "<Figure size 1080x504 with 1 Axes>"
      ]
     },
     "metadata": {
      "needs_background": "light"
     },
     "output_type": "display_data"
    }
   ],
   "source": [
    "plt.figure(figsize=(15,7))\n",
    "sns.boxplot(data=df, y='Miles', x='Product', hue='Usage',palette='Reds')\n",
    "plt.grid(alpha=0.5)\n",
    "plt.title('Expected miles per week segmented by usage (number of times per week) over different treadmills', fontdict={'fontsize':20})\n",
    "plt.show()"
   ]
  },
  {
   "cell_type": "code",
   "execution_count": 41,
   "id": "06d1f9be-3129-4a37-8a45-06a6350d3929",
   "metadata": {},
   "outputs": [
    {
     "data": {
      "image/png": "[encoded data removed]",
      "text/plain": [
       "<Figure size 1080x504 with 1 Axes>"
      ]
     },
     "metadata": {
      "needs_background": "light"
     },
     "output_type": "display_data"
    }
   ],
   "source": [
    "plt.figure(figsize=(15,7))\n",
    "sns.boxplot(data=df, y='Miles', x='Product', hue='Fitness', palette='Greens')\n",
    "plt.grid(alpha=0.5)\n",
    "# plt.legend(loc='lower left',)\n",
    "plt.title('Expected miles per week per treadmill segmented by fitness rated by customer', fontdict={'fontsize':20})\n",
    "plt.show()"
   ]
  },
  {
   "cell_type": "markdown",
   "id": "3921ab59-caeb-403b-af1c-9a5a5aea36e5",
   "metadata": {},
   "source": [
    "$\\color{blue}{\\text{Folks spending more on the treadmill also expect themselves to utilise more as more miles are recorded for KP781 than the other two.}}$\n",
    "\n",
    "$\\color{blue}{\\text{Usage and miles are correlated as seen earlier in the correlation pair plots. People who intend to use more times per week recorded more miles}}$\n",
    "\n",
    "\n",
    "$\\color{blue}{\\text{Across all 3 treadmills, people who rate themselves higher on the fitness scale are putting higher expected miles to walk/run per week}}$"
   ]
  },
  {
   "cell_type": "markdown",
   "id": "36a76952-bfe2-4ea4-8dc8-e2fcb58df286",
   "metadata": {},
   "source": [
    "##### "
   ]
  },
  {
   "cell_type": "markdown",
   "id": "86fc04df-0242-4fda-bd9b-02295d5fe41e",
   "metadata": {},
   "source": [
    "## Treadmills vs Age"
   ]
  },
  {
   "cell_type": "code",
   "execution_count": 42,
   "id": "71ed48b6-ad7d-4962-8066-51e60a936819",
   "metadata": {},
   "outputs": [
    {
     "data": {
      "image/png": "[encoded data removed]",
      "text/plain": [
       "<Figure size 432x288 with 1 Axes>"
      ]
     },
     "metadata": {
      "needs_background": "light"
     },
     "output_type": "display_data"
    }
   ],
   "source": [
    "sns.boxplot(data=df, y='Age', x='Product')\n",
    "plt.grid(alpha=0.5)\n",
    "plt.title('Age (no. of years) segmented by treadmills')\n",
    "plt.show()"
   ]
  },
  {
   "cell_type": "code",
   "execution_count": 43,
   "id": "234286b3-19ac-416f-b501-d7ecc1da12e7",
   "metadata": {},
   "outputs": [
    {
     "data": {
      "text/html": [
       "<div>\n",
       "<style scoped>\n",
       "    .dataframe tbody tr th:only-of-type {\n",
       "        vertical-align: middle;\n",
       "    }\n",
       "\n",
       "    .dataframe tbody tr th {\n",
       "        vertical-align: top;\n",
       "    }\n",
       "\n",
       "    .dataframe thead th {\n",
       "        text-align: right;\n",
       "    }\n",
       "</style>\n",
       "<table border=\"1\" class=\"dataframe\">\n",
       "  <thead>\n",
       "    <tr style=\"text-align: right;\">\n",
       "      <th></th>\n",
       "      <th>min</th>\n",
       "      <th>max</th>\n",
       "      <th>mean</th>\n",
       "      <th>median</th>\n",
       "    </tr>\n",
       "    <tr>\n",
       "      <th>Product</th>\n",
       "      <th></th>\n",
       "      <th></th>\n",
       "      <th></th>\n",
       "      <th></th>\n",
       "    </tr>\n",
       "  </thead>\n",
       "  <tbody>\n",
       "    <tr>\n",
       "      <th>KP281</th>\n",
       "      <td>18</td>\n",
       "      <td>50</td>\n",
       "      <td>28.55</td>\n",
       "      <td>26</td>\n",
       "    </tr>\n",
       "    <tr>\n",
       "      <th>KP481</th>\n",
       "      <td>19</td>\n",
       "      <td>48</td>\n",
       "      <td>28.90</td>\n",
       "      <td>26</td>\n",
       "    </tr>\n",
       "    <tr>\n",
       "      <th>KP781</th>\n",
       "      <td>22</td>\n",
       "      <td>48</td>\n",
       "      <td>29.10</td>\n",
       "      <td>27</td>\n",
       "    </tr>\n",
       "  </tbody>\n",
       "</table>\n",
       "</div>"
      ],
      "text/plain": [
       "         min  max   mean  median\n",
       "Product                         \n",
       "KP281     18   50  28.55      26\n",
       "KP481     19   48  28.90      26\n",
       "KP781     22   48  29.10      27"
      ]
     },
     "execution_count": 43,
     "metadata": {},
     "output_type": "execute_result"
    }
   ],
   "source": [
    "df.groupby(['Product'])['Age'].agg([min, max, 'mean', 'median'])"
   ]
  },
  {
   "cell_type": "markdown",
   "id": "aec9fcbd-2e64-4276-9e1b-c83f7839a10b",
   "metadata": {},
   "source": [
    "$\\color{blue}{\\text{Age doesn't seem to influence the type of treadmill bought by the customers.}}$"
   ]
  },
  {
   "cell_type": "markdown",
   "id": "09c876ed-e1df-4c7d-a884-b06dc1c39675",
   "metadata": {},
   "source": [
    "##### "
   ]
  },
  {
   "cell_type": "markdown",
   "id": "311f08ac-705e-4ce9-bc3b-9740e980b885",
   "metadata": {},
   "source": [
    "## Treadmills vs Education"
   ]
  },
  {
   "cell_type": "code",
   "execution_count": 44,
   "id": "e52fc142-8430-4533-a4d5-c15a26377953",
   "metadata": {},
   "outputs": [
    {
     "data": {
      "image/png": "[encoded data removed]",
      "text/plain": [
       "<Figure size 432x288 with 1 Axes>"
      ]
     },
     "metadata": {
      "needs_background": "light"
     },
     "output_type": "display_data"
    }
   ],
   "source": [
    "sns.boxplot(data=df, y='Education', x='Product')\n",
    "plt.grid(alpha=0.5)\n",
    "plt.title('Education (no. of years) segmented by treadmills')\n",
    "plt.show()"
   ]
  },
  {
   "cell_type": "code",
   "execution_count": 45,
   "id": "4fa71ce0-784f-4a2d-b5d7-4798d04cf966",
   "metadata": {},
   "outputs": [
    {
     "data": {
      "text/html": [
       "<div>\n",
       "<style scoped>\n",
       "    .dataframe tbody tr th:only-of-type {\n",
       "        vertical-align: middle;\n",
       "    }\n",
       "\n",
       "    .dataframe tbody tr th {\n",
       "        vertical-align: top;\n",
       "    }\n",
       "\n",
       "    .dataframe thead th {\n",
       "        text-align: right;\n",
       "    }\n",
       "</style>\n",
       "<table border=\"1\" class=\"dataframe\">\n",
       "  <thead>\n",
       "    <tr style=\"text-align: right;\">\n",
       "      <th></th>\n",
       "      <th>min</th>\n",
       "      <th>max</th>\n",
       "      <th>mean</th>\n",
       "      <th>median</th>\n",
       "    </tr>\n",
       "    <tr>\n",
       "      <th>Product</th>\n",
       "      <th></th>\n",
       "      <th></th>\n",
       "      <th></th>\n",
       "      <th></th>\n",
       "    </tr>\n",
       "  </thead>\n",
       "  <tbody>\n",
       "    <tr>\n",
       "      <th>KP281</th>\n",
       "      <td>12</td>\n",
       "      <td>18</td>\n",
       "      <td>15.0</td>\n",
       "      <td>16</td>\n",
       "    </tr>\n",
       "    <tr>\n",
       "      <th>KP481</th>\n",
       "      <td>12</td>\n",
       "      <td>18</td>\n",
       "      <td>15.0</td>\n",
       "      <td>16</td>\n",
       "    </tr>\n",
       "    <tr>\n",
       "      <th>KP781</th>\n",
       "      <td>14</td>\n",
       "      <td>21</td>\n",
       "      <td>17.0</td>\n",
       "      <td>18</td>\n",
       "    </tr>\n",
       "  </tbody>\n",
       "</table>\n",
       "</div>"
      ],
      "text/plain": [
       "         min  max  mean  median\n",
       "Product                        \n",
       "KP281     12   18  15.0      16\n",
       "KP481     12   18  15.0      16\n",
       "KP781     14   21  17.0      18"
      ]
     },
     "execution_count": 45,
     "metadata": {},
     "output_type": "execute_result"
    }
   ],
   "source": [
    "df.groupby(['Product'])['Education'].agg([min,max,'mean','median']).round(0)"
   ]
  },
  {
   "cell_type": "code",
   "execution_count": 46,
   "id": "b04adbcb-04d0-413d-9915-145012eec4c9",
   "metadata": {},
   "outputs": [
    {
     "data": {
      "text/plain": [
       "KP281    80\n",
       "KP481    60\n",
       "KP781    40\n",
       "Name: Product, dtype: int64"
      ]
     },
     "execution_count": 46,
     "metadata": {},
     "output_type": "execute_result"
    }
   ],
   "source": [
    "df['Product'].value_counts()"
   ]
  },
  {
   "cell_type": "markdown",
   "id": "6a45daaa-d0a9-4e32-8b09-4f91121d70f2",
   "metadata": {},
   "source": [
    "##### "
   ]
  },
  {
   "cell_type": "markdown",
   "id": "21dd0267-ddb6-41f3-80a9-66d64f6c36dc",
   "metadata": {},
   "source": [
    "$\\color{blue}{\\text{The median years of education of people buying KP781 is 18 years (for 40 people) which is higher than for the other two treadmills (16 years).}}$"
   ]
  },
  {
   "cell_type": "markdown",
   "id": "a4472dca-88ff-47c6-a568-f0accd934798",
   "metadata": {},
   "source": [
    "## "
   ]
  },
  {
   "cell_type": "markdown",
   "id": "c3e9cc3f-75ba-4f03-a32a-0cc3a2fff725",
   "metadata": {},
   "source": [
    "## Miscellaneous"
   ]
  },
  {
   "cell_type": "markdown",
   "id": "546136be-4aab-41f8-89fe-d031dda500a9",
   "metadata": {},
   "source": [
    "######"
   ]
  },
  {
   "cell_type": "markdown",
   "id": "f6116f99-e1bb-4355-aad7-9f5945674d1c",
   "metadata": {},
   "source": [
    "#### Revenue from treadmills"
   ]
  },
  {
   "cell_type": "code",
   "execution_count": 47,
   "id": "3bbf14e2-7b33-441e-8faf-37e7029385ac",
   "metadata": {},
   "outputs": [
    {
     "data": {
      "text/plain": [
       "KP281    80\n",
       "KP481    60\n",
       "KP781    40\n",
       "Name: Product, dtype: int64"
      ]
     },
     "execution_count": 47,
     "metadata": {},
     "output_type": "execute_result"
    }
   ],
   "source": [
    "k = df['Product'].value_counts()\n",
    "k"
   ]
  },
  {
   "cell_type": "code",
   "execution_count": 48,
   "id": "364fa9f0-fd95-40f2-82b1-500a62bd4abc",
   "metadata": {},
   "outputs": [],
   "source": [
    "price_treadmill = {'KP281': 1500,\n",
    "                   'KP481': 1750,\n",
    "                   'KP781': 2500}"
   ]
  },
  {
   "cell_type": "code",
   "execution_count": 49,
   "id": "1916fff1-b9de-477a-9c83-932dbc8b4db4",
   "metadata": {},
   "outputs": [
    {
     "name": "stdout",
     "output_type": "stream",
     "text": [
      "Revenue for KP281 is 80 * 1500 = $120000\n",
      "Revenue for KP481 is 60 * 1750 = $105000\n",
      "Revenue for KP781 is 40 * 2500 = $100000\n"
     ]
    }
   ],
   "source": [
    "for i in price_treadmill:\n",
    "    print(f'Revenue for {i} is {k[i]} * {price_treadmill[i]} = ${k[i]*price_treadmill[i]}')\n",
    "    "
   ]
  },
  {
   "cell_type": "markdown",
   "id": "363cf0ef-d43f-42ca-ae1f-b8a277da177d",
   "metadata": {},
   "source": [
    "$\\color{blue}{\\text{The revenue for KP281 is only \\$20000 more than KP781 in the last 3 months however, the units sold for KP281 is twice as much as of KP781.}}$ \n",
    "\n",
    "$\\color{blue}{\\text{If the brand could sell just 8 more units of KP781 (or 6 more if compared with KP481), it would have generated the same revenue as KP281. In other words, it would be worth while to invest in increasing the sale of KP781.}}$"
   ]
  },
  {
   "cell_type": "markdown",
   "id": "b78283fd-a1f6-4e33-bf82-7daaba6a87ca",
   "metadata": {},
   "source": [
    "# "
   ]
  },
  {
   "cell_type": "markdown",
   "id": "6e191782-601a-4dce-a358-4a76fe6b680b",
   "metadata": {},
   "source": [
    "# Recommendations"
   ]
  },
  {
   "cell_type": "markdown",
   "id": "102e30bb-24ea-4bbc-b91f-623455e7cc19",
   "metadata": {},
   "source": [
    "a.\tThere are 16% more males in the customer base of the brand as compared to females. This difference majorly comes from the difference in the sale of premium range treadmill (KP781). For the other two treadmills (KP281 and KP481), the buying ratio of males to females is almost equal but not for KP781 (82.5 % males vs 17.5 % females). Understanding why KP781 is more appealing to males than females is recommended.\n",
    "\n",
    "\n",
    "b.\t75% of KP781 is bought by people having an income of at least $60,000. Targeting females beyond this income range would be useful. Also, providing EMI options for KP781 might make it more accessible for relatively lower income group.\n",
    "\n",
    "\n",
    "c.\tThe revenue for KP281 is only $20000 more than KP781 in the last 3 months however, the units sold for KP281 (80 machines) is twice as much as of KP781 (40 machines). If the brand could sell just 8 more units of KP781 (or 6 more if compared with KP481), it would have generated the same revenue as KP281. In other words, it would be worthwhile to invest in increasing the sale of KP781 tying back to the previous points.\n",
    "\n",
    "\n",
    "d.\tThe sale distribution among partnered and single people is 60% KP281, 60% KP481, and 58% KP781 for partnered customers. Clearly, partnered customers have a higher probability of getting a treadmill as compared to single individuals. Could offer higher discounts for single individuals on their birthdays to promote sales among this groups. Also, call partnered individuals on anniversaries to offer discounts. \n",
    "\n",
    "\n",
    "e.\tThe brand is poorly represented among people (just 1% of total customers) who rate themselves 1 on the fitness scale. There is a potential to increase sales. Should run fitness campaigns and then promote products in the campaign. Perhaps, give on spot reduced prices to people who attend it."
   ]
  },
  {
   "cell_type": "markdown",
   "id": "dac62f12-5cdd-4b8b-8c81-eaaafae0d3b8",
   "metadata": {},
   "source": [
    "### Treadmill profile for targeted recommendation:\n",
    "\n",
    "\n",
    "$\\color{green}{\\text{i. In general, KP781 is popular among males, higher income ($ \\$60000 \\ $ to $ \\$ 90000$) group, fitness rating of 5, and expect to use it 4 to 7 times per week. }}$\n",
    "\n",
    "    \n",
    " $\\color{green}{\\text{ii. KP281 is equally preferred between males and females but more among partnered individuals, people who rate themselves 2, 3 or 4 on the fitness scale, expected usage of 2 – 5 times per week, income range of \\$40000 to \\$50000. }}$ \n",
    " \n",
    " $\\color{green}{\\text{iii. Almost similar attributes as KP281 are also for customers to recommend KP481. It will come down to a matter of personal choice of the customer.}}$ \n",
    "\n",
    "$\\color{green}{\\text{iv. Age or level of education can be disregarded while making the recommendation of treadmills.}}$\n"
   ]
  },
  {
   "cell_type": "markdown",
   "id": "66259996-0bd1-49f2-ad58-4338cd8ac0ca",
   "metadata": {},
   "source": [
    "****"
   ]
  },
  {
   "cell_type": "markdown",
   "id": "b541251e-40d5-4813-a46f-fddd331820a1",
   "metadata": {},
   "source": [
    "#### "
   ]
  },
  {
   "cell_type": "code",
   "execution_count": 50,
   "id": "794f4435-b177-45e4-8850-c3d3d20ff774",
   "metadata": {},
   "outputs": [
    {
     "data": {
      "text/html": [
       "<div>\n",
       "<style scoped>\n",
       "    .dataframe tbody tr th:only-of-type {\n",
       "        vertical-align: middle;\n",
       "    }\n",
       "\n",
       "    .dataframe tbody tr th {\n",
       "        vertical-align: top;\n",
       "    }\n",
       "\n",
       "    .dataframe thead th {\n",
       "        text-align: right;\n",
       "    }\n",
       "</style>\n",
       "<table border=\"1\" class=\"dataframe\">\n",
       "  <thead>\n",
       "    <tr style=\"text-align: right;\">\n",
       "      <th></th>\n",
       "      <th>Product</th>\n",
       "      <th>Age</th>\n",
       "      <th>Gender</th>\n",
       "      <th>Education</th>\n",
       "      <th>MaritalStatus</th>\n",
       "      <th>Usage</th>\n",
       "      <th>Fitness</th>\n",
       "      <th>Income</th>\n",
       "      <th>Miles</th>\n",
       "    </tr>\n",
       "  </thead>\n",
       "  <tbody>\n",
       "    <tr>\n",
       "      <th>0</th>\n",
       "      <td>KP281</td>\n",
       "      <td>18</td>\n",
       "      <td>Male</td>\n",
       "      <td>14</td>\n",
       "      <td>Single</td>\n",
       "      <td>3</td>\n",
       "      <td>4</td>\n",
       "      <td>29562</td>\n",
       "      <td>112</td>\n",
       "    </tr>\n",
       "    <tr>\n",
       "      <th>1</th>\n",
       "      <td>KP281</td>\n",
       "      <td>19</td>\n",
       "      <td>Male</td>\n",
       "      <td>15</td>\n",
       "      <td>Single</td>\n",
       "      <td>2</td>\n",
       "      <td>3</td>\n",
       "      <td>31836</td>\n",
       "      <td>75</td>\n",
       "    </tr>\n",
       "    <tr>\n",
       "      <th>2</th>\n",
       "      <td>KP281</td>\n",
       "      <td>19</td>\n",
       "      <td>Female</td>\n",
       "      <td>14</td>\n",
       "      <td>Partnered</td>\n",
       "      <td>4</td>\n",
       "      <td>3</td>\n",
       "      <td>30699</td>\n",
       "      <td>66</td>\n",
       "    </tr>\n",
       "    <tr>\n",
       "      <th>3</th>\n",
       "      <td>KP281</td>\n",
       "      <td>19</td>\n",
       "      <td>Male</td>\n",
       "      <td>12</td>\n",
       "      <td>Single</td>\n",
       "      <td>3</td>\n",
       "      <td>3</td>\n",
       "      <td>32973</td>\n",
       "      <td>85</td>\n",
       "    </tr>\n",
       "    <tr>\n",
       "      <th>4</th>\n",
       "      <td>KP281</td>\n",
       "      <td>20</td>\n",
       "      <td>Male</td>\n",
       "      <td>13</td>\n",
       "      <td>Partnered</td>\n",
       "      <td>4</td>\n",
       "      <td>2</td>\n",
       "      <td>35247</td>\n",
       "      <td>47</td>\n",
       "    </tr>\n",
       "    <tr>\n",
       "      <th>...</th>\n",
       "      <td>...</td>\n",
       "      <td>...</td>\n",
       "      <td>...</td>\n",
       "      <td>...</td>\n",
       "      <td>...</td>\n",
       "      <td>...</td>\n",
       "      <td>...</td>\n",
       "      <td>...</td>\n",
       "      <td>...</td>\n",
       "    </tr>\n",
       "    <tr>\n",
       "      <th>175</th>\n",
       "      <td>KP781</td>\n",
       "      <td>40</td>\n",
       "      <td>Male</td>\n",
       "      <td>21</td>\n",
       "      <td>Single</td>\n",
       "      <td>6</td>\n",
       "      <td>5</td>\n",
       "      <td>83416</td>\n",
       "      <td>200</td>\n",
       "    </tr>\n",
       "    <tr>\n",
       "      <th>176</th>\n",
       "      <td>KP781</td>\n",
       "      <td>42</td>\n",
       "      <td>Male</td>\n",
       "      <td>18</td>\n",
       "      <td>Single</td>\n",
       "      <td>5</td>\n",
       "      <td>4</td>\n",
       "      <td>89641</td>\n",
       "      <td>200</td>\n",
       "    </tr>\n",
       "    <tr>\n",
       "      <th>177</th>\n",
       "      <td>KP781</td>\n",
       "      <td>45</td>\n",
       "      <td>Male</td>\n",
       "      <td>16</td>\n",
       "      <td>Single</td>\n",
       "      <td>5</td>\n",
       "      <td>5</td>\n",
       "      <td>90886</td>\n",
       "      <td>160</td>\n",
       "    </tr>\n",
       "    <tr>\n",
       "      <th>178</th>\n",
       "      <td>KP781</td>\n",
       "      <td>47</td>\n",
       "      <td>Male</td>\n",
       "      <td>18</td>\n",
       "      <td>Partnered</td>\n",
       "      <td>4</td>\n",
       "      <td>5</td>\n",
       "      <td>104581</td>\n",
       "      <td>120</td>\n",
       "    </tr>\n",
       "    <tr>\n",
       "      <th>179</th>\n",
       "      <td>KP781</td>\n",
       "      <td>48</td>\n",
       "      <td>Male</td>\n",
       "      <td>18</td>\n",
       "      <td>Partnered</td>\n",
       "      <td>4</td>\n",
       "      <td>5</td>\n",
       "      <td>95508</td>\n",
       "      <td>180</td>\n",
       "    </tr>\n",
       "  </tbody>\n",
       "</table>\n",
       "<p>180 rows × 9 columns</p>\n",
       "</div>"
      ],
      "text/plain": [
       "    Product  Age  Gender  Education MaritalStatus  Usage  Fitness  Income  \\\n",
       "0     KP281   18    Male         14        Single      3        4   29562   \n",
       "1     KP281   19    Male         15        Single      2        3   31836   \n",
       "2     KP281   19  Female         14     Partnered      4        3   30699   \n",
       "3     KP281   19    Male         12        Single      3        3   32973   \n",
       "4     KP281   20    Male         13     Partnered      4        2   35247   \n",
       "..      ...  ...     ...        ...           ...    ...      ...     ...   \n",
       "175   KP781   40    Male         21        Single      6        5   83416   \n",
       "176   KP781   42    Male         18        Single      5        4   89641   \n",
       "177   KP781   45    Male         16        Single      5        5   90886   \n",
       "178   KP781   47    Male         18     Partnered      4        5  104581   \n",
       "179   KP781   48    Male         18     Partnered      4        5   95508   \n",
       "\n",
       "     Miles  \n",
       "0      112  \n",
       "1       75  \n",
       "2       66  \n",
       "3       85  \n",
       "4       47  \n",
       "..     ...  \n",
       "175    200  \n",
       "176    200  \n",
       "177    160  \n",
       "178    120  \n",
       "179    180  \n",
       "\n",
       "[180 rows x 9 columns]"
      ]
     },
     "execution_count": 50,
     "metadata": {},
     "output_type": "execute_result"
    }
   ],
   "source": [
    "df"
   ]
  },
  {
   "cell_type": "code",
   "execution_count": 51,
   "id": "2976200a-59b6-404d-bb4f-e038c072cc85",
   "metadata": {},
   "outputs": [
    {
     "data": {
      "text/html": [
       "<div>\n",
       "<style scoped>\n",
       "    .dataframe tbody tr th:only-of-type {\n",
       "        vertical-align: middle;\n",
       "    }\n",
       "\n",
       "    .dataframe tbody tr th {\n",
       "        vertical-align: top;\n",
       "    }\n",
       "\n",
       "    .dataframe thead th {\n",
       "        text-align: right;\n",
       "    }\n",
       "</style>\n",
       "<table border=\"1\" class=\"dataframe\">\n",
       "  <thead>\n",
       "    <tr style=\"text-align: right;\">\n",
       "      <th>Fitness</th>\n",
       "      <th>1</th>\n",
       "      <th>2</th>\n",
       "      <th>3</th>\n",
       "      <th>4</th>\n",
       "      <th>5</th>\n",
       "    </tr>\n",
       "    <tr>\n",
       "      <th>Education</th>\n",
       "      <th></th>\n",
       "      <th></th>\n",
       "      <th></th>\n",
       "      <th></th>\n",
       "      <th></th>\n",
       "    </tr>\n",
       "  </thead>\n",
       "  <tbody>\n",
       "    <tr>\n",
       "      <th>12</th>\n",
       "      <td>0</td>\n",
       "      <td>1</td>\n",
       "      <td>2</td>\n",
       "      <td>0</td>\n",
       "      <td>0</td>\n",
       "    </tr>\n",
       "    <tr>\n",
       "      <th>13</th>\n",
       "      <td>0</td>\n",
       "      <td>2</td>\n",
       "      <td>2</td>\n",
       "      <td>1</td>\n",
       "      <td>0</td>\n",
       "    </tr>\n",
       "    <tr>\n",
       "      <th>14</th>\n",
       "      <td>0</td>\n",
       "      <td>11</td>\n",
       "      <td>35</td>\n",
       "      <td>8</td>\n",
       "      <td>1</td>\n",
       "    </tr>\n",
       "    <tr>\n",
       "      <th>15</th>\n",
       "      <td>0</td>\n",
       "      <td>1</td>\n",
       "      <td>3</td>\n",
       "      <td>1</td>\n",
       "      <td>0</td>\n",
       "    </tr>\n",
       "    <tr>\n",
       "      <th>16</th>\n",
       "      <td>1</td>\n",
       "      <td>11</td>\n",
       "      <td>50</td>\n",
       "      <td>8</td>\n",
       "      <td>15</td>\n",
       "    </tr>\n",
       "    <tr>\n",
       "      <th>18</th>\n",
       "      <td>1</td>\n",
       "      <td>0</td>\n",
       "      <td>4</td>\n",
       "      <td>5</td>\n",
       "      <td>13</td>\n",
       "    </tr>\n",
       "    <tr>\n",
       "      <th>20</th>\n",
       "      <td>0</td>\n",
       "      <td>0</td>\n",
       "      <td>0</td>\n",
       "      <td>0</td>\n",
       "      <td>1</td>\n",
       "    </tr>\n",
       "    <tr>\n",
       "      <th>21</th>\n",
       "      <td>0</td>\n",
       "      <td>0</td>\n",
       "      <td>1</td>\n",
       "      <td>1</td>\n",
       "      <td>1</td>\n",
       "    </tr>\n",
       "  </tbody>\n",
       "</table>\n",
       "</div>"
      ],
      "text/plain": [
       "Fitness    1   2   3  4   5\n",
       "Education                  \n",
       "12         0   1   2  0   0\n",
       "13         0   2   2  1   0\n",
       "14         0  11  35  8   1\n",
       "15         0   1   3  1   0\n",
       "16         1  11  50  8  15\n",
       "18         1   0   4  5  13\n",
       "20         0   0   0  0   1\n",
       "21         0   0   1  1   1"
      ]
     },
     "execution_count": 51,
     "metadata": {},
     "output_type": "execute_result"
    }
   ],
   "source": [
    "pd.crosstab(index=df['Education'], columns=df['Fitness'])"
   ]
  },
  {
   "cell_type": "code",
   "execution_count": 52,
   "id": "9bdfc3a8-ef09-4e65-9f8d-cf21f6f82930",
   "metadata": {},
   "outputs": [
    {
     "data": {
      "text/plain": [
       "16    85\n",
       "14    55\n",
       "18    23\n",
       "13     5\n",
       "15     5\n",
       "12     3\n",
       "21     3\n",
       "20     1\n",
       "Name: Education, dtype: int64"
      ]
     },
     "execution_count": 52,
     "metadata": {},
     "output_type": "execute_result"
    }
   ],
   "source": [
    "df['Education'].value_counts()"
   ]
  },
  {
   "cell_type": "code",
   "execution_count": null,
   "id": "f915570e-48b4-412c-95ab-b4ca1d12b40d",
   "metadata": {},
   "outputs": [],
   "source": []
  }
 ],
 "metadata": {
  "kernelspec": {
   "display_name": "Python 3",
   "language": "python",
   "name": "python3"
  },
  "language_info": {
   "codemirror_mode": {
    "name": "ipython",
    "version": 3
   },
   "file_extension": ".py",
   "mimetype": "text/x-python",
   "name": "python",
   "nbconvert_exporter": "python",
   "pygments_lexer": "ipython3",
   "version": "3.8.8"
  }
 },
 "nbformat": 4,
 "nbformat_minor": 5
}
