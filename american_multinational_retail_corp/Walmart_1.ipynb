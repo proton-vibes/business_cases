{
 "cells": [
  {
   "cell_type": "markdown",
   "id": "26dd66fb-4c9c-4a01-8063-bad7af0fb066",
   "metadata": {},
   "source": [
    "\n",
    "# **American Multinational Retail Corportaion (W*******mart)**\n",
    "<hr>"
   ]
  },
  {
   "cell_type": "markdown",
   "id": "2ca54bfb-c0ba-4a8d-921f-27a33ef7fbe3",
   "metadata": {},
   "source": [
    "##### -- **The retail corportaion** in the context of case study will be called as **store**. \n",
    "\n",
    "-- This store has more than 100 million customers worldwide.\n",
    "\n",
    "-- Questions on confidence interval and central limit theorem (CLT)"
   ]
  },
  {
   "cell_type": "markdown",
   "id": "c8e62850-a32b-463d-90f6-869b8a265836",
   "metadata": {},
   "source": [
    "##### "
   ]
  },
  {
   "cell_type": "markdown",
   "id": "3051a09c-a6ee-4efc-bc1f-fc6ff1f3b044",
   "metadata": {},
   "source": [
    "### Dataset and features\n",
    "\n",
    "User_ID:\tUser ID <br>\n",
    "Product_ID:\tProduct ID <br>\n",
    "Gender:\tSex of User <br>\n",
    "Age:\tAge in bins <br>\n",
    "Occupation:\tOccupation(Masked) <br>\n",
    "City_Category:\tCategory of the City (A,B,C) <br>\n",
    "StayInCurrentCityYears:\tNumber of years stay in current city <br>\n",
    "Marital_Status:\tMarital Status <br>\n",
    "ProductCategory:\tProduct Category (Masked) <br> \n",
    "Purchase:\tPurchase Amount <br>"
   ]
  },
  {
   "cell_type": "markdown",
   "id": "554802cf-c352-4cae-b495-25b54d21330e",
   "metadata": {},
   "source": [
    "##### "
   ]
  },
  {
   "cell_type": "markdown",
   "id": "befba0f9-823b-4799-a6f6-13aa6d18e6cd",
   "metadata": {},
   "source": [
    "# **Simplifying the problem statement**\n",
    "\n",
    "The store management team wants to understand the purchase behaviour separately for males and females. \n",
    "\n",
    "Do they have different spending habits? Do women tend of spend more on Black Friday than?\n",
    "\n",
    "The management would like to leverage this transactional data of the customers (collected on Black Friday) to learn some business insights as well as actionable items!\n",
    "\n",
    "It is important to understand that the analysis will be done on the sample data and that will be used to draw inferences about the population. The purchase column is the dependent variable and the rest are independent variables.\n"
   ]
  },
  {
   "cell_type": "code",
   "execution_count": null,
   "id": "968cc1fc-ec2c-4b23-b04d-d6d9c38144c9",
   "metadata": {},
   "outputs": [],
   "source": [
    "\n"
   ]
  },
  {
   "cell_type": "markdown",
   "id": "3ae8db02-752b-47ea-917b-cd3ebf216429",
   "metadata": {},
   "source": [
    "$\\color{blue}{\\text{The datatypes look proper. All the expected numerical values are int and strings are object}}$"
   ]
  },
  {
   "cell_type": "markdown",
   "id": "ac74eb83-d411-4f78-971b-8615618f903c",
   "metadata": {},
   "source": [
    "$ \\color{blue} {1. c = \\sqrt{a^2 + b^2} sdf \\\\ 2. fasdf\\\\ asdfds}$"
   ]
  },
  {
   "cell_type": "code",
   "execution_count": null,
   "id": "0144009b-2dba-406a-8d69-e82d6ff6e6dc",
   "metadata": {},
   "outputs": [],
   "source": []
  },
  {
   "cell_type": "markdown",
   "id": "4e4b6dd2-8a99-4edf-b636-fc2fca9dc3ca",
   "metadata": {},
   "source": [
    "##### "
   ]
  },
  {
   "cell_type": "markdown",
   "id": "6e8d56f4-7336-4ad0-8498-9e927421d26c",
   "metadata": {},
   "source": [
    "##### "
   ]
  },
  {
   "cell_type": "markdown",
   "id": "fff42cc6-b7c6-42e5-b405-e5dc6b6f5a70",
   "metadata": {},
   "source": [
    "# Imports"
   ]
  },
  {
   "cell_type": "code",
   "execution_count": 39,
   "id": "87247efe-4dea-44fa-b3d1-5d7bf4315c84",
   "metadata": {},
   "outputs": [],
   "source": [
    "import numpy as np\n",
    "import pandas as pd\n",
    "import matplotlib.pyplot as plt\n",
    "import seaborn as sns\n",
    "from scipy.stats import norm"
   ]
  },
  {
   "cell_type": "code",
   "execution_count": 740,
   "id": "7949a30a-a417-499e-ace7-9522b5891a03",
   "metadata": {},
   "outputs": [],
   "source": [
    "# sns.set_context('talk')\n",
    "# sns.set_style(\"darkgrid\", {\"axes.facecolor\": \"0.95\"})"
   ]
  },
  {
   "cell_type": "markdown",
   "id": "7a7941b1-dabc-48dc-8d10-c2f740f4e334",
   "metadata": {},
   "source": [
    "##### "
   ]
  },
  {
   "cell_type": "markdown",
   "id": "cfbe27eb-85ef-448c-832d-cc1a8db88ba0",
   "metadata": {},
   "source": [
    "# Data loading and basic exploratory analysis"
   ]
  },
  {
   "cell_type": "markdown",
   "id": "08ffc057-4108-4b45-98d6-3c8254f74192",
   "metadata": {},
   "source": [
    "##### df = pd.read_csv('https://d2beiqkhq929f0.cloudfront.net/public_assets/assets/000/001/293/original/walmart_data.csv?1641285094')"
   ]
  },
  {
   "cell_type": "code",
   "execution_count": 11,
   "id": "35746f4b-f1b4-4712-9bc1-9976fd736693",
   "metadata": {},
   "outputs": [
    {
     "data": {
      "text/html": [
       "<div>\n",
       "<style scoped>\n",
       "    .dataframe tbody tr th:only-of-type {\n",
       "        vertical-align: middle;\n",
       "    }\n",
       "\n",
       "    .dataframe tbody tr th {\n",
       "        vertical-align: top;\n",
       "    }\n",
       "\n",
       "    .dataframe thead th {\n",
       "        text-align: right;\n",
       "    }\n",
       "</style>\n",
       "<table border=\"1\" class=\"dataframe\">\n",
       "  <thead>\n",
       "    <tr style=\"text-align: right;\">\n",
       "      <th></th>\n",
       "      <th>User_ID</th>\n",
       "      <th>Product_ID</th>\n",
       "      <th>Gender</th>\n",
       "      <th>Age</th>\n",
       "      <th>Occupation</th>\n",
       "      <th>City_Category</th>\n",
       "      <th>Stay_In_Current_City_Years</th>\n",
       "      <th>Marital_Status</th>\n",
       "      <th>Product_Category</th>\n",
       "      <th>Purchase</th>\n",
       "    </tr>\n",
       "  </thead>\n",
       "  <tbody>\n",
       "    <tr>\n",
       "      <th>0</th>\n",
       "      <td>1000001</td>\n",
       "      <td>P00069042</td>\n",
       "      <td>F</td>\n",
       "      <td>0-17</td>\n",
       "      <td>10</td>\n",
       "      <td>A</td>\n",
       "      <td>2</td>\n",
       "      <td>0</td>\n",
       "      <td>3</td>\n",
       "      <td>8370</td>\n",
       "    </tr>\n",
       "    <tr>\n",
       "      <th>1</th>\n",
       "      <td>1000001</td>\n",
       "      <td>P00248942</td>\n",
       "      <td>F</td>\n",
       "      <td>0-17</td>\n",
       "      <td>10</td>\n",
       "      <td>A</td>\n",
       "      <td>2</td>\n",
       "      <td>0</td>\n",
       "      <td>1</td>\n",
       "      <td>15200</td>\n",
       "    </tr>\n",
       "    <tr>\n",
       "      <th>2</th>\n",
       "      <td>1000001</td>\n",
       "      <td>P00087842</td>\n",
       "      <td>F</td>\n",
       "      <td>0-17</td>\n",
       "      <td>10</td>\n",
       "      <td>A</td>\n",
       "      <td>2</td>\n",
       "      <td>0</td>\n",
       "      <td>12</td>\n",
       "      <td>1422</td>\n",
       "    </tr>\n",
       "    <tr>\n",
       "      <th>3</th>\n",
       "      <td>1000001</td>\n",
       "      <td>P00085442</td>\n",
       "      <td>F</td>\n",
       "      <td>0-17</td>\n",
       "      <td>10</td>\n",
       "      <td>A</td>\n",
       "      <td>2</td>\n",
       "      <td>0</td>\n",
       "      <td>12</td>\n",
       "      <td>1057</td>\n",
       "    </tr>\n",
       "    <tr>\n",
       "      <th>4</th>\n",
       "      <td>1000002</td>\n",
       "      <td>P00285442</td>\n",
       "      <td>M</td>\n",
       "      <td>55+</td>\n",
       "      <td>16</td>\n",
       "      <td>C</td>\n",
       "      <td>4+</td>\n",
       "      <td>0</td>\n",
       "      <td>8</td>\n",
       "      <td>7969</td>\n",
       "    </tr>\n",
       "    <tr>\n",
       "      <th>...</th>\n",
       "      <td>...</td>\n",
       "      <td>...</td>\n",
       "      <td>...</td>\n",
       "      <td>...</td>\n",
       "      <td>...</td>\n",
       "      <td>...</td>\n",
       "      <td>...</td>\n",
       "      <td>...</td>\n",
       "      <td>...</td>\n",
       "      <td>...</td>\n",
       "    </tr>\n",
       "    <tr>\n",
       "      <th>550063</th>\n",
       "      <td>1006033</td>\n",
       "      <td>P00372445</td>\n",
       "      <td>M</td>\n",
       "      <td>51-55</td>\n",
       "      <td>13</td>\n",
       "      <td>B</td>\n",
       "      <td>1</td>\n",
       "      <td>1</td>\n",
       "      <td>20</td>\n",
       "      <td>368</td>\n",
       "    </tr>\n",
       "    <tr>\n",
       "      <th>550064</th>\n",
       "      <td>1006035</td>\n",
       "      <td>P00375436</td>\n",
       "      <td>F</td>\n",
       "      <td>26-35</td>\n",
       "      <td>1</td>\n",
       "      <td>C</td>\n",
       "      <td>3</td>\n",
       "      <td>0</td>\n",
       "      <td>20</td>\n",
       "      <td>371</td>\n",
       "    </tr>\n",
       "    <tr>\n",
       "      <th>550065</th>\n",
       "      <td>1006036</td>\n",
       "      <td>P00375436</td>\n",
       "      <td>F</td>\n",
       "      <td>26-35</td>\n",
       "      <td>15</td>\n",
       "      <td>B</td>\n",
       "      <td>4+</td>\n",
       "      <td>1</td>\n",
       "      <td>20</td>\n",
       "      <td>137</td>\n",
       "    </tr>\n",
       "    <tr>\n",
       "      <th>550066</th>\n",
       "      <td>1006038</td>\n",
       "      <td>P00375436</td>\n",
       "      <td>F</td>\n",
       "      <td>55+</td>\n",
       "      <td>1</td>\n",
       "      <td>C</td>\n",
       "      <td>2</td>\n",
       "      <td>0</td>\n",
       "      <td>20</td>\n",
       "      <td>365</td>\n",
       "    </tr>\n",
       "    <tr>\n",
       "      <th>550067</th>\n",
       "      <td>1006039</td>\n",
       "      <td>P00371644</td>\n",
       "      <td>F</td>\n",
       "      <td>46-50</td>\n",
       "      <td>0</td>\n",
       "      <td>B</td>\n",
       "      <td>4+</td>\n",
       "      <td>1</td>\n",
       "      <td>20</td>\n",
       "      <td>490</td>\n",
       "    </tr>\n",
       "  </tbody>\n",
       "</table>\n",
       "<p>550068 rows × 10 columns</p>\n",
       "</div>"
      ],
      "text/plain": [
       "        User_ID Product_ID Gender    Age  Occupation City_Category  \\\n",
       "0       1000001  P00069042      F   0-17          10             A   \n",
       "1       1000001  P00248942      F   0-17          10             A   \n",
       "2       1000001  P00087842      F   0-17          10             A   \n",
       "3       1000001  P00085442      F   0-17          10             A   \n",
       "4       1000002  P00285442      M    55+          16             C   \n",
       "...         ...        ...    ...    ...         ...           ...   \n",
       "550063  1006033  P00372445      M  51-55          13             B   \n",
       "550064  1006035  P00375436      F  26-35           1             C   \n",
       "550065  1006036  P00375436      F  26-35          15             B   \n",
       "550066  1006038  P00375436      F    55+           1             C   \n",
       "550067  1006039  P00371644      F  46-50           0             B   \n",
       "\n",
       "       Stay_In_Current_City_Years  Marital_Status  Product_Category  Purchase  \n",
       "0                               2               0                 3      8370  \n",
       "1                               2               0                 1     15200  \n",
       "2                               2               0                12      1422  \n",
       "3                               2               0                12      1057  \n",
       "4                              4+               0                 8      7969  \n",
       "...                           ...             ...               ...       ...  \n",
       "550063                          1               1                20       368  \n",
       "550064                          3               0                20       371  \n",
       "550065                         4+               1                20       137  \n",
       "550066                          2               0                20       365  \n",
       "550067                         4+               1                20       490  \n",
       "\n",
       "[550068 rows x 10 columns]"
      ]
     },
     "execution_count": 11,
     "metadata": {},
     "output_type": "execute_result"
    }
   ],
   "source": [
    "df"
   ]
  },
  {
   "cell_type": "code",
   "execution_count": 12,
   "id": "ddf45afb-a9e4-44fa-bbc2-bc7c311085ea",
   "metadata": {},
   "outputs": [
    {
     "data": {
      "text/plain": [
       "(550068, 10)"
      ]
     },
     "execution_count": 12,
     "metadata": {},
     "output_type": "execute_result"
    }
   ],
   "source": [
    "df.shape"
   ]
  },
  {
   "cell_type": "code",
   "execution_count": 15,
   "id": "361992df-7762-4fc9-934e-8b66602d9daa",
   "metadata": {},
   "outputs": [
    {
     "data": {
      "text/plain": [
       "User_ID                       0\n",
       "Product_ID                    0\n",
       "Gender                        0\n",
       "Age                           0\n",
       "Occupation                    0\n",
       "City_Category                 0\n",
       "Stay_In_Current_City_Years    0\n",
       "Marital_Status                0\n",
       "Product_Category              0\n",
       "Purchase                      0\n",
       "dtype: int64"
      ]
     },
     "execution_count": 15,
     "metadata": {},
     "output_type": "execute_result"
    }
   ],
   "source": [
    "## checking if there are any missing values in the data\n",
    "\n",
    "df.isna().sum()"
   ]
  },
  {
   "cell_type": "code",
   "execution_count": 13,
   "id": "c89e2af5-16b1-4546-bca4-e602cb759a93",
   "metadata": {},
   "outputs": [
    {
     "name": "stdout",
     "output_type": "stream",
     "text": [
      "<class 'pandas.core.frame.DataFrame'>\n",
      "RangeIndex: 550068 entries, 0 to 550067\n",
      "Data columns (total 10 columns):\n",
      " #   Column                      Non-Null Count   Dtype \n",
      "---  ------                      --------------   ----- \n",
      " 0   User_ID                     550068 non-null  int64 \n",
      " 1   Product_ID                  550068 non-null  object\n",
      " 2   Gender                      550068 non-null  object\n",
      " 3   Age                         550068 non-null  object\n",
      " 4   Occupation                  550068 non-null  int64 \n",
      " 5   City_Category               550068 non-null  object\n",
      " 6   Stay_In_Current_City_Years  550068 non-null  object\n",
      " 7   Marital_Status              550068 non-null  int64 \n",
      " 8   Product_Category            550068 non-null  int64 \n",
      " 9   Purchase                    550068 non-null  int64 \n",
      "dtypes: int64(5), object(5)\n",
      "memory usage: 42.0+ MB\n"
     ]
    }
   ],
   "source": [
    "df.info()"
   ]
  },
  {
   "cell_type": "code",
   "execution_count": 29,
   "id": "4fa822ab-14f5-4b5f-92aa-1ba4630ee158",
   "metadata": {},
   "outputs": [],
   "source": [
    "## converting the user_id, marital status, occupation, product_catergory to  categorical variables.\n",
    "\n",
    "df['User_ID'] = df['User_ID'].astype(str)\n",
    "df['Marital_Status'] = df['Marital_Status'].astype(str)\n",
    "df['Occupation'] = df['Occupation'].astype(str)\n",
    "df['Product_Category'] = df['Product_Category'].astype(str)"
   ]
  },
  {
   "cell_type": "markdown",
   "id": "455834b3-51f5-4182-a140-612106ce555d",
   "metadata": {},
   "source": [
    "##### "
   ]
  },
  {
   "cell_type": "markdown",
   "id": "b651a7f8-f067-4861-8ca5-a5c05574f732",
   "metadata": {},
   "source": [
    "### Insights\n",
    "\n",
    "- $\\color{blue}{\\text{There are about 5.5 lakh (500k) records and 10 columns in the dataset.}}$\n",
    "\n",
    "- $\\color{blue}{\\text{There are no missing values in the data.}}$\n",
    "\n",
    "- $\\color{blue}{\\text{User_ID, Marital_Status, Occupation, Product_Catergory are converted to categorical variables as it makes more sense.}}$\n",
    "\n",
    "- $\\color{blue}{\\text{Product_ID, Gender, Age, City_Category, Stay_In_Current_City_Years are originally defined as objects in the data.}}$\n",
    "\n",
    "- $\\color{blue}{\\text{Purchase is the only numerical column after the datatype conversion.}}$"
   ]
  },
  {
   "cell_type": "markdown",
   "id": "d7b6c67a-f1c7-4724-83af-80e62e4fa57d",
   "metadata": {},
   "source": [
    "##### "
   ]
  },
  {
   "cell_type": "markdown",
   "id": "070dd14c-7fc2-4351-a1f1-39b1a351bdf6",
   "metadata": {},
   "source": [
    "### Describing the data + unique values + value counts of selected variables"
   ]
  },
  {
   "cell_type": "code",
   "execution_count": 34,
   "id": "0a19e115-8df4-43cb-979f-4d69e95bc111",
   "metadata": {},
   "outputs": [
    {
     "name": "stdout",
     "output_type": "stream",
     "text": [
      "<class 'pandas.core.frame.DataFrame'>\n",
      "RangeIndex: 550068 entries, 0 to 550067\n",
      "Data columns (total 10 columns):\n",
      " #   Column                      Non-Null Count   Dtype \n",
      "---  ------                      --------------   ----- \n",
      " 0   User_ID                     550068 non-null  object\n",
      " 1   Product_ID                  550068 non-null  object\n",
      " 2   Gender                      550068 non-null  object\n",
      " 3   Age                         550068 non-null  object\n",
      " 4   Occupation                  550068 non-null  object\n",
      " 5   City_Category               550068 non-null  object\n",
      " 6   Stay_In_Current_City_Years  550068 non-null  object\n",
      " 7   Marital_Status              550068 non-null  object\n",
      " 8   Product_Category            550068 non-null  object\n",
      " 9   Purchase                    550068 non-null  int64 \n",
      "dtypes: int64(1), object(9)\n",
      "memory usage: 42.0+ MB\n"
     ]
    }
   ],
   "source": [
    "## data information after the datatype conversion\n",
    "\n",
    "df.info()"
   ]
  },
  {
   "cell_type": "markdown",
   "id": "398c4cba-c9ee-490a-9d16-d858f761dd76",
   "metadata": {},
   "source": [
    "##### "
   ]
  },
  {
   "cell_type": "code",
   "execution_count": 564,
   "id": "f3d9f294-35a8-4b46-8099-07aeec02349e",
   "metadata": {},
   "outputs": [
    {
     "data": {
      "text/html": [
       "<div>\n",
       "<style scoped>\n",
       "    .dataframe tbody tr th:only-of-type {\n",
       "        vertical-align: middle;\n",
       "    }\n",
       "\n",
       "    .dataframe tbody tr th {\n",
       "        vertical-align: top;\n",
       "    }\n",
       "\n",
       "    .dataframe thead th {\n",
       "        text-align: right;\n",
       "    }\n",
       "</style>\n",
       "<table border=\"1\" class=\"dataframe\">\n",
       "  <thead>\n",
       "    <tr style=\"text-align: right;\">\n",
       "      <th></th>\n",
       "      <th>User_ID</th>\n",
       "      <th>Product_ID</th>\n",
       "      <th>Gender</th>\n",
       "      <th>Age</th>\n",
       "      <th>Occupation</th>\n",
       "      <th>City_Category</th>\n",
       "      <th>Stay_In_Current_City_Years</th>\n",
       "      <th>Marital_Status</th>\n",
       "      <th>Product_Category</th>\n",
       "      <th>Purchase</th>\n",
       "    </tr>\n",
       "  </thead>\n",
       "  <tbody>\n",
       "    <tr>\n",
       "      <th>0</th>\n",
       "      <td>1000001</td>\n",
       "      <td>P00069042</td>\n",
       "      <td>F</td>\n",
       "      <td>0-17</td>\n",
       "      <td>10</td>\n",
       "      <td>A</td>\n",
       "      <td>2</td>\n",
       "      <td>0</td>\n",
       "      <td>3</td>\n",
       "      <td>8370</td>\n",
       "    </tr>\n",
       "    <tr>\n",
       "      <th>1</th>\n",
       "      <td>1000001</td>\n",
       "      <td>P00248942</td>\n",
       "      <td>F</td>\n",
       "      <td>0-17</td>\n",
       "      <td>10</td>\n",
       "      <td>A</td>\n",
       "      <td>2</td>\n",
       "      <td>0</td>\n",
       "      <td>1</td>\n",
       "      <td>15200</td>\n",
       "    </tr>\n",
       "    <tr>\n",
       "      <th>2</th>\n",
       "      <td>1000001</td>\n",
       "      <td>P00087842</td>\n",
       "      <td>F</td>\n",
       "      <td>0-17</td>\n",
       "      <td>10</td>\n",
       "      <td>A</td>\n",
       "      <td>2</td>\n",
       "      <td>0</td>\n",
       "      <td>12</td>\n",
       "      <td>1422</td>\n",
       "    </tr>\n",
       "    <tr>\n",
       "      <th>3</th>\n",
       "      <td>1000001</td>\n",
       "      <td>P00085442</td>\n",
       "      <td>F</td>\n",
       "      <td>0-17</td>\n",
       "      <td>10</td>\n",
       "      <td>A</td>\n",
       "      <td>2</td>\n",
       "      <td>0</td>\n",
       "      <td>12</td>\n",
       "      <td>1057</td>\n",
       "    </tr>\n",
       "    <tr>\n",
       "      <th>4</th>\n",
       "      <td>1000002</td>\n",
       "      <td>P00285442</td>\n",
       "      <td>M</td>\n",
       "      <td>55+</td>\n",
       "      <td>16</td>\n",
       "      <td>C</td>\n",
       "      <td>4+</td>\n",
       "      <td>0</td>\n",
       "      <td>8</td>\n",
       "      <td>7969</td>\n",
       "    </tr>\n",
       "    <tr>\n",
       "      <th>5</th>\n",
       "      <td>1000003</td>\n",
       "      <td>P00193542</td>\n",
       "      <td>M</td>\n",
       "      <td>26-35</td>\n",
       "      <td>15</td>\n",
       "      <td>A</td>\n",
       "      <td>3</td>\n",
       "      <td>0</td>\n",
       "      <td>1</td>\n",
       "      <td>15227</td>\n",
       "    </tr>\n",
       "    <tr>\n",
       "      <th>6</th>\n",
       "      <td>1000004</td>\n",
       "      <td>P00184942</td>\n",
       "      <td>M</td>\n",
       "      <td>46-50</td>\n",
       "      <td>7</td>\n",
       "      <td>B</td>\n",
       "      <td>2</td>\n",
       "      <td>1</td>\n",
       "      <td>1</td>\n",
       "      <td>19215</td>\n",
       "    </tr>\n",
       "    <tr>\n",
       "      <th>7</th>\n",
       "      <td>1000004</td>\n",
       "      <td>P00346142</td>\n",
       "      <td>M</td>\n",
       "      <td>46-50</td>\n",
       "      <td>7</td>\n",
       "      <td>B</td>\n",
       "      <td>2</td>\n",
       "      <td>1</td>\n",
       "      <td>1</td>\n",
       "      <td>15854</td>\n",
       "    </tr>\n",
       "    <tr>\n",
       "      <th>8</th>\n",
       "      <td>1000004</td>\n",
       "      <td>P0097242</td>\n",
       "      <td>M</td>\n",
       "      <td>46-50</td>\n",
       "      <td>7</td>\n",
       "      <td>B</td>\n",
       "      <td>2</td>\n",
       "      <td>1</td>\n",
       "      <td>1</td>\n",
       "      <td>15686</td>\n",
       "    </tr>\n",
       "    <tr>\n",
       "      <th>9</th>\n",
       "      <td>1000005</td>\n",
       "      <td>P00274942</td>\n",
       "      <td>M</td>\n",
       "      <td>26-35</td>\n",
       "      <td>20</td>\n",
       "      <td>A</td>\n",
       "      <td>1</td>\n",
       "      <td>1</td>\n",
       "      <td>8</td>\n",
       "      <td>7871</td>\n",
       "    </tr>\n",
       "    <tr>\n",
       "      <th>10</th>\n",
       "      <td>1000005</td>\n",
       "      <td>P00251242</td>\n",
       "      <td>M</td>\n",
       "      <td>26-35</td>\n",
       "      <td>20</td>\n",
       "      <td>A</td>\n",
       "      <td>1</td>\n",
       "      <td>1</td>\n",
       "      <td>5</td>\n",
       "      <td>5254</td>\n",
       "    </tr>\n",
       "    <tr>\n",
       "      <th>11</th>\n",
       "      <td>1000005</td>\n",
       "      <td>P00014542</td>\n",
       "      <td>M</td>\n",
       "      <td>26-35</td>\n",
       "      <td>20</td>\n",
       "      <td>A</td>\n",
       "      <td>1</td>\n",
       "      <td>1</td>\n",
       "      <td>8</td>\n",
       "      <td>3957</td>\n",
       "    </tr>\n",
       "    <tr>\n",
       "      <th>12</th>\n",
       "      <td>1000005</td>\n",
       "      <td>P00031342</td>\n",
       "      <td>M</td>\n",
       "      <td>26-35</td>\n",
       "      <td>20</td>\n",
       "      <td>A</td>\n",
       "      <td>1</td>\n",
       "      <td>1</td>\n",
       "      <td>8</td>\n",
       "      <td>6073</td>\n",
       "    </tr>\n",
       "    <tr>\n",
       "      <th>13</th>\n",
       "      <td>1000005</td>\n",
       "      <td>P00145042</td>\n",
       "      <td>M</td>\n",
       "      <td>26-35</td>\n",
       "      <td>20</td>\n",
       "      <td>A</td>\n",
       "      <td>1</td>\n",
       "      <td>1</td>\n",
       "      <td>1</td>\n",
       "      <td>15665</td>\n",
       "    </tr>\n",
       "    <tr>\n",
       "      <th>14</th>\n",
       "      <td>1000006</td>\n",
       "      <td>P00231342</td>\n",
       "      <td>F</td>\n",
       "      <td>51-55</td>\n",
       "      <td>9</td>\n",
       "      <td>A</td>\n",
       "      <td>1</td>\n",
       "      <td>0</td>\n",
       "      <td>5</td>\n",
       "      <td>5378</td>\n",
       "    </tr>\n",
       "  </tbody>\n",
       "</table>\n",
       "</div>"
      ],
      "text/plain": [
       "    User_ID Product_ID Gender    Age Occupation City_Category  \\\n",
       "0   1000001  P00069042      F   0-17         10             A   \n",
       "1   1000001  P00248942      F   0-17         10             A   \n",
       "2   1000001  P00087842      F   0-17         10             A   \n",
       "3   1000001  P00085442      F   0-17         10             A   \n",
       "4   1000002  P00285442      M    55+         16             C   \n",
       "5   1000003  P00193542      M  26-35         15             A   \n",
       "6   1000004  P00184942      M  46-50          7             B   \n",
       "7   1000004  P00346142      M  46-50          7             B   \n",
       "8   1000004   P0097242      M  46-50          7             B   \n",
       "9   1000005  P00274942      M  26-35         20             A   \n",
       "10  1000005  P00251242      M  26-35         20             A   \n",
       "11  1000005  P00014542      M  26-35         20             A   \n",
       "12  1000005  P00031342      M  26-35         20             A   \n",
       "13  1000005  P00145042      M  26-35         20             A   \n",
       "14  1000006  P00231342      F  51-55          9             A   \n",
       "\n",
       "   Stay_In_Current_City_Years Marital_Status Product_Category  Purchase  \n",
       "0                           2              0                3      8370  \n",
       "1                           2              0                1     15200  \n",
       "2                           2              0               12      1422  \n",
       "3                           2              0               12      1057  \n",
       "4                          4+              0                8      7969  \n",
       "5                           3              0                1     15227  \n",
       "6                           2              1                1     19215  \n",
       "7                           2              1                1     15854  \n",
       "8                           2              1                1     15686  \n",
       "9                           1              1                8      7871  \n",
       "10                          1              1                5      5254  \n",
       "11                          1              1                8      3957  \n",
       "12                          1              1                8      6073  \n",
       "13                          1              1                1     15665  \n",
       "14                          1              0                5      5378  "
      ]
     },
     "execution_count": 564,
     "metadata": {},
     "output_type": "execute_result"
    }
   ],
   "source": [
    "df.head(15)"
   ]
  },
  {
   "cell_type": "code",
   "execution_count": 147,
   "id": "025fd36f-9f4a-48a9-b4b3-22489e95e50a",
   "metadata": {},
   "outputs": [
    {
     "data": {
      "text/plain": [
       "550068"
      ]
     },
     "execution_count": 147,
     "metadata": {},
     "output_type": "execute_result"
    }
   ],
   "source": [
    "len(df.groupby(['User_ID', 'Product_ID']))"
   ]
  },
  {
   "cell_type": "markdown",
   "id": "56070619-d1d2-4526-993e-3b0b2f5e2759",
   "metadata": {},
   "source": [
    "### **It is clear that the level of data is not user_id but the data is unique at User_ID and Product_ID level. See the above length of the groupby command which matches the length of the data.**\n",
    "\n",
    "As a result, the data will grouped at the User_ID level to obtain insights on individuals. Product_ID, Occupation, Product_Category will be dropped for now in the df_user. "
   ]
  },
  {
   "cell_type": "code",
   "execution_count": 153,
   "id": "0fe3f808-2c76-4105-8bc8-d66142263541",
   "metadata": {},
   "outputs": [
    {
     "data": {
      "text/html": [
       "<div>\n",
       "<style scoped>\n",
       "    .dataframe tbody tr th:only-of-type {\n",
       "        vertical-align: middle;\n",
       "    }\n",
       "\n",
       "    .dataframe tbody tr th {\n",
       "        vertical-align: top;\n",
       "    }\n",
       "\n",
       "    .dataframe thead th {\n",
       "        text-align: right;\n",
       "    }\n",
       "</style>\n",
       "<table border=\"1\" class=\"dataframe\">\n",
       "  <thead>\n",
       "    <tr style=\"text-align: right;\">\n",
       "      <th></th>\n",
       "      <th>User_ID</th>\n",
       "      <th>Gender</th>\n",
       "      <th>Age</th>\n",
       "      <th>City_Category</th>\n",
       "      <th>Marital_Status</th>\n",
       "      <th>Purchase</th>\n",
       "    </tr>\n",
       "  </thead>\n",
       "  <tbody>\n",
       "    <tr>\n",
       "      <th>0</th>\n",
       "      <td>1000001</td>\n",
       "      <td>F</td>\n",
       "      <td>0-17</td>\n",
       "      <td>A</td>\n",
       "      <td>0</td>\n",
       "      <td>334093</td>\n",
       "    </tr>\n",
       "    <tr>\n",
       "      <th>1</th>\n",
       "      <td>1000002</td>\n",
       "      <td>M</td>\n",
       "      <td>55+</td>\n",
       "      <td>C</td>\n",
       "      <td>0</td>\n",
       "      <td>810472</td>\n",
       "    </tr>\n",
       "    <tr>\n",
       "      <th>2</th>\n",
       "      <td>1000003</td>\n",
       "      <td>M</td>\n",
       "      <td>26-35</td>\n",
       "      <td>A</td>\n",
       "      <td>0</td>\n",
       "      <td>341635</td>\n",
       "    </tr>\n",
       "    <tr>\n",
       "      <th>3</th>\n",
       "      <td>1000004</td>\n",
       "      <td>M</td>\n",
       "      <td>46-50</td>\n",
       "      <td>B</td>\n",
       "      <td>1</td>\n",
       "      <td>206468</td>\n",
       "    </tr>\n",
       "    <tr>\n",
       "      <th>4</th>\n",
       "      <td>1000005</td>\n",
       "      <td>M</td>\n",
       "      <td>26-35</td>\n",
       "      <td>A</td>\n",
       "      <td>1</td>\n",
       "      <td>821001</td>\n",
       "    </tr>\n",
       "    <tr>\n",
       "      <th>...</th>\n",
       "      <td>...</td>\n",
       "      <td>...</td>\n",
       "      <td>...</td>\n",
       "      <td>...</td>\n",
       "      <td>...</td>\n",
       "      <td>...</td>\n",
       "    </tr>\n",
       "    <tr>\n",
       "      <th>5886</th>\n",
       "      <td>1006036</td>\n",
       "      <td>F</td>\n",
       "      <td>26-35</td>\n",
       "      <td>B</td>\n",
       "      <td>1</td>\n",
       "      <td>4116058</td>\n",
       "    </tr>\n",
       "    <tr>\n",
       "      <th>5887</th>\n",
       "      <td>1006037</td>\n",
       "      <td>F</td>\n",
       "      <td>46-50</td>\n",
       "      <td>C</td>\n",
       "      <td>0</td>\n",
       "      <td>1119538</td>\n",
       "    </tr>\n",
       "    <tr>\n",
       "      <th>5888</th>\n",
       "      <td>1006038</td>\n",
       "      <td>F</td>\n",
       "      <td>55+</td>\n",
       "      <td>C</td>\n",
       "      <td>0</td>\n",
       "      <td>90034</td>\n",
       "    </tr>\n",
       "    <tr>\n",
       "      <th>5889</th>\n",
       "      <td>1006039</td>\n",
       "      <td>F</td>\n",
       "      <td>46-50</td>\n",
       "      <td>B</td>\n",
       "      <td>1</td>\n",
       "      <td>590319</td>\n",
       "    </tr>\n",
       "    <tr>\n",
       "      <th>5890</th>\n",
       "      <td>1006040</td>\n",
       "      <td>M</td>\n",
       "      <td>26-35</td>\n",
       "      <td>B</td>\n",
       "      <td>0</td>\n",
       "      <td>1653299</td>\n",
       "    </tr>\n",
       "  </tbody>\n",
       "</table>\n",
       "<p>5891 rows × 6 columns</p>\n",
       "</div>"
      ],
      "text/plain": [
       "      User_ID Gender    Age City_Category Marital_Status  Purchase\n",
       "0     1000001      F   0-17             A              0    334093\n",
       "1     1000002      M    55+             C              0    810472\n",
       "2     1000003      M  26-35             A              0    341635\n",
       "3     1000004      M  46-50             B              1    206468\n",
       "4     1000005      M  26-35             A              1    821001\n",
       "...       ...    ...    ...           ...            ...       ...\n",
       "5886  1006036      F  26-35             B              1   4116058\n",
       "5887  1006037      F  46-50             C              0   1119538\n",
       "5888  1006038      F    55+             C              0     90034\n",
       "5889  1006039      F  46-50             B              1    590319\n",
       "5890  1006040      M  26-35             B              0   1653299\n",
       "\n",
       "[5891 rows x 6 columns]"
      ]
     },
     "execution_count": 153,
     "metadata": {},
     "output_type": "execute_result"
    }
   ],
   "source": [
    "df_user = df.groupby('User_ID').agg({'Gender':np.max, 'Age':np.min, 'City_Category':np.max, 'Marital_Status':np.max, 'Purchase':sum}).reset_index()\n",
    "\n",
    "df_user"
   ]
  },
  {
   "cell_type": "code",
   "execution_count": 169,
   "id": "4d4f817d-8e1c-41b3-8282-20b99ce35cbd",
   "metadata": {},
   "outputs": [
    {
     "data": {
      "text/html": [
       "<div>\n",
       "<style scoped>\n",
       "    .dataframe tbody tr th:only-of-type {\n",
       "        vertical-align: middle;\n",
       "    }\n",
       "\n",
       "    .dataframe tbody tr th {\n",
       "        vertical-align: top;\n",
       "    }\n",
       "\n",
       "    .dataframe thead th {\n",
       "        text-align: right;\n",
       "    }\n",
       "</style>\n",
       "<table border=\"1\" class=\"dataframe\">\n",
       "  <thead>\n",
       "    <tr style=\"text-align: right;\">\n",
       "      <th></th>\n",
       "      <th>Purchase</th>\n",
       "    </tr>\n",
       "  </thead>\n",
       "  <tbody>\n",
       "    <tr>\n",
       "      <th>count</th>\n",
       "      <td>5891.00</td>\n",
       "    </tr>\n",
       "    <tr>\n",
       "      <th>mean</th>\n",
       "      <td>865016.59</td>\n",
       "    </tr>\n",
       "    <tr>\n",
       "      <th>std</th>\n",
       "      <td>943644.54</td>\n",
       "    </tr>\n",
       "    <tr>\n",
       "      <th>min</th>\n",
       "      <td>46681.00</td>\n",
       "    </tr>\n",
       "    <tr>\n",
       "      <th>25%</th>\n",
       "      <td>237678.00</td>\n",
       "    </tr>\n",
       "    <tr>\n",
       "      <th>50%</th>\n",
       "      <td>521213.00</td>\n",
       "    </tr>\n",
       "    <tr>\n",
       "      <th>75%</th>\n",
       "      <td>1119249.50</td>\n",
       "    </tr>\n",
       "    <tr>\n",
       "      <th>max</th>\n",
       "      <td>10536909.00</td>\n",
       "    </tr>\n",
       "  </tbody>\n",
       "</table>\n",
       "</div>"
      ],
      "text/plain": [
       "          Purchase\n",
       "count      5891.00\n",
       "mean     865016.59\n",
       "std      943644.54\n",
       "min       46681.00\n",
       "25%      237678.00\n",
       "50%      521213.00\n",
       "75%     1119249.50\n",
       "max    10536909.00"
      ]
     },
     "execution_count": 169,
     "metadata": {},
     "output_type": "execute_result"
    }
   ],
   "source": [
    "##### Getting the basic statistics of the numerical data\n",
    "df_user.describe().round(2)"
   ]
  },
  {
   "cell_type": "markdown",
   "id": "8c28ffbb-5ed0-4dbf-aa7c-9481c4317e70",
   "metadata": {},
   "source": [
    "##### "
   ]
  },
  {
   "cell_type": "code",
   "execution_count": 167,
   "id": "0e9f144a-b4dd-4a9f-b88e-e0825add9d8e",
   "metadata": {},
   "outputs": [
    {
     "data": {
      "text/html": [
       "<div>\n",
       "<style scoped>\n",
       "    .dataframe tbody tr th:only-of-type {\n",
       "        vertical-align: middle;\n",
       "    }\n",
       "\n",
       "    .dataframe tbody tr th {\n",
       "        vertical-align: top;\n",
       "    }\n",
       "\n",
       "    .dataframe thead th {\n",
       "        text-align: right;\n",
       "    }\n",
       "</style>\n",
       "<table border=\"1\" class=\"dataframe\">\n",
       "  <thead>\n",
       "    <tr style=\"text-align: right;\">\n",
       "      <th></th>\n",
       "      <th>User_ID</th>\n",
       "      <th>Gender</th>\n",
       "      <th>Age</th>\n",
       "      <th>City_Category</th>\n",
       "      <th>Marital_Status</th>\n",
       "    </tr>\n",
       "  </thead>\n",
       "  <tbody>\n",
       "    <tr>\n",
       "      <th>count</th>\n",
       "      <td>5891</td>\n",
       "      <td>5891</td>\n",
       "      <td>5891</td>\n",
       "      <td>5891</td>\n",
       "      <td>5891</td>\n",
       "    </tr>\n",
       "    <tr>\n",
       "      <th>unique</th>\n",
       "      <td>5891</td>\n",
       "      <td>2</td>\n",
       "      <td>7</td>\n",
       "      <td>3</td>\n",
       "      <td>2</td>\n",
       "    </tr>\n",
       "    <tr>\n",
       "      <th>top</th>\n",
       "      <td>1003202</td>\n",
       "      <td>M</td>\n",
       "      <td>26-35</td>\n",
       "      <td>C</td>\n",
       "      <td>0</td>\n",
       "    </tr>\n",
       "    <tr>\n",
       "      <th>freq</th>\n",
       "      <td>1</td>\n",
       "      <td>4225</td>\n",
       "      <td>2053</td>\n",
       "      <td>3139</td>\n",
       "      <td>3417</td>\n",
       "    </tr>\n",
       "  </tbody>\n",
       "</table>\n",
       "</div>"
      ],
      "text/plain": [
       "        User_ID Gender    Age City_Category Marital_Status\n",
       "count      5891   5891   5891          5891           5891\n",
       "unique     5891      2      7             3              2\n",
       "top     1003202      M  26-35             C              0\n",
       "freq          1   4225   2053          3139           3417"
      ]
     },
     "execution_count": 167,
     "metadata": {},
     "output_type": "execute_result"
    }
   ],
   "source": [
    "df_user.describe(include='object')"
   ]
  },
  {
   "cell_type": "markdown",
   "id": "c0f96f0e-80fb-4994-baa7-4d5089dc1e36",
   "metadata": {},
   "source": [
    "##### "
   ]
  },
  {
   "cell_type": "code",
   "execution_count": 159,
   "id": "e61c96c4-c395-4fa9-99b6-3a133db1c963",
   "metadata": {},
   "outputs": [
    {
     "data": {
      "text/plain": [
       "M    4225\n",
       "F    1666\n",
       "Name: Gender, dtype: int64"
      ]
     },
     "execution_count": 159,
     "metadata": {},
     "output_type": "execute_result"
    }
   ],
   "source": [
    "df_user['Gender'].value_counts()"
   ]
  },
  {
   "cell_type": "code",
   "execution_count": 160,
   "id": "2f5f5559-fcf6-4144-be94-c1d1b7431f36",
   "metadata": {},
   "outputs": [
    {
     "data": {
      "text/plain": [
       "M    71.719572\n",
       "F    28.280428\n",
       "Name: Gender, dtype: float64"
      ]
     },
     "execution_count": 160,
     "metadata": {},
     "output_type": "execute_result"
    }
   ],
   "source": [
    "df_user['Gender'].value_counts(normalize=True)*100"
   ]
  },
  {
   "cell_type": "markdown",
   "id": "54d43614-b547-41ae-bf91-22e0e728840e",
   "metadata": {},
   "source": [
    "##### "
   ]
  },
  {
   "cell_type": "code",
   "execution_count": 161,
   "id": "49e3b68d-1b3f-4825-99e2-ef5a6e15c8ae",
   "metadata": {},
   "outputs": [
    {
     "data": {
      "text/plain": [
       "26-35    2053\n",
       "36-45    1167\n",
       "18-25    1069\n",
       "46-50     531\n",
       "51-55     481\n",
       "55+       372\n",
       "0-17      218\n",
       "Name: Age, dtype: int64"
      ]
     },
     "execution_count": 161,
     "metadata": {},
     "output_type": "execute_result"
    }
   ],
   "source": [
    "df_user['Age'].value_counts()"
   ]
  },
  {
   "cell_type": "markdown",
   "id": "67ce4323-7ac4-4c76-a818-4287edd2661c",
   "metadata": {},
   "source": [
    "##### "
   ]
  },
  {
   "cell_type": "code",
   "execution_count": 162,
   "id": "a6aa83cc-38d7-47c7-a790-599d866030db",
   "metadata": {},
   "outputs": [
    {
     "data": {
      "text/plain": [
       "0    3417\n",
       "1    2474\n",
       "Name: Marital_Status, dtype: int64"
      ]
     },
     "execution_count": 162,
     "metadata": {},
     "output_type": "execute_result"
    }
   ],
   "source": [
    "df_user['Marital_Status'].value_counts()"
   ]
  },
  {
   "cell_type": "code",
   "execution_count": 163,
   "id": "0b0de5b4-2057-477e-b2e6-780b801e162d",
   "metadata": {},
   "outputs": [
    {
     "data": {
      "text/plain": [
       "0    58.003735\n",
       "1    41.996265\n",
       "Name: Marital_Status, dtype: float64"
      ]
     },
     "execution_count": 163,
     "metadata": {},
     "output_type": "execute_result"
    }
   ],
   "source": [
    "df_user['Marital_Status'].value_counts(normalize=True)*100"
   ]
  },
  {
   "cell_type": "markdown",
   "id": "3f99dbce-5a23-459d-98ef-62c3fdc3cc4d",
   "metadata": {},
   "source": [
    "##### "
   ]
  },
  {
   "cell_type": "code",
   "execution_count": 164,
   "id": "a1768b6e-e0d5-444b-a049-8da6d825051a",
   "metadata": {},
   "outputs": [
    {
     "data": {
      "text/plain": [
       "C    3139\n",
       "B    1707\n",
       "A    1045\n",
       "Name: City_Category, dtype: int64"
      ]
     },
     "execution_count": 164,
     "metadata": {},
     "output_type": "execute_result"
    }
   ],
   "source": [
    "df_user['City_Category'].value_counts()"
   ]
  },
  {
   "cell_type": "code",
   "execution_count": 165,
   "id": "c5382cd3-e8ed-4b80-8ca0-c133c5309db5",
   "metadata": {},
   "outputs": [
    {
     "data": {
      "text/plain": [
       "C    53.284672\n",
       "B    28.976405\n",
       "A    17.738924\n",
       "Name: City_Category, dtype: float64"
      ]
     },
     "execution_count": 165,
     "metadata": {},
     "output_type": "execute_result"
    }
   ],
   "source": [
    "df_user['City_Category'].value_counts(normalize=True)*100"
   ]
  },
  {
   "cell_type": "markdown",
   "id": "75f41ddc-d48a-49eb-a500-393728025374",
   "metadata": {},
   "source": [
    "##### "
   ]
  },
  {
   "cell_type": "markdown",
   "id": "0fbb9356-d152-405d-8248-4f0fafa133b6",
   "metadata": {},
   "source": [
    "### Insights (based on the grouped df on the basis of user_id)\n",
    "\n",
    "- $\\color{blue}{\\text{Two genders (~72% males and ~28% females) are present.}}$\n",
    "\n",
    "- $\\color{blue}{\\text{All the 5891 customers or ~500k transaction records are divided among 7 age groups.}}$\n",
    "\n",
    "- $\\color{blue}{\\text{About 58% are unmarried and 42% are married individuals in the data (assuming status 1 denotes married and 0 as unmarried.)}}$\n",
    "\n",
    "- $\\color{blue}{\\text{The information comes from customers living in 3 cities.}}$"
   ]
  },
  {
   "cell_type": "markdown",
   "id": "b6f4c382-2c8b-4d91-908f-8a7a50a95958",
   "metadata": {},
   "source": [
    "##### "
   ]
  },
  {
   "cell_type": "markdown",
   "id": "e8d13ce1-55c8-49d0-937b-84ce64580d5d",
   "metadata": {},
   "source": [
    "# 2. Amount spent **per transaction** vs gender"
   ]
  },
  {
   "cell_type": "markdown",
   "id": "b18da331-e9d7-4b1c-a1cc-abe887e13c4e",
   "metadata": {},
   "source": [
    "#### **Here the original df is used as the analysis is needed per transaction**. \n",
    "The combination of user_id and product_id is considered as one transaction."
   ]
  },
  {
   "cell_type": "code",
   "execution_count": 170,
   "id": "d1f11c62-4ad8-4ef0-ae55-03c7fab1dd23",
   "metadata": {},
   "outputs": [
    {
     "data": {
      "text/html": [
       "<div>\n",
       "<style scoped>\n",
       "    .dataframe tbody tr th:only-of-type {\n",
       "        vertical-align: middle;\n",
       "    }\n",
       "\n",
       "    .dataframe tbody tr th {\n",
       "        vertical-align: top;\n",
       "    }\n",
       "\n",
       "    .dataframe thead th {\n",
       "        text-align: right;\n",
       "    }\n",
       "</style>\n",
       "<table border=\"1\" class=\"dataframe\">\n",
       "  <thead>\n",
       "    <tr style=\"text-align: right;\">\n",
       "      <th></th>\n",
       "      <th>User_ID</th>\n",
       "      <th>Product_ID</th>\n",
       "      <th>Gender</th>\n",
       "      <th>Age</th>\n",
       "      <th>Occupation</th>\n",
       "      <th>City_Category</th>\n",
       "      <th>Stay_In_Current_City_Years</th>\n",
       "      <th>Marital_Status</th>\n",
       "      <th>Product_Category</th>\n",
       "      <th>Purchase</th>\n",
       "    </tr>\n",
       "  </thead>\n",
       "  <tbody>\n",
       "    <tr>\n",
       "      <th>0</th>\n",
       "      <td>1000001</td>\n",
       "      <td>P00069042</td>\n",
       "      <td>F</td>\n",
       "      <td>0-17</td>\n",
       "      <td>10</td>\n",
       "      <td>A</td>\n",
       "      <td>2</td>\n",
       "      <td>0</td>\n",
       "      <td>3</td>\n",
       "      <td>8370</td>\n",
       "    </tr>\n",
       "    <tr>\n",
       "      <th>1</th>\n",
       "      <td>1000001</td>\n",
       "      <td>P00248942</td>\n",
       "      <td>F</td>\n",
       "      <td>0-17</td>\n",
       "      <td>10</td>\n",
       "      <td>A</td>\n",
       "      <td>2</td>\n",
       "      <td>0</td>\n",
       "      <td>1</td>\n",
       "      <td>15200</td>\n",
       "    </tr>\n",
       "    <tr>\n",
       "      <th>2</th>\n",
       "      <td>1000001</td>\n",
       "      <td>P00087842</td>\n",
       "      <td>F</td>\n",
       "      <td>0-17</td>\n",
       "      <td>10</td>\n",
       "      <td>A</td>\n",
       "      <td>2</td>\n",
       "      <td>0</td>\n",
       "      <td>12</td>\n",
       "      <td>1422</td>\n",
       "    </tr>\n",
       "  </tbody>\n",
       "</table>\n",
       "</div>"
      ],
      "text/plain": [
       "   User_ID Product_ID Gender   Age Occupation City_Category  \\\n",
       "0  1000001  P00069042      F  0-17         10             A   \n",
       "1  1000001  P00248942      F  0-17         10             A   \n",
       "2  1000001  P00087842      F  0-17         10             A   \n",
       "\n",
       "  Stay_In_Current_City_Years Marital_Status Product_Category  Purchase  \n",
       "0                          2              0                3      8370  \n",
       "1                          2              0                1     15200  \n",
       "2                          2              0               12      1422  "
      ]
     },
     "execution_count": 170,
     "metadata": {},
     "output_type": "execute_result"
    }
   ],
   "source": [
    "df.head(3)"
   ]
  },
  {
   "cell_type": "code",
   "execution_count": 177,
   "id": "225de431-91f3-4fc4-89d2-6819d15ea7ca",
   "metadata": {},
   "outputs": [
    {
     "data": {
      "image/png": "[encoded data removed]",
      "text/plain": [
       "<Figure size 1440x360 with 2 Axes>"
      ]
     },
     "metadata": {},
     "output_type": "display_data"
    }
   ],
   "source": [
    "fig, (ax1,ax2) = plt.subplots(1,2, figsize=(20,5))\n",
    "plt.suptitle('Boxplot and histogram of puchase amount of the 500k transactions')\n",
    "sns.boxplot(x = df['Purchase'],width=0.7, ax=ax1,)\n",
    "sns.histplot(df['Purchase'], bins=50, kde=True, ax=ax2)\n",
    "plt.show()"
   ]
  },
  {
   "cell_type": "code",
   "execution_count": 180,
   "id": "6c4941c3-d0a4-4cdd-9441-faf50ca974b9",
   "metadata": {},
   "outputs": [
    {
     "data": {
      "text/html": [
       "<div>\n",
       "<style scoped>\n",
       "    .dataframe tbody tr th:only-of-type {\n",
       "        vertical-align: middle;\n",
       "    }\n",
       "\n",
       "    .dataframe tbody tr th {\n",
       "        vertical-align: top;\n",
       "    }\n",
       "\n",
       "    .dataframe thead th {\n",
       "        text-align: right;\n",
       "    }\n",
       "</style>\n",
       "<table border=\"1\" class=\"dataframe\">\n",
       "  <thead>\n",
       "    <tr style=\"text-align: right;\">\n",
       "      <th></th>\n",
       "      <th>mean</th>\n",
       "      <th>std</th>\n",
       "      <th>min</th>\n",
       "      <th>max</th>\n",
       "      <th>median</th>\n",
       "    </tr>\n",
       "    <tr>\n",
       "      <th>Gender</th>\n",
       "      <th></th>\n",
       "      <th></th>\n",
       "      <th></th>\n",
       "      <th></th>\n",
       "      <th></th>\n",
       "    </tr>\n",
       "  </thead>\n",
       "  <tbody>\n",
       "    <tr>\n",
       "      <th>F</th>\n",
       "      <td>8734.57</td>\n",
       "      <td>4767.23</td>\n",
       "      <td>12</td>\n",
       "      <td>23959</td>\n",
       "      <td>7914</td>\n",
       "    </tr>\n",
       "    <tr>\n",
       "      <th>M</th>\n",
       "      <td>9437.53</td>\n",
       "      <td>5092.19</td>\n",
       "      <td>12</td>\n",
       "      <td>23961</td>\n",
       "      <td>8098</td>\n",
       "    </tr>\n",
       "  </tbody>\n",
       "</table>\n",
       "</div>"
      ],
      "text/plain": [
       "           mean      std  min    max  median\n",
       "Gender                                      \n",
       "F       8734.57  4767.23   12  23959    7914\n",
       "M       9437.53  5092.19   12  23961    8098"
      ]
     },
     "execution_count": 180,
     "metadata": {},
     "output_type": "execute_result"
    }
   ],
   "source": [
    "## Average amount spent by males and females per transaction\n",
    "\n",
    "df.groupby('Gender')['Purchase'].agg([np.mean, np.std, min, max, np.median]).round(2)"
   ]
  },
  {
   "cell_type": "code",
   "execution_count": 192,
   "id": "09403522-690f-4abb-81dd-c36fddbf483e",
   "metadata": {},
   "outputs": [
    {
     "data": {
      "image/png": "[encoded data removed]",
      "text/plain": [
       "<Figure size 576x360 with 1 Axes>"
      ]
     },
     "metadata": {},
     "output_type": "display_data"
    }
   ],
   "source": [
    "df.groupby('Gender')['Purchase'].agg([np.mean, max, np.median]).round(2).plot(kind='bar', figsize=(8,5))\n",
    "plt.ylabel('Amount spent per transaction')\n",
    "plt.show()"
   ]
  },
  {
   "cell_type": "markdown",
   "id": "710e1be3-1c76-469d-93eb-688581bc2189",
   "metadata": {},
   "source": [
    "##### "
   ]
  },
  {
   "cell_type": "code",
   "execution_count": 190,
   "id": "81e6d82e-488d-4a8d-b479-945080519f42",
   "metadata": {},
   "outputs": [
    {
     "data": {
      "image/png": "[encoded data removed]",
      "text/plain": [
       "<Figure size 720x360 with 1 Axes>"
      ]
     },
     "metadata": {},
     "output_type": "display_data"
    }
   ],
   "source": [
    "plt.figure(figsize=(10,5))\n",
    "sns.boxplot(data = df, x = 'Purchase', y='Gender',)\n",
    "plt.title('Spending amount per transaction of males and females')\n",
    "plt.show()"
   ]
  },
  {
   "cell_type": "markdown",
   "id": "48687c74-207e-4711-817b-060f4a4b029e",
   "metadata": {},
   "source": [
    "### Insights\n",
    "\n",
    "- $\\color{blue}{\\text{Males are spending more per transaction than females on an average because the mean (M - \\$$9400, F - \\$$8700) and median (M - \\$$8100, F - \\$$7900) are both higher for males per transaction.}}$\n",
    "\n",
    "- $\\color{blue}{\\text{There are a few outlies in the dependent variable indicating amount of USD spent per transaction.}}$"
   ]
  },
  {
   "cell_type": "markdown",
   "id": "61a42e6a-ac3c-4328-9b33-931087cd4338",
   "metadata": {},
   "source": [
    "##### "
   ]
  },
  {
   "cell_type": "markdown",
   "id": "6e05b6a4-0b5b-44c6-9707-8c886bb20db0",
   "metadata": {},
   "source": [
    "# 3. Bootstrapping for sampling distribution of sample means"
   ]
  },
  {
   "cell_type": "markdown",
   "id": "f9a660fd-3569-4176-b4d1-e6814e8e6c26",
   "metadata": {},
   "source": [
    "#### **Creating bootstrapped data for computing confidence interval for purchase per transaction for males and females**"
   ]
  },
  {
   "cell_type": "code",
   "execution_count": 242,
   "id": "92442244-b1a7-4399-9bb1-d73a393e2cdf",
   "metadata": {},
   "outputs": [],
   "source": [
    "# df.groupby(['Gender'])['Purchase']"
   ]
  },
  {
   "cell_type": "code",
   "execution_count": 689,
   "id": "c2ebe1b3-eef2-41c6-905e-c258a94d33dd",
   "metadata": {},
   "outputs": [
    {
     "data": {
      "text/html": [
       "<div>\n",
       "<style scoped>\n",
       "    .dataframe tbody tr th:only-of-type {\n",
       "        vertical-align: middle;\n",
       "    }\n",
       "\n",
       "    .dataframe tbody tr th {\n",
       "        vertical-align: top;\n",
       "    }\n",
       "\n",
       "    .dataframe thead th {\n",
       "        text-align: right;\n",
       "    }\n",
       "</style>\n",
       "<table border=\"1\" class=\"dataframe\">\n",
       "  <thead>\n",
       "    <tr style=\"text-align: right;\">\n",
       "      <th></th>\n",
       "      <th>User_ID</th>\n",
       "      <th>Product_ID</th>\n",
       "      <th>Gender</th>\n",
       "      <th>Age</th>\n",
       "      <th>Occupation</th>\n",
       "      <th>City_Category</th>\n",
       "      <th>Stay_In_Current_City_Years</th>\n",
       "      <th>Marital_Status</th>\n",
       "      <th>Product_Category</th>\n",
       "      <th>Purchase</th>\n",
       "    </tr>\n",
       "  </thead>\n",
       "  <tbody>\n",
       "    <tr>\n",
       "      <th>0</th>\n",
       "      <td>1000001</td>\n",
       "      <td>P00069042</td>\n",
       "      <td>F</td>\n",
       "      <td>0-17</td>\n",
       "      <td>10</td>\n",
       "      <td>A</td>\n",
       "      <td>2</td>\n",
       "      <td>0</td>\n",
       "      <td>3</td>\n",
       "      <td>8370</td>\n",
       "    </tr>\n",
       "    <tr>\n",
       "      <th>1</th>\n",
       "      <td>1000001</td>\n",
       "      <td>P00248942</td>\n",
       "      <td>F</td>\n",
       "      <td>0-17</td>\n",
       "      <td>10</td>\n",
       "      <td>A</td>\n",
       "      <td>2</td>\n",
       "      <td>0</td>\n",
       "      <td>1</td>\n",
       "      <td>15200</td>\n",
       "    </tr>\n",
       "    <tr>\n",
       "      <th>2</th>\n",
       "      <td>1000001</td>\n",
       "      <td>P00087842</td>\n",
       "      <td>F</td>\n",
       "      <td>0-17</td>\n",
       "      <td>10</td>\n",
       "      <td>A</td>\n",
       "      <td>2</td>\n",
       "      <td>0</td>\n",
       "      <td>12</td>\n",
       "      <td>1422</td>\n",
       "    </tr>\n",
       "    <tr>\n",
       "      <th>3</th>\n",
       "      <td>1000001</td>\n",
       "      <td>P00085442</td>\n",
       "      <td>F</td>\n",
       "      <td>0-17</td>\n",
       "      <td>10</td>\n",
       "      <td>A</td>\n",
       "      <td>2</td>\n",
       "      <td>0</td>\n",
       "      <td>12</td>\n",
       "      <td>1057</td>\n",
       "    </tr>\n",
       "    <tr>\n",
       "      <th>4</th>\n",
       "      <td>1000002</td>\n",
       "      <td>P00285442</td>\n",
       "      <td>M</td>\n",
       "      <td>55+</td>\n",
       "      <td>16</td>\n",
       "      <td>C</td>\n",
       "      <td>4+</td>\n",
       "      <td>0</td>\n",
       "      <td>8</td>\n",
       "      <td>7969</td>\n",
       "    </tr>\n",
       "  </tbody>\n",
       "</table>\n",
       "</div>"
      ],
      "text/plain": [
       "   User_ID Product_ID Gender   Age Occupation City_Category  \\\n",
       "0  1000001  P00069042      F  0-17         10             A   \n",
       "1  1000001  P00248942      F  0-17         10             A   \n",
       "2  1000001  P00087842      F  0-17         10             A   \n",
       "3  1000001  P00085442      F  0-17         10             A   \n",
       "4  1000002  P00285442      M   55+         16             C   \n",
       "\n",
       "  Stay_In_Current_City_Years Marital_Status Product_Category  Purchase  \n",
       "0                          2              0                3      8370  \n",
       "1                          2              0                1     15200  \n",
       "2                          2              0               12      1422  \n",
       "3                          2              0               12      1057  \n",
       "4                         4+              0                8      7969  "
      ]
     },
     "execution_count": 689,
     "metadata": {},
     "output_type": "execute_result"
    }
   ],
   "source": [
    "df.head()"
   ]
  },
  {
   "cell_type": "markdown",
   "id": "366a1f95-5342-4fc4-ad40-ab264539bcbe",
   "metadata": {},
   "source": [
    "## 3.1 **For males**"
   ]
  },
  {
   "cell_type": "code",
   "execution_count": 690,
   "id": "763df9a8-2240-425a-abff-ee4317c93e6c",
   "metadata": {},
   "outputs": [
    {
     "data": {
      "text/plain": [
       "Gender\n",
       "F    8734.565765\n",
       "M    9437.526040\n",
       "Name: Purchase, dtype: float64"
      ]
     },
     "execution_count": 690,
     "metadata": {},
     "output_type": "execute_result"
    }
   ],
   "source": [
    "df.groupby('Gender')['Purchase'].mean()"
   ]
  },
  {
   "cell_type": "code",
   "execution_count": 691,
   "id": "231af0bd-2195-4101-bbe8-6a53bcabf6fc",
   "metadata": {},
   "outputs": [],
   "source": [
    "## getting a df that contains on transactions by males\n",
    "df_males = df[df['Gender'] == 'M']"
   ]
  },
  {
   "cell_type": "markdown",
   "id": "9109462b-1c53-443c-a407-3ec44408f563",
   "metadata": {},
   "source": [
    "##### "
   ]
  },
  {
   "cell_type": "markdown",
   "id": "4667dc72-4dfa-4b96-b2f7-f0a1ad28020f",
   "metadata": {},
   "source": [
    "##### **Approach for creating the bootstrapped data**\n",
    "\n",
    "1. Take a random sample of size 100 from the dataframe with from purchases by males only (df_males).\n",
    "\n",
    "2. Calculate the mean of the above sample and store it in a list.\n",
    "\n",
    "3. Repeat 1 and 2 for 10000 times.\n",
    "\n",
    "4. Plot the distribution of means obtained in 3. This distribution is called as the sampling distribution of the sample means. It will be approximately normal according to the central limit theorem.\n",
    "\n",
    "5. In order to calculate the means, the forloop is run below and later a function will be created out of it.\n"
   ]
  },
  {
   "cell_type": "markdown",
   "id": "bc113fd7-27d7-4067-a777-369b1d4b3f6e",
   "metadata": {},
   "source": [
    "##### "
   ]
  },
  {
   "cell_type": "code",
   "execution_count": 769,
   "id": "ed708fe0-b74d-4dbc-9bae-28dcba952cd7",
   "metadata": {},
   "outputs": [],
   "source": [
    "size = 1000"
   ]
  },
  {
   "cell_type": "code",
   "execution_count": 770,
   "id": "729db177-b99e-4872-b47b-80a4f224f755",
   "metadata": {},
   "outputs": [],
   "source": [
    "bootstrapped_means_per_transaction_males = []\n",
    "for i in range(10000):\n",
    "    bootstrapped_sample_per_transaction_for_males = np.random.choice(df_males['Purchase'], size=size)\n",
    "    bootstrapped_sample_mean_per_transaction_for_males = np.mean(bootstrapped_sample_per_transaction_for_males)\n",
    "    bootstrapped_means_per_transaction_males.append(bootstrapped_sample_mean_per_transaction_for_males)"
   ]
  },
  {
   "cell_type": "code",
   "execution_count": 771,
   "id": "1c8312cf-f155-4279-8db4-058c11042cb5",
   "metadata": {},
   "outputs": [
    {
     "data": {
      "text/plain": [
       "10000"
      ]
     },
     "execution_count": 771,
     "metadata": {},
     "output_type": "execute_result"
    }
   ],
   "source": [
    "len(bootstrapped_means_per_transaction_males)"
   ]
  },
  {
   "cell_type": "markdown",
   "id": "cd88af8a-bc5b-4b91-9899-5fd58cd19f64",
   "metadata": {},
   "source": [
    "### Plotting sampling distribution of the sample means"
   ]
  },
  {
   "cell_type": "code",
   "execution_count": 772,
   "id": "cfe7556d-fe9a-44ea-b461-fe8df1987be8",
   "metadata": {},
   "outputs": [
    {
     "data": {
      "image/png": "[encoded data removed]",
      "text/plain": [
       "<Figure size 432x288 with 1 Axes>"
      ]
     },
     "metadata": {},
     "output_type": "display_data"
    }
   ],
   "source": [
    "sns.histplot(bootstrapped_means_per_transaction_males, bins=50, color='c')\n",
    "plt.title('Histogram of 10000 means for amount of money spend per transaction (size of 1000 transactions per sample) by males.')\n",
    "plt.show()"
   ]
  },
  {
   "cell_type": "code",
   "execution_count": 773,
   "id": "afbd6a5e-37aa-4c67-823c-5637823953f8",
   "metadata": {},
   "outputs": [
    {
     "data": {
      "text/plain": [
       "9438.010671099999"
      ]
     },
     "execution_count": 773,
     "metadata": {},
     "output_type": "execute_result"
    }
   ],
   "source": [
    "np.mean(bootstrapped_means_per_transaction_males)"
   ]
  },
  {
   "cell_type": "markdown",
   "id": "6e8b338a-c73b-45f0-bd4c-616d6f0b06f7",
   "metadata": {},
   "source": [
    "## 3.2 **For females**"
   ]
  },
  {
   "cell_type": "markdown",
   "id": "2b27c5a7-0321-4dbe-b62b-a416351069c5",
   "metadata": {},
   "source": [
    "### Bootstrapping function to calculate means"
   ]
  },
  {
   "cell_type": "code",
   "execution_count": 774,
   "id": "9357f826-2c15-4985-96a6-4e901174ad2a",
   "metadata": {},
   "outputs": [],
   "source": [
    "def bootstrapped_list_of_mean(column, size_of_each_sample=1000, number_of_times_to_sample=10000):\n",
    "    \n",
    "    \"\"\"Returns a list of sampling means\"\"\"\n",
    "    \n",
    "    bootstrapped_means_list_per_sample_drawn = []\n",
    "    \n",
    "    for i in range(number_of_times_to_sample):\n",
    "        \n",
    "        bootstrapped_sample_per_draw = np.random.choice(column, size=size_of_each_sample)\n",
    "        \n",
    "        bootstrapped_sample_mean_per_draw = np.mean(bootstrapped_sample_per_draw)\n",
    "        \n",
    "        bootstrapped_means_list_per_sample_drawn.append(bootstrapped_sample_mean_per_draw)\n",
    "    \n",
    "    return bootstrapped_means_list_per_sample_drawn"
   ]
  },
  {
   "cell_type": "code",
   "execution_count": 775,
   "id": "f380c642-c75f-46a8-a40f-670ba0d42f86",
   "metadata": {},
   "outputs": [],
   "source": [
    "df_females = df[df['Gender'] == 'F']"
   ]
  },
  {
   "cell_type": "code",
   "execution_count": 777,
   "id": "b3cdb7a6-c5e5-4bbc-8e3e-a9a26d61922b",
   "metadata": {},
   "outputs": [],
   "source": [
    "# size=600\n",
    "bootstrapped_means_per_transaction_females = bootstrapped_list_of_mean(column=df_females['Purchase'], size_of_each_sample=size, number_of_times_to_sample=10000)"
   ]
  },
  {
   "cell_type": "code",
   "execution_count": 779,
   "id": "ccaaf40b-fce6-4718-bbad-5f5643831eb2",
   "metadata": {},
   "outputs": [
    {
     "data": {
      "image/png": "[encoded data removed]",
      "text/plain": [
       "<Figure size 432x288 with 1 Axes>"
      ]
     },
     "metadata": {},
     "output_type": "display_data"
    }
   ],
   "source": [
    "sns.histplot(bootstrapped_means_per_transaction_females)\n",
    "plt.title('Histogram of 10000 means for amount of money spend per transaction (size of 1000 transactions per sample) by females.')\n",
    "plt.show()"
   ]
  },
  {
   "cell_type": "code",
   "execution_count": 780,
   "id": "4f671e2a-3763-4723-86ae-a60c3de746a7",
   "metadata": {},
   "outputs": [
    {
     "data": {
      "text/plain": [
       "8734.718402100001"
      ]
     },
     "execution_count": 780,
     "metadata": {},
     "output_type": "execute_result"
    }
   ],
   "source": [
    "np.mean(bootstrapped_means_per_transaction_females)"
   ]
  },
  {
   "cell_type": "markdown",
   "id": "f9bf5cc2-4f46-40f1-9ad4-94231ff82186",
   "metadata": {},
   "source": [
    "##### "
   ]
  },
  {
   "cell_type": "markdown",
   "id": "1193c778-6a77-4458-bf46-2021fd0c15c2",
   "metadata": {},
   "source": [
    "## 3.3 Changing the sample size to compute the means\n",
    "\n",
    "Here, the column df['purchase'] for males and females will be considered. \n",
    "\n",
    "For each iteration, the number of samples will increase by 1 to calculate the sample mean. "
   ]
  },
  {
   "cell_type": "code",
   "execution_count": 722,
   "id": "77bd1a84-5d01-4de1-810d-55aabf64c928",
   "metadata": {},
   "outputs": [
    {
     "data": {
      "text/plain": [
       "(414259, 10)"
      ]
     },
     "execution_count": 722,
     "metadata": {},
     "output_type": "execute_result"
    }
   ],
   "source": [
    "df_males.shape"
   ]
  },
  {
   "cell_type": "markdown",
   "id": "281cd1b5-9fd7-4b27-9da9-8b8e039f9f9b",
   "metadata": {},
   "source": [
    "##### There are some ouliers in the purchase of males and females so considering only the 5th and 95th percentile to see the effect of sample size, otherwise the mean will be affected."
   ]
  },
  {
   "cell_type": "code",
   "execution_count": 723,
   "id": "5047946e-3e8a-44f6-87d0-13c438126031",
   "metadata": {},
   "outputs": [],
   "source": [
    "## Males\n",
    "high_m = np.percentile(df_males['Purchase'], 95)\n",
    "low_m = np.percentile(df_males['Purchase'], 5)\n",
    "\n",
    "## Females\n",
    "high_f = np.percentile(df_females['Purchase'], 95)\n",
    "low_f = np.percentile(df_females['Purchase'], 5)"
   ]
  },
  {
   "cell_type": "code",
   "execution_count": 724,
   "id": "72ce285e-a3e0-4807-bdd8-4d02942e3cf0",
   "metadata": {},
   "outputs": [],
   "source": [
    "males_size_effect_df = df_males[(df_males['Purchase']>low_m) & (df_males['Purchase']<high_m)]\n",
    "\n",
    "females_size_effect_df = df_females[(df_females['Purchase']>low_f) & (df_females['Purchase']<high_f)]"
   ]
  },
  {
   "cell_type": "code",
   "execution_count": 725,
   "id": "13e40dec-ddc0-44a7-bfc8-8553293dd99b",
   "metadata": {},
   "outputs": [
    {
     "data": {
      "text/plain": [
       "9290.503712267111"
      ]
     },
     "execution_count": 725,
     "metadata": {},
     "output_type": "execute_result"
    }
   ],
   "source": [
    "males_size_effect_df['Purchase'].mean()"
   ]
  },
  {
   "cell_type": "code",
   "execution_count": 726,
   "id": "6aad5876-8876-46c7-996e-03645108d8d0",
   "metadata": {},
   "outputs": [
    {
     "data": {
      "text/plain": [
       "8523.324485537782"
      ]
     },
     "execution_count": 726,
     "metadata": {},
     "output_type": "execute_result"
    }
   ],
   "source": [
    "females_size_effect_df['Purchase'].mean()"
   ]
  },
  {
   "cell_type": "code",
   "execution_count": 727,
   "id": "9c471dab-cfec-4d5d-98ea-61e3f9919c17",
   "metadata": {},
   "outputs": [],
   "source": [
    "sample_mean_males = []\n",
    "for i in range(5, 10000):\n",
    "    sample = np.random.choice(males_size_effect_df['Purchase'], size=i)\n",
    "    sample_mean = np.mean(sample)\n",
    "    sample_mean_males.append(sample_mean)\n",
    "\n",
    "\n",
    "sample_mean_females = []\n",
    "for i in range(5, 10000):\n",
    "    sample = np.random.choice(females_size_effect_df['Purchase'], size=i)\n",
    "    sample_mean = np.mean(sample)\n",
    "    sample_mean_females.append(sample_mean)"
   ]
  },
  {
   "cell_type": "code",
   "execution_count": 728,
   "id": "5151dabd-30a5-4156-b116-ce256c249d2d",
   "metadata": {},
   "outputs": [],
   "source": [
    "# sns.set_style('darkgrid',)"
   ]
  },
  {
   "cell_type": "code",
   "execution_count": 744,
   "id": "b045f239-fd7a-480a-bf5c-c8d373aae70a",
   "metadata": {},
   "outputs": [
    {
     "data": {
      "image/png": "[encoded data removed]",
      "text/plain": [
       "<Figure size 1080x360 with 2 Axes>"
      ]
     },
     "metadata": {},
     "output_type": "display_data"
    }
   ],
   "source": [
    "fig,(ax1, ax2) = plt.subplots(1,2, figsize=(15,5))\n",
    "plt.suptitle('Effect of bootstrapped sample size on the sample mean. The variance decreases with the increasing sample size')\n",
    "\n",
    "ax1.plot(list(range(5, 10000)),sample_mean_males, label='Males', color='c')\n",
    "ax1.set_xlabel('Increasing sample size with each draw')\n",
    "ax1.set_ylabel('Mean of each drawn sample')\n",
    "ax1.legend()\n",
    "\n",
    "ax2.plot(list(range(5, 10000)),sample_mean_females, label = 'Females')\n",
    "ax2.set_xlabel('Increasing sample size with each draw')\n",
    "ax2.legend()\n",
    "\n",
    "plt.show()"
   ]
  },
  {
   "cell_type": "markdown",
   "id": "c94bcf4f-c9a5-4f89-a3cc-9a954572a41f",
   "metadata": {},
   "source": [
    "##### "
   ]
  },
  {
   "cell_type": "markdown",
   "id": "386985fb-f38b-4b39-948e-c232af19345d",
   "metadata": {},
   "source": [
    "## 3.4 Histogram of sample means with 10000 bootstrapped samples, with different sample sizes.\n",
    "\n",
    "-- Each time x number of samples are drawn for 10000 times and the distribution of means is plotted for both the genders."
   ]
  },
  {
   "cell_type": "code",
   "execution_count": 500,
   "id": "53cd7f14-1868-445d-85dc-6d51780898ae",
   "metadata": {},
   "outputs": [],
   "source": [
    "n = [5, 10, 15, 30, 100]"
   ]
  },
  {
   "cell_type": "code",
   "execution_count": 480,
   "id": "2e8a6b46-9d40-4918-9d7f-a6b9ca91f4ba",
   "metadata": {},
   "outputs": [],
   "source": [
    "bootstrapped_means_per_transaction_males_5_10_15_30_100 = []"
   ]
  },
  {
   "cell_type": "code",
   "execution_count": 481,
   "id": "50e4c17c-f439-4c78-9f6d-c10649e0acd9",
   "metadata": {},
   "outputs": [],
   "source": [
    "for i in n:\n",
    "    bootstrapped_means_per_transaction_males_5_10_15_30_100.append(bootstrapped_list_of_mean(column=df_males['Purchase'], size_of_each_sample=i, number_of_times_to_sample=10000))\n"
   ]
  },
  {
   "cell_type": "code",
   "execution_count": 501,
   "id": "11067595-99ce-46c5-ba82-3cf14ba431e7",
   "metadata": {},
   "outputs": [],
   "source": [
    "bootstrapped_means_per_transaction_females_5_10_15_30_100 = []"
   ]
  },
  {
   "cell_type": "code",
   "execution_count": 502,
   "id": "3926382d-eb3c-4e46-9c11-eeb816a6b335",
   "metadata": {},
   "outputs": [],
   "source": [
    "for i in n:\n",
    "    bootstrapped_means_per_transaction_females_5_10_15_30_100.append(bootstrapped_list_of_mean(column=df_females['Purchase'], size_of_each_sample=i, number_of_times_to_sample=10000))\n"
   ]
  },
  {
   "cell_type": "code",
   "execution_count": 503,
   "id": "2e8782e0-d438-4aab-a5c5-16d2cb45f985",
   "metadata": {},
   "outputs": [
    {
     "data": {
      "text/plain": [
       "5"
      ]
     },
     "execution_count": 503,
     "metadata": {},
     "output_type": "execute_result"
    }
   ],
   "source": [
    "len(bootstrapped_means_per_transaction_females_5_10_15_30_100)"
   ]
  },
  {
   "cell_type": "code",
   "execution_count": 526,
   "id": "396526b0-dff7-43f4-b17d-6fa69c22cf28",
   "metadata": {},
   "outputs": [],
   "source": [
    "# sns.set_style('whitegrid')\n",
    "sns.set_style('darkgrid')"
   ]
  },
  {
   "cell_type": "code",
   "execution_count": 561,
   "id": "bb7e8e59-10e1-4900-a609-f0078fd261c0",
   "metadata": {},
   "outputs": [
    {
     "data": {
      "image/png": "[encoded data removed]",
      "text/plain": [
       "<Figure size 1152x432 with 10 Axes>"
      ]
     },
     "metadata": {},
     "output_type": "display_data"
    }
   ],
   "source": [
    "fig, (ax1, ax2, ax3, ax4, ax5) = plt.subplots(5,2, figsize=(16,6), sharex=True, sharey = True)\n",
    "plt.suptitle('Histogram showing the effect of sample size on the sampling distribution of the sample means')\n",
    "\n",
    "ax1[0] = sns.histplot(bootstrapped_means_per_transaction_males_5_10_15_30_100[0], ax=ax1[0], label = 'Sample size: 5', color='c')\n",
    "ax1[0].legend()\n",
    "ax1[0].set_ylabel(' ')\n",
    "\n",
    "\n",
    "ax2[0] = sns.histplot(bootstrapped_means_per_transaction_males_5_10_15_30_100[1], ax=ax2[0], label = 'Sample size: 10', color='c')\n",
    "ax2[0].legend()\n",
    "ax2[0].set_ylabel(' ')\n",
    "\n",
    "\n",
    "ax3[0] = sns.histplot(bootstrapped_means_per_transaction_males_5_10_15_30_100[2], ax=ax3[0], label = 'Sample size: 15', color='c')\n",
    "ax3[0].legend()\n",
    "ax3[0].set_ylabel(' ')\n",
    "\n",
    "\n",
    "ax4[0] = sns.histplot(bootstrapped_means_per_transaction_males_5_10_15_30_100[3], ax=ax4[0], label = 'Sample size: 30', color='c')\n",
    "ax4[0].legend()\n",
    "ax4[0].set_ylabel(' ')\n",
    "\n",
    "ax5[0] = sns.histplot(bootstrapped_means_per_transaction_males_5_10_15_30_100[4], ax=ax5[0], label = 'Sample size: 100', color='c')\n",
    "ax5[0].legend()\n",
    "ax5[0].set_ylabel(' ')\n",
    "\n",
    "ax5[0].set_xlabel('Males')\n",
    "# ax5[0].set_ylabel('Counts')\n",
    "\n",
    "\n",
    "ax1[1] = sns.histplot(bootstrapped_means_per_transaction_females_5_10_15_30_100[0], ax=ax1[1], label = 'Sample size: 5')\n",
    "ax1[1].legend()\n",
    "\n",
    "ax2[1] = sns.histplot(bootstrapped_means_per_transaction_females_5_10_15_30_100[1], ax=ax2[1], label = 'Sample size: 10')\n",
    "ax2[1].legend()\n",
    "\n",
    "ax3[1] = sns.histplot(bootstrapped_means_per_transaction_females_5_10_15_30_100[2], ax=ax3[1], label = 'Sample size: 15')\n",
    "ax3[1].legend()\n",
    "\n",
    "ax4[1] = sns.histplot(bootstrapped_means_per_transaction_females_5_10_15_30_100[3], ax=ax4[1], label = 'Sample size: 30')\n",
    "ax4[1].legend()\n",
    "\n",
    "ax5[1] = sns.histplot(bootstrapped_means_per_transaction_females_5_10_15_30_100[4], ax=ax5[1], label = 'Sample size: 100')\n",
    "ax5[1].legend()\n",
    "\n",
    "ax5[1].set_xlabel('Females')\n",
    "\n",
    "fig.text(0.5, -0.05, 'As the sample size increases, the distribution progressively becomes narrower!', ha='center')\n",
    "fig.text(0.06, 0.5, 'Counts', va='center', rotation='vertical')\n",
    "\n",
    "plt.show()"
   ]
  },
  {
   "cell_type": "markdown",
   "id": "653c43fe-555f-45b7-903a-b49281b13a3a",
   "metadata": {},
   "source": [
    "##### "
   ]
  },
  {
   "cell_type": "markdown",
   "id": "1af96974-3396-4749-af37-1e81d4c97f61",
   "metadata": {},
   "source": [
    "### Insights\n",
    "\n",
    "- $\\color{blue}{\\text{As the sample size increases for each draw, the mean of the sample moves closer to the true mean of population.}}$\n",
    "\n",
    "- $\\color{blue}{\\text{The sampling distribution of the sample means for spend per transaction becomes tigher around the mean (the variance decreases) as the sample size increases.}}$\n",
    "\n",
    "- $\\color{blue}{\\text{The histogram of the sampling distribution of the sample means looks approximately normal for all the sample sizes considered in this analysis.}}$\n",
    "\n",
    "- $\\color{blue}{\\text{The above observations are true for both males as well as females.}}$"
   ]
  },
  {
   "cell_type": "markdown",
   "id": "98e479d3-3523-4033-956e-5adb9f3d91f6",
   "metadata": {},
   "source": [
    "##### "
   ]
  },
  {
   "cell_type": "markdown",
   "id": "8719b97f-9db0-4e5c-bfe5-e8d8ecf8f933",
   "metadata": {},
   "source": [
    "# 4. Computing the confidence intervals using the percentiles for males and females spending per transaction"
   ]
  },
  {
   "cell_type": "markdown",
   "id": "15cd01ec-813c-441d-882d-180f6ec83694",
   "metadata": {},
   "source": [
    "## 4.1 95% CI for Males and Females are simply the 2.5th and 97.5th percentile of the sampling distribution of the sample means"
   ]
  },
  {
   "cell_type": "code",
   "execution_count": 781,
   "id": "247fb74e-505a-434a-ad7e-3f0e1d30562e",
   "metadata": {},
   "outputs": [],
   "source": [
    "males_CI_95_upper = np.percentile(bootstrapped_means_per_transaction_males, 97.5).round(2)\n",
    "males_CI_95_lower = np.percentile(bootstrapped_means_per_transaction_males, 2.5).round(2)\n",
    "\n",
    "\n",
    "females_CI_95_upper = np.percentile(bootstrapped_means_per_transaction_females, 97.5).round(2)\n",
    "females_CI_95_lower = np.percentile(bootstrapped_means_per_transaction_females, 2.5).round(2)"
   ]
  },
  {
   "cell_type": "code",
   "execution_count": 782,
   "id": "de0f7745-3a7a-45d7-bcd1-1d16ddca8351",
   "metadata": {},
   "outputs": [
    {
     "name": "stdout",
     "output_type": "stream",
     "text": [
      "The 95% confidence interval for purchase amount per transaction for males is (9124.1, 9755.13)\n",
      "The 95% confidence interval for purchase amount per transaction for females is (8435.58, 9031.02)\n"
     ]
    }
   ],
   "source": [
    "print(f'The 95% confidence interval for purchase amount per transaction for males is {males_CI_95_lower, males_CI_95_upper}')\n",
    "\n",
    "print(f'The 95% confidence interval for purchase amount per transaction for females is {females_CI_95_lower, females_CI_95_upper}')"
   ]
  },
  {
   "cell_type": "markdown",
   "id": "5a760337-2e82-4001-9418-e1479e1ccd32",
   "metadata": {},
   "source": [
    "##### "
   ]
  },
  {
   "cell_type": "markdown",
   "id": "0f6b3526-97ea-4c82-8566-a0fce0549ec1",
   "metadata": {},
   "source": [
    "## 4.2 Computing the 95% CI **using the mean and standard devidation** of the sampling distribution of the sample means"
   ]
  },
  {
   "cell_type": "code",
   "execution_count": 783,
   "id": "9bdb1ddc-d601-4052-8a4c-856ee54afb30",
   "metadata": {},
   "outputs": [],
   "source": [
    "## Males\n",
    "\n",
    "bootstrapped_mean_males = np.mean(bootstrapped_means_per_transaction_males)\n",
    "\n",
    "bootstrapped_std_dev_males = np.std(bootstrapped_means_per_transaction_males)\n",
    "\n",
    "## Females\n",
    "\n",
    "bootstrapped_mean_females = np.mean(bootstrapped_means_per_transaction_females)\n",
    "\n",
    "bootstrapped_std_dev_females = np.std(bootstrapped_means_per_transaction_females)"
   ]
  },
  {
   "cell_type": "code",
   "execution_count": 784,
   "id": "cf3bf8d1-9788-4785-811e-ffe8d20a0256",
   "metadata": {},
   "outputs": [
    {
     "data": {
      "text/plain": [
       "0.0"
      ]
     },
     "execution_count": 784,
     "metadata": {},
     "output_type": "execute_result"
    }
   ],
   "source": [
    "norm.ppf(0.5)"
   ]
  },
  {
   "cell_type": "code",
   "execution_count": 785,
   "id": "f10cd91e-f8aa-45ef-8fa7-f08be1459de5",
   "metadata": {},
   "outputs": [
    {
     "data": {
      "text/plain": [
       "(-1.96, 1.96)"
      ]
     },
     "execution_count": 785,
     "metadata": {},
     "output_type": "execute_result"
    }
   ],
   "source": [
    "z_score_95CI_upper = norm.ppf(0.975).round(2)\n",
    "z_score_95CI_lower = norm.ppf(0.025).round(2)\n",
    "z_score_95CI_lower, z_score_95CI_upper"
   ]
  },
  {
   "cell_type": "code",
   "execution_count": 786,
   "id": "ad908991-7f22-484f-a342-a5f0682b375e",
   "metadata": {},
   "outputs": [
    {
     "name": "stdout",
     "output_type": "stream",
     "text": [
      "95% CI for males for spending per transaction is: (9125.121826138717, 9750.899516061281)\n",
      "95% CI for females for spending per transaction is: (8437.57364376744, 9031.863160432562)\n"
     ]
    }
   ],
   "source": [
    "CI_males_95 = (bootstrapped_mean_males + bootstrapped_std_dev_males * z_score_95CI_lower, bootstrapped_mean_males + bootstrapped_std_dev_males * z_score_95CI_upper)\n",
    "\n",
    "CI_females_95 = (bootstrapped_mean_females + bootstrapped_std_dev_females * z_score_95CI_lower, bootstrapped_mean_females + bootstrapped_std_dev_females * z_score_95CI_upper)\n",
    "\n",
    "print(f'95% CI for males for spending per transaction is: {CI_males_95}')\n",
    "\n",
    "print(f'95% CI for females for spending per transaction is: {CI_females_95}')"
   ]
  },
  {
   "cell_type": "markdown",
   "id": "f015f62c-8133-4a3b-9366-a08ac929ac08",
   "metadata": {},
   "source": [
    "#### The confidnce intervals calculated using the percentiles or by the std dev of the sampling distribution of the sample means is similar (the differences are from the rounding) <br>\n",
    "(refer section 4.1 and 4.2 for clarification)"
   ]
  },
  {
   "cell_type": "markdown",
   "id": "26765baa-099b-4418-a605-b20678df4a00",
   "metadata": {},
   "source": [
    "##### "
   ]
  },
  {
   "cell_type": "markdown",
   "id": "aaf210be-f418-45e8-bfb5-dc5a05897fa0",
   "metadata": {},
   "source": [
    "## 4.3 Compute the 90 and 99 percent confidence intervals for males and females with percentiles"
   ]
  },
  {
   "cell_type": "code",
   "execution_count": 787,
   "id": "3f156256-dd02-4e5f-bf1c-7c5bb1f8ad5d",
   "metadata": {},
   "outputs": [
    {
     "name": "stdout",
     "output_type": "stream",
     "text": [
      "\n",
      "90% CI for males for spending per transaction is: (9177.59, 9702.33)\n",
      "99% CI for males for spending per transaction is: (9031.17, 9846.12)\n",
      "\n",
      "90% CI for females for spending per transaction is: (8483.25, 8985.87)\n",
      "99% CI for females for spending per transaction is: (8349.28, 9125.52)\n"
     ]
    }
   ],
   "source": [
    "\n",
    "#### Males  - 90% CI\n",
    "print('')\n",
    "\n",
    "males_CI_90_upper = np.percentile(bootstrapped_means_per_transaction_males, 95).round(2)\n",
    "males_CI_90_lower = np.percentile(bootstrapped_means_per_transaction_males, 5).round(2)\n",
    "print(f'90% CI for males for spending per transaction is: {males_CI_90_lower, males_CI_90_upper}')\n",
    "\n",
    "\n",
    "####  Males - 99% CI\n",
    "males_CI_99_upper = np.percentile(bootstrapped_means_per_transaction_males, 99.5).round(2)\n",
    "males_CI_99_lower = np.percentile(bootstrapped_means_per_transaction_males, 0.5).round(2)\n",
    "print(f'99% CI for males for spending per transaction is: {males_CI_99_lower, males_CI_99_upper}')\n",
    "\n",
    "print('')\n",
    "#### Males  - 90% CI\n",
    "\n",
    "females_CI_90_upper = np.percentile(bootstrapped_means_per_transaction_females, 95).round(2)\n",
    "females_CI_90_lower = np.percentile(bootstrapped_means_per_transaction_females, 5).round(2)\n",
    "print(f'90% CI for females for spending per transaction is: {females_CI_90_lower, females_CI_90_upper}')\n",
    "\n",
    "\n",
    "####  Males - 99% CI\n",
    "females_CI_99_upper = np.percentile(bootstrapped_means_per_transaction_females, 99.5).round(2)\n",
    "females_CI_99_lower = np.percentile(bootstrapped_means_per_transaction_females, 0.5).round(2)\n",
    "print(f'99% CI for females for spending per transaction is: {females_CI_99_lower, females_CI_99_upper}')"
   ]
  },
  {
   "cell_type": "markdown",
   "id": "efd7d660-b519-4740-a97e-00f5d1689846",
   "metadata": {},
   "source": [
    "##### "
   ]
  },
  {
   "cell_type": "markdown",
   "id": "70ce24bd-a4c6-4382-9ef9-91a9b5ac44c5",
   "metadata": {},
   "source": [
    "## 4.4 Sampling distribution of the sampling means for males and females side-by-side overlayed with different confidence intervals"
   ]
  },
  {
   "cell_type": "code",
   "execution_count": 788,
   "id": "c6f98b3b-26f5-4c10-9d9e-c623afd62a15",
   "metadata": {},
   "outputs": [],
   "source": [
    "# sns.set_style('darkgrid')\n",
    "# sns.set_style(\"darkgrid\", {\"grid.color\": \"1\"})"
   ]
  },
  {
   "cell_type": "code",
   "execution_count": 789,
   "id": "f57067be-fa76-443f-8c2c-e8aaacc47af5",
   "metadata": {},
   "outputs": [
    {
     "data": {
      "image/png": "[encoded data removed]",
      "text/plain": [
       "<Figure size 720x576 with 2 Axes>"
      ]
     },
     "metadata": {},
     "output_type": "display_data"
    }
   ],
   "source": [
    "fig,(ax1, ax2) = plt.subplots(2,1, figsize=(10,8), sharex=True)\n",
    "plt.suptitle('Histogram showing confidence intervals for average spends per transaction for males and females (100 samples for 10000 times)')\n",
    "males = sns.histplot(bootstrapped_means_per_transaction_males, bins=50, ax=ax1, label='Males', alpha=0.6, color='c')\n",
    "# males.set_xlabel('Sampling distribution of sample means for males')\n",
    "\n",
    "males.axvline(x = males_CI_90_upper, color = 'r', label = '90% CI')\n",
    "males.axvline(x = males_CI_90_lower, color = 'r')\n",
    "\n",
    "males.axvline(x = males_CI_95_upper, color = 'm', label = '95% CI')\n",
    "males.axvline(x = males_CI_95_lower, color = 'm')\n",
    "\n",
    "males.axvline(x = males_CI_99_upper, color = 'y', label = '99% CI')\n",
    "males.axvline(x = males_CI_99_lower, color = 'y')\n",
    "\n",
    "males.legend()\n",
    "\n",
    "females = sns.histplot(bootstrapped_means_per_transaction_females, bins=50, ax=ax2, label='Females', alpha=0.6)\n",
    "females.set_xlabel('Sampling distribution of sample means')\n",
    "\n",
    "females.axvline(x = females_CI_90_upper, color = 'r', label = '90% CI')\n",
    "females.axvline(x = females_CI_90_lower, color = 'r')\n",
    "\n",
    "females.axvline(x = females_CI_95_upper, color = 'm', label = '95% CI')\n",
    "females.axvline(x = females_CI_95_lower, color = 'm')\n",
    "\n",
    "females.axvline(x = females_CI_99_upper, color = 'y', label = '99% CI')\n",
    "females.axvline(x = females_CI_99_lower, color = 'y')\n",
    "\n",
    "females.legend()\n",
    "\n",
    "plt.show()"
   ]
  },
  {
   "cell_type": "markdown",
   "id": "4855862e-b08a-4efa-80e6-9d7422a6e904",
   "metadata": {},
   "source": [
    "### Insights\n",
    "\n",
    "- $\\color{blue}{\\text{The average spending per transaction of males population may lie within USD (8601, 10277) with 90% confidence, (8435, 10427) with 95% confidence, USD (8168, 10781) with 99% confidence.}}$\n",
    "\n",
    "- $\\color{blue}{\\text{The average spending per transaction of females population may lie within USD (7963, 9535) with 90% confidence, (7802, 9665) with 95% confidence, USD (7558, 9977) with 99% confidence.}}$\n",
    "\n",
    "- $\\color{blue}{\\text{Naturally, as the amount of confidence (precision) gets higher, the interval accordingly gets bigger.}}$"
   ]
  },
  {
   "cell_type": "markdown",
   "id": "52a914b4-2f43-46b2-8b68-9226900024e5",
   "metadata": {},
   "source": [
    "##### "
   ]
  },
  {
   "cell_type": "markdown",
   "id": "4479519f-a33d-42bf-97c2-7c9e32784acd",
   "metadata": {},
   "source": [
    "##### "
   ]
  },
  {
   "cell_type": "markdown",
   "id": "9f55eb80-346d-4158-8a75-4d90323d8e0e",
   "metadata": {},
   "source": [
    "# **5. Amount spent per transaction vs marital status (1 - married, 0 - unmarried)**"
   ]
  },
  {
   "cell_type": "markdown",
   "id": "540ec678-b340-4af1-b2a2-bc7cb6ce7924",
   "metadata": {},
   "source": [
    "## 5.1 Boxplot of married and umarried folks"
   ]
  },
  {
   "cell_type": "code",
   "execution_count": 575,
   "id": "3f75e22a-b67a-4f15-a3af-5f1defe1f036",
   "metadata": {},
   "outputs": [
    {
     "data": {
      "text/html": [
       "<div>\n",
       "<style scoped>\n",
       "    .dataframe tbody tr th:only-of-type {\n",
       "        vertical-align: middle;\n",
       "    }\n",
       "\n",
       "    .dataframe tbody tr th {\n",
       "        vertical-align: top;\n",
       "    }\n",
       "\n",
       "    .dataframe thead th {\n",
       "        text-align: right;\n",
       "    }\n",
       "</style>\n",
       "<table border=\"1\" class=\"dataframe\">\n",
       "  <thead>\n",
       "    <tr style=\"text-align: right;\">\n",
       "      <th></th>\n",
       "      <th>min</th>\n",
       "      <th>max</th>\n",
       "      <th>mean</th>\n",
       "      <th>median</th>\n",
       "    </tr>\n",
       "    <tr>\n",
       "      <th>Marital_Status</th>\n",
       "      <th></th>\n",
       "      <th></th>\n",
       "      <th></th>\n",
       "      <th></th>\n",
       "    </tr>\n",
       "  </thead>\n",
       "  <tbody>\n",
       "    <tr>\n",
       "      <th>0</th>\n",
       "      <td>12</td>\n",
       "      <td>23961</td>\n",
       "      <td>9265.91</td>\n",
       "      <td>8044</td>\n",
       "    </tr>\n",
       "    <tr>\n",
       "      <th>1</th>\n",
       "      <td>12</td>\n",
       "      <td>23961</td>\n",
       "      <td>9261.17</td>\n",
       "      <td>8051</td>\n",
       "    </tr>\n",
       "  </tbody>\n",
       "</table>\n",
       "</div>"
      ],
      "text/plain": [
       "                min    max     mean  median\n",
       "Marital_Status                             \n",
       "0                12  23961  9265.91    8044\n",
       "1                12  23961  9261.17    8051"
      ]
     },
     "execution_count": 575,
     "metadata": {},
     "output_type": "execute_result"
    }
   ],
   "source": [
    "df.groupby('Marital_Status')['Purchase'].agg([min, max, np.mean, np.median]).round(2)"
   ]
  },
  {
   "cell_type": "code",
   "execution_count": 574,
   "id": "6478d804-5cc6-4aba-9eeb-6a4c8527caac",
   "metadata": {},
   "outputs": [],
   "source": [
    "# sns.set_style('whitegrid')"
   ]
  },
  {
   "cell_type": "code",
   "execution_count": 797,
   "id": "8f4f178f-3c7c-47c3-bc6c-04d009758aba",
   "metadata": {},
   "outputs": [
    {
     "data": {
      "image/png": "[encoded data removed]",
      "text/plain": [
       "<Figure size 720x360 with 1 Axes>"
      ]
     },
     "metadata": {},
     "output_type": "display_data"
    }
   ],
   "source": [
    "plt.figure(figsize=(10,5))\n",
    "sns.boxplot(data = df, x = 'Purchase', y='Marital_Status',)\n",
    "plt.title('Boxplot showing spending amount per transaction of married (1) and and unmarried (0) folks')\n",
    "plt.show()"
   ]
  },
  {
   "cell_type": "code",
   "execution_count": 578,
   "id": "1f50f609-ca8f-4b4c-aef7-b300e3451c34",
   "metadata": {},
   "outputs": [],
   "source": [
    "## Getting the df for married and unmarried people (marital status: 1 - married)\n",
    "\n",
    "df_married = df[df['Marital_Status'] == '1']\n",
    "df_unmarried = df[df['Marital_Status'] == '0']"
   ]
  },
  {
   "cell_type": "markdown",
   "id": "d987d0b2-43f5-41d7-9bf1-45386f172e76",
   "metadata": {},
   "source": [
    "## 5.2 Bootstrapping data generation"
   ]
  },
  {
   "cell_type": "code",
   "execution_count": 764,
   "id": "6cf17640-be11-4e53-8d4d-3772ea38d353",
   "metadata": {},
   "outputs": [],
   "source": [
    "##calling the earlier written function for generating the bootstrapped data.\n",
    "\n",
    "bootstrapped_means_per_transaction_married = bootstrapped_list_of_mean(column=df_married['Purchase'], size_of_each_sample=700, number_of_times_to_sample=10000)\n",
    "\n",
    "bootstrapped_means_per_transaction_unmarried = bootstrapped_list_of_mean(column=df_unmarried['Purchase'], size_of_each_sample=700, number_of_times_to_sample=10000)"
   ]
  },
  {
   "cell_type": "markdown",
   "id": "0435b299-c0a7-422f-8163-e4b1006b8719",
   "metadata": {},
   "source": [
    "## 5.3 Confidence intervals from bootstrapped data"
   ]
  },
  {
   "cell_type": "markdown",
   "id": "93e52e2d-34c9-4dbc-90de-e20139d7c5ee",
   "metadata": {},
   "source": [
    "### Married"
   ]
  },
  {
   "cell_type": "code",
   "execution_count": 765,
   "id": "f5a9612f-98fa-4ebc-b89e-94f5c0829001",
   "metadata": {},
   "outputs": [
    {
     "name": "stdout",
     "output_type": "stream",
     "text": [
      "\n",
      "90% CI for married folks for spending per transaction is: (8950.98, 9575.05)\n",
      "95% CI for married folks for spending per transaction is: (8895.33, 9637.59)\n",
      "99% CI for married folks  for spending per transaction is: (8774.98, 9762.79)\n"
     ]
    }
   ],
   "source": [
    "#### Married  - 90% CI\n",
    "print('')\n",
    "\n",
    "married_CI_90_upper = np.percentile(bootstrapped_means_per_transaction_married, 95).round(2)\n",
    "married_CI_90_lower = np.percentile(bootstrapped_means_per_transaction_married, 5).round(2)\n",
    "print(f'90% CI for married folks for spending per transaction is: {married_CI_90_lower, married_CI_90_upper}')\n",
    "\n",
    "#### Married  - 95% CI\n",
    "\n",
    "married_CI_95_upper = np.percentile(bootstrapped_means_per_transaction_married, 97.5).round(2)\n",
    "married_CI_95_lower = np.percentile(bootstrapped_means_per_transaction_married, 2.5).round(2)\n",
    "print(f'95% CI for married folks for spending per transaction is: {married_CI_95_lower, married_CI_95_upper}')\n",
    "\n",
    "\n",
    "####  Married - 99% CI\n",
    "married_CI_99_upper = np.percentile(bootstrapped_means_per_transaction_married, 99.5).round(2)\n",
    "married_CI_99_lower = np.percentile(bootstrapped_means_per_transaction_married, 0.5).round(2)\n",
    "print(f'99% CI for married folks  for spending per transaction is: {married_CI_99_lower, married_CI_99_upper}')"
   ]
  },
  {
   "cell_type": "markdown",
   "id": "d2fe0f6d-6535-438f-86e3-f5e911e0cc48",
   "metadata": {},
   "source": [
    "### Unmarried"
   ]
  },
  {
   "cell_type": "code",
   "execution_count": 798,
   "id": "90cb6950-f8fc-4ea3-94aa-e2e78b506bd0",
   "metadata": {},
   "outputs": [
    {
     "name": "stdout",
     "output_type": "stream",
     "text": [
      "\n",
      "90% CI for unmarried folks for spending per transaction is: (8959.29, 9585.81)\n",
      "95% CI for unmarried folks for spending per transaction is: (8895.33, 9637.59)\n",
      "99% CI for unmarried folks  for spending per transaction is: (8775.74, 9782.04)\n"
     ]
    }
   ],
   "source": [
    "#### Unarried  - 90% CI\n",
    "print('')\n",
    "\n",
    "unmarried_CI_90_upper = np.percentile(bootstrapped_means_per_transaction_unmarried, 95).round(2)\n",
    "unmarried_CI_90_lower = np.percentile(bootstrapped_means_per_transaction_unmarried, 5).round(2)\n",
    "print(f'90% CI for unmarried folks for spending per transaction is: {unmarried_CI_90_lower, unmarried_CI_90_upper}')\n",
    "\n",
    "#### Unarried  - 95% CI\n",
    "\n",
    "unmarried_CI_95_upper = np.percentile(bootstrapped_means_per_transaction_married, 97.5).round(2)\n",
    "unmarried_CI_95_lower = np.percentile(bootstrapped_means_per_transaction_married, 2.5).round(2)\n",
    "print(f'95% CI for unmarried folks for spending per transaction is: {unmarried_CI_95_lower, unmarried_CI_95_upper}')\n",
    "\n",
    "\n",
    "####  Unmarried - 99% CI\n",
    "unmarried_CI_99_upper = np.percentile(bootstrapped_means_per_transaction_unmarried, 99.5).round(2)\n",
    "unmarried_CI_99_lower = np.percentile(bootstrapped_means_per_transaction_unmarried, 0.5).round(2)\n",
    "print(f'99% CI for unmarried folks  for spending per transaction is: {unmarried_CI_99_lower, unmarried_CI_99_upper}')"
   ]
  },
  {
   "cell_type": "markdown",
   "id": "3a731628-0c5c-4f41-9098-095a82bbd60b",
   "metadata": {},
   "source": [
    "# 5.4 Histogram of overlayed with confidence intervals"
   ]
  },
  {
   "cell_type": "code",
   "execution_count": 767,
   "id": "3d4dd769-4e31-4329-a281-da070390e183",
   "metadata": {},
   "outputs": [],
   "source": [
    "# sns.set_style('whitegrid', facecolor = 'k')\n",
    "# sns.set_style(\"darkgrid\", {\"axes.facecolor\": \"0.95\"})"
   ]
  },
  {
   "cell_type": "code",
   "execution_count": 920,
   "id": "9e3b9a2b-8e7a-4678-aa46-746d04e7a62d",
   "metadata": {},
   "outputs": [
    {
     "data": {
      "image/png": "[encoded data removed]",
      "text/plain": [
       "<Figure size 720x576 with 2 Axes>"
      ]
     },
     "metadata": {},
     "output_type": "display_data"
    }
   ],
   "source": [
    "fig,(ax1, ax2) = plt.subplots(2,1, figsize=(10,8), sharex=True)\n",
    "plt.suptitle('Histogram showing confidence intervals for average spends per transaction for married and unmarried folks (700 records drawn 10000 times)')\n",
    "married = sns.histplot(bootstrapped_means_per_transaction_married, bins=50, ax=ax1, label='Married', alpha=0.5, color='g')\n",
    "married.set_xlabel('Sampling distribution of sample means for married')\n",
    "\n",
    "married.axvline(x = married_CI_90_upper, color = 'r', label = '90% CI')\n",
    "married.axvline(x = married_CI_90_lower, color = 'r')\n",
    "\n",
    "married.axvline(x = married_CI_95_upper, color = 'm', label = '95% CI')\n",
    "married.axvline(x = married_CI_95_lower, color = 'm')\n",
    "\n",
    "married.axvline(x = married_CI_99_upper, color = 'y', label = '99% CI')\n",
    "married.axvline(x = married_CI_99_lower, color = 'y')\n",
    "\n",
    "married.legend()\n",
    "\n",
    "unmarried = sns.histplot(bootstrapped_means_per_transaction_unmarried, bins=50, ax=ax2, label='Unmarried', alpha=0.7, color='pink')\n",
    "unmarried.set_xlabel('Sampling distribution of sample means')\n",
    "\n",
    "unmarried.axvline(x = unmarried_CI_90_upper, color = 'r', label = '90% CI')\n",
    "unmarried.axvline(x = unmarried_CI_90_lower, color = 'r')\n",
    "\n",
    "unmarried.axvline(x = unmarried_CI_95_upper, color = 'm', label = '95% CI')\n",
    "unmarried.axvline(x = unmarried_CI_95_lower, color = 'm')\n",
    "\n",
    "unmarried.axvline(x = unmarried_CI_99_upper, color = 'y', label = '99% CI')\n",
    "unmarried.axvline(x = unmarried_CI_99_lower, color = 'y')\n",
    "\n",
    "unmarried.legend()\n",
    "\n",
    "plt.show()"
   ]
  },
  {
   "cell_type": "markdown",
   "id": "c5c5e18a-0c76-49a1-9ad6-6b8fa5cff24e",
   "metadata": {},
   "source": [
    "### Insights\n",
    "\n",
    "- $\\color{blue}{\\text{The boxplot reveals that the minium, maximum, mean, median values of amount spent per transaction by married and unmarried people is nearly same.}}$\n",
    "\n",
    "\n",
    "- $\\color{blue}{\\text{The average spending per transaction of married population may lie within USD (8950, 9575) with 90% confidence, (8895, 9637) with 95% confidence, USD (8774, 9762) with 99% confidence.}}$\n",
    "\n",
    "\n",
    "- $\\color{blue}{\\text{The average spending per transaction of unmarried population may lie within USD (8959, 9585) with 90% confidence, (8895, 9637) with 95% confidence, USD (8775, 9782) with 99% confidence.}}$\n",
    "\n",
    "- $\\color{blue}{\\text{The confidence intervals for married and unmarried folks are very similar (also visible in the histogram above).}}$"
   ]
  },
  {
   "cell_type": "code",
   "execution_count": null,
   "id": "85bbefd3-d76d-4129-92c9-a50cd5596db8",
   "metadata": {},
   "outputs": [],
   "source": []
  },
  {
   "cell_type": "code",
   "execution_count": null,
   "id": "b3b81b48-0b07-4eb2-88a7-289475967fba",
   "metadata": {},
   "outputs": [],
   "source": []
  },
  {
   "cell_type": "code",
   "execution_count": null,
   "id": "fccf24bd-9dd8-4143-8fd8-2afe10b3fcf3",
   "metadata": {},
   "outputs": [],
   "source": []
  },
  {
   "cell_type": "code",
   "execution_count": null,
   "id": "95b3dcaf-2e04-448d-ab62-150c871b021c",
   "metadata": {},
   "outputs": [],
   "source": []
  },
  {
   "cell_type": "code",
   "execution_count": 799,
   "id": "7ec82a4a-78e8-4f2e-9102-d8d97ce002cc",
   "metadata": {},
   "outputs": [
    {
     "data": {
      "text/html": [
       "<div>\n",
       "<style scoped>\n",
       "    .dataframe tbody tr th:only-of-type {\n",
       "        vertical-align: middle;\n",
       "    }\n",
       "\n",
       "    .dataframe tbody tr th {\n",
       "        vertical-align: top;\n",
       "    }\n",
       "\n",
       "    .dataframe thead th {\n",
       "        text-align: right;\n",
       "    }\n",
       "</style>\n",
       "<table border=\"1\" class=\"dataframe\">\n",
       "  <thead>\n",
       "    <tr style=\"text-align: right;\">\n",
       "      <th></th>\n",
       "      <th>User_ID</th>\n",
       "      <th>Product_ID</th>\n",
       "      <th>Gender</th>\n",
       "      <th>Age</th>\n",
       "      <th>Occupation</th>\n",
       "      <th>City_Category</th>\n",
       "      <th>Stay_In_Current_City_Years</th>\n",
       "      <th>Marital_Status</th>\n",
       "      <th>Product_Category</th>\n",
       "      <th>Purchase</th>\n",
       "    </tr>\n",
       "  </thead>\n",
       "  <tbody>\n",
       "    <tr>\n",
       "      <th>0</th>\n",
       "      <td>1000001</td>\n",
       "      <td>P00069042</td>\n",
       "      <td>F</td>\n",
       "      <td>0-17</td>\n",
       "      <td>10</td>\n",
       "      <td>A</td>\n",
       "      <td>2</td>\n",
       "      <td>0</td>\n",
       "      <td>3</td>\n",
       "      <td>8370</td>\n",
       "    </tr>\n",
       "    <tr>\n",
       "      <th>1</th>\n",
       "      <td>1000001</td>\n",
       "      <td>P00248942</td>\n",
       "      <td>F</td>\n",
       "      <td>0-17</td>\n",
       "      <td>10</td>\n",
       "      <td>A</td>\n",
       "      <td>2</td>\n",
       "      <td>0</td>\n",
       "      <td>1</td>\n",
       "      <td>15200</td>\n",
       "    </tr>\n",
       "    <tr>\n",
       "      <th>2</th>\n",
       "      <td>1000001</td>\n",
       "      <td>P00087842</td>\n",
       "      <td>F</td>\n",
       "      <td>0-17</td>\n",
       "      <td>10</td>\n",
       "      <td>A</td>\n",
       "      <td>2</td>\n",
       "      <td>0</td>\n",
       "      <td>12</td>\n",
       "      <td>1422</td>\n",
       "    </tr>\n",
       "    <tr>\n",
       "      <th>3</th>\n",
       "      <td>1000001</td>\n",
       "      <td>P00085442</td>\n",
       "      <td>F</td>\n",
       "      <td>0-17</td>\n",
       "      <td>10</td>\n",
       "      <td>A</td>\n",
       "      <td>2</td>\n",
       "      <td>0</td>\n",
       "      <td>12</td>\n",
       "      <td>1057</td>\n",
       "    </tr>\n",
       "    <tr>\n",
       "      <th>4</th>\n",
       "      <td>1000002</td>\n",
       "      <td>P00285442</td>\n",
       "      <td>M</td>\n",
       "      <td>55+</td>\n",
       "      <td>16</td>\n",
       "      <td>C</td>\n",
       "      <td>4+</td>\n",
       "      <td>0</td>\n",
       "      <td>8</td>\n",
       "      <td>7969</td>\n",
       "    </tr>\n",
       "  </tbody>\n",
       "</table>\n",
       "</div>"
      ],
      "text/plain": [
       "   User_ID Product_ID Gender   Age Occupation City_Category  \\\n",
       "0  1000001  P00069042      F  0-17         10             A   \n",
       "1  1000001  P00248942      F  0-17         10             A   \n",
       "2  1000001  P00087842      F  0-17         10             A   \n",
       "3  1000001  P00085442      F  0-17         10             A   \n",
       "4  1000002  P00285442      M   55+         16             C   \n",
       "\n",
       "  Stay_In_Current_City_Years Marital_Status Product_Category  Purchase  \n",
       "0                          2              0                3      8370  \n",
       "1                          2              0                1     15200  \n",
       "2                          2              0               12      1422  \n",
       "3                          2              0               12      1057  \n",
       "4                         4+              0                8      7969  "
      ]
     },
     "execution_count": 799,
     "metadata": {},
     "output_type": "execute_result"
    }
   ],
   "source": [
    "df.head()"
   ]
  },
  {
   "cell_type": "code",
   "execution_count": null,
   "id": "4d0e948b-d12d-4796-a734-654b90660c6b",
   "metadata": {},
   "outputs": [],
   "source": []
  },
  {
   "cell_type": "markdown",
   "id": "dac7b693-2659-4da7-afbc-cfb3a446a5a5",
   "metadata": {},
   "source": [
    "# **6. Amount spent per transaction vs different age groups**"
   ]
  },
  {
   "cell_type": "markdown",
   "id": "df9a739c-d7bc-4181-be06-d422642d3f86",
   "metadata": {},
   "source": [
    "## 6.1 Boxplot of purchase amount per transaction segmented by age groups"
   ]
  },
  {
   "cell_type": "code",
   "execution_count": 801,
   "id": "a38074c2-d499-45be-84e5-250195732814",
   "metadata": {},
   "outputs": [
    {
     "data": {
      "text/plain": [
       "26-35    219587\n",
       "36-45    110013\n",
       "18-25     99660\n",
       "46-50     45701\n",
       "51-55     38501\n",
       "55+       21504\n",
       "0-17      15102\n",
       "Name: Age, dtype: int64"
      ]
     },
     "execution_count": 801,
     "metadata": {},
     "output_type": "execute_result"
    }
   ],
   "source": [
    "## There are about 7 age groups available in the data\n",
    "df['Age'].value_counts()"
   ]
  },
  {
   "cell_type": "code",
   "execution_count": 802,
   "id": "54f7631f-ea4c-4130-9201-ce52d5656997",
   "metadata": {},
   "outputs": [
    {
     "data": {
      "text/html": [
       "<div>\n",
       "<style scoped>\n",
       "    .dataframe tbody tr th:only-of-type {\n",
       "        vertical-align: middle;\n",
       "    }\n",
       "\n",
       "    .dataframe tbody tr th {\n",
       "        vertical-align: top;\n",
       "    }\n",
       "\n",
       "    .dataframe thead th {\n",
       "        text-align: right;\n",
       "    }\n",
       "</style>\n",
       "<table border=\"1\" class=\"dataframe\">\n",
       "  <thead>\n",
       "    <tr style=\"text-align: right;\">\n",
       "      <th></th>\n",
       "      <th>min</th>\n",
       "      <th>max</th>\n",
       "      <th>mean</th>\n",
       "      <th>median</th>\n",
       "    </tr>\n",
       "    <tr>\n",
       "      <th>Age</th>\n",
       "      <th></th>\n",
       "      <th></th>\n",
       "      <th></th>\n",
       "      <th></th>\n",
       "    </tr>\n",
       "  </thead>\n",
       "  <tbody>\n",
       "    <tr>\n",
       "      <th>0-17</th>\n",
       "      <td>12</td>\n",
       "      <td>23955</td>\n",
       "      <td>8933.46</td>\n",
       "      <td>7986.0</td>\n",
       "    </tr>\n",
       "    <tr>\n",
       "      <th>18-25</th>\n",
       "      <td>12</td>\n",
       "      <td>23958</td>\n",
       "      <td>9169.66</td>\n",
       "      <td>8027.0</td>\n",
       "    </tr>\n",
       "    <tr>\n",
       "      <th>26-35</th>\n",
       "      <td>12</td>\n",
       "      <td>23961</td>\n",
       "      <td>9252.69</td>\n",
       "      <td>8030.0</td>\n",
       "    </tr>\n",
       "    <tr>\n",
       "      <th>36-45</th>\n",
       "      <td>12</td>\n",
       "      <td>23960</td>\n",
       "      <td>9331.35</td>\n",
       "      <td>8061.0</td>\n",
       "    </tr>\n",
       "    <tr>\n",
       "      <th>46-50</th>\n",
       "      <td>12</td>\n",
       "      <td>23960</td>\n",
       "      <td>9208.63</td>\n",
       "      <td>8036.0</td>\n",
       "    </tr>\n",
       "    <tr>\n",
       "      <th>51-55</th>\n",
       "      <td>12</td>\n",
       "      <td>23960</td>\n",
       "      <td>9534.81</td>\n",
       "      <td>8130.0</td>\n",
       "    </tr>\n",
       "    <tr>\n",
       "      <th>55+</th>\n",
       "      <td>12</td>\n",
       "      <td>23960</td>\n",
       "      <td>9336.28</td>\n",
       "      <td>8105.5</td>\n",
       "    </tr>\n",
       "  </tbody>\n",
       "</table>\n",
       "</div>"
      ],
      "text/plain": [
       "       min    max     mean  median\n",
       "Age                               \n",
       "0-17    12  23955  8933.46  7986.0\n",
       "18-25   12  23958  9169.66  8027.0\n",
       "26-35   12  23961  9252.69  8030.0\n",
       "36-45   12  23960  9331.35  8061.0\n",
       "46-50   12  23960  9208.63  8036.0\n",
       "51-55   12  23960  9534.81  8130.0\n",
       "55+     12  23960  9336.28  8105.5"
      ]
     },
     "execution_count": 802,
     "metadata": {},
     "output_type": "execute_result"
    }
   ],
   "source": [
    "df.groupby('Age')['Purchase'].agg([min, max, np.mean, np.median]).round(2)"
   ]
  },
  {
   "cell_type": "code",
   "execution_count": 574,
   "id": "0ea170e8-656e-4bea-9dbe-872b837836dd",
   "metadata": {},
   "outputs": [],
   "source": [
    "# sns.set_style('whitegrid')"
   ]
  },
  {
   "cell_type": "code",
   "execution_count": 807,
   "id": "0cdb0ded-d47f-456f-b23f-47a68d734e06",
   "metadata": {},
   "outputs": [
    {
     "data": {
      "image/png": "[encoded data removed]",
      "text/plain": [
       "<Figure size 720x576 with 1 Axes>"
      ]
     },
     "metadata": {},
     "output_type": "display_data"
    }
   ],
   "source": [
    "plt.figure(figsize=(10,8))\n",
    "sns.boxplot(data = df, x = 'Purchase', y='Age',)\n",
    "plt.title('Boxplot showing spending amount per transaction for various age groups')\n",
    "plt.show()"
   ]
  },
  {
   "cell_type": "code",
   "execution_count": 821,
   "id": "d5208076-610f-4674-991d-130ca18ec0d6",
   "metadata": {},
   "outputs": [],
   "source": [
    "## Getting the df for different age groups\n",
    "\n",
    "df_17 = df[df['Age'] == '0-17']\n",
    "df_18_25 = df[df['Age'] == '18-25']\n",
    "df_26_35 = df[df['Age'] == '26-35']\n",
    "df_36_45 = df[df['Age'] == '36-45']\n",
    "df_46_50 = df[df['Age'] == '46-50']\n",
    "df_51_55 = df[df['Age'] == '51-55']\n",
    "df_55_ = df[df['Age'] == '55+']"
   ]
  },
  {
   "cell_type": "code",
   "execution_count": 814,
   "id": "c6a465aa-e3a2-49e9-934d-6b4e7f3281df",
   "metadata": {},
   "outputs": [
    {
     "data": {
      "text/html": [
       "<div>\n",
       "<style scoped>\n",
       "    .dataframe tbody tr th:only-of-type {\n",
       "        vertical-align: middle;\n",
       "    }\n",
       "\n",
       "    .dataframe tbody tr th {\n",
       "        vertical-align: top;\n",
       "    }\n",
       "\n",
       "    .dataframe thead th {\n",
       "        text-align: right;\n",
       "    }\n",
       "</style>\n",
       "<table border=\"1\" class=\"dataframe\">\n",
       "  <thead>\n",
       "    <tr style=\"text-align: right;\">\n",
       "      <th></th>\n",
       "      <th>User_ID</th>\n",
       "      <th>Product_ID</th>\n",
       "      <th>Gender</th>\n",
       "      <th>Age</th>\n",
       "      <th>Occupation</th>\n",
       "      <th>City_Category</th>\n",
       "      <th>Stay_In_Current_City_Years</th>\n",
       "      <th>Marital_Status</th>\n",
       "      <th>Product_Category</th>\n",
       "      <th>Purchase</th>\n",
       "    </tr>\n",
       "  </thead>\n",
       "  <tbody>\n",
       "    <tr>\n",
       "      <th>0</th>\n",
       "      <td>1000001</td>\n",
       "      <td>P00069042</td>\n",
       "      <td>F</td>\n",
       "      <td>0-17</td>\n",
       "      <td>10</td>\n",
       "      <td>A</td>\n",
       "      <td>2</td>\n",
       "      <td>0</td>\n",
       "      <td>3</td>\n",
       "      <td>8370</td>\n",
       "    </tr>\n",
       "    <tr>\n",
       "      <th>1</th>\n",
       "      <td>1000001</td>\n",
       "      <td>P00248942</td>\n",
       "      <td>F</td>\n",
       "      <td>0-17</td>\n",
       "      <td>10</td>\n",
       "      <td>A</td>\n",
       "      <td>2</td>\n",
       "      <td>0</td>\n",
       "      <td>1</td>\n",
       "      <td>15200</td>\n",
       "    </tr>\n",
       "    <tr>\n",
       "      <th>2</th>\n",
       "      <td>1000001</td>\n",
       "      <td>P00087842</td>\n",
       "      <td>F</td>\n",
       "      <td>0-17</td>\n",
       "      <td>10</td>\n",
       "      <td>A</td>\n",
       "      <td>2</td>\n",
       "      <td>0</td>\n",
       "      <td>12</td>\n",
       "      <td>1422</td>\n",
       "    </tr>\n",
       "    <tr>\n",
       "      <th>3</th>\n",
       "      <td>1000001</td>\n",
       "      <td>P00085442</td>\n",
       "      <td>F</td>\n",
       "      <td>0-17</td>\n",
       "      <td>10</td>\n",
       "      <td>A</td>\n",
       "      <td>2</td>\n",
       "      <td>0</td>\n",
       "      <td>12</td>\n",
       "      <td>1057</td>\n",
       "    </tr>\n",
       "    <tr>\n",
       "      <th>85</th>\n",
       "      <td>1000019</td>\n",
       "      <td>P00112542</td>\n",
       "      <td>M</td>\n",
       "      <td>0-17</td>\n",
       "      <td>10</td>\n",
       "      <td>A</td>\n",
       "      <td>3</td>\n",
       "      <td>0</td>\n",
       "      <td>1</td>\n",
       "      <td>7746</td>\n",
       "    </tr>\n",
       "  </tbody>\n",
       "</table>\n",
       "</div>"
      ],
      "text/plain": [
       "    User_ID Product_ID Gender   Age Occupation City_Category  \\\n",
       "0   1000001  P00069042      F  0-17         10             A   \n",
       "1   1000001  P00248942      F  0-17         10             A   \n",
       "2   1000001  P00087842      F  0-17         10             A   \n",
       "3   1000001  P00085442      F  0-17         10             A   \n",
       "85  1000019  P00112542      M  0-17         10             A   \n",
       "\n",
       "   Stay_In_Current_City_Years Marital_Status Product_Category  Purchase  \n",
       "0                           2              0                3      8370  \n",
       "1                           2              0                1     15200  \n",
       "2                           2              0               12      1422  \n",
       "3                           2              0               12      1057  \n",
       "85                          3              0                1      7746  "
      ]
     },
     "execution_count": 814,
     "metadata": {},
     "output_type": "execute_result"
    }
   ],
   "source": [
    "df_17.head()"
   ]
  },
  {
   "cell_type": "code",
   "execution_count": 813,
   "id": "9255c0d7-cb5e-4d61-9a04-1b7f8d59721b",
   "metadata": {},
   "outputs": [
    {
     "data": {
      "text/plain": [
       "1"
      ]
     },
     "execution_count": 813,
     "metadata": {},
     "output_type": "execute_result"
    }
   ],
   "source": [
    "df_17.Age.nunique()"
   ]
  },
  {
   "cell_type": "markdown",
   "id": "5ec45f6e-7f32-4323-82d7-8fce5b6f9d9c",
   "metadata": {},
   "source": [
    "## 5.2 Bootstrapping data generation"
   ]
  },
  {
   "cell_type": "code",
   "execution_count": 816,
   "id": "88c2ef4a-9d7e-4101-a5f4-f62f8faa2b1f",
   "metadata": {},
   "outputs": [],
   "source": [
    "groups = ['17', '18_25', '26_35', '36_45', '46_50', '51_55', '55_']"
   ]
  },
  {
   "cell_type": "markdown",
   "id": "de8d8a70-048d-4c0f-be3c-d78fe8e22f24",
   "metadata": {},
   "source": [
    "code for generating the variable names"
   ]
  },
  {
   "cell_type": "code",
   "execution_count": 819,
   "id": "d6d5b125-05ea-4bb2-a9a5-a386a671c655",
   "metadata": {
    "collapsed": true,
    "jupyter": {
     "outputs_hidden": true
    },
    "tags": []
   },
   "outputs": [
    {
     "name": "stdout",
     "output_type": "stream",
     "text": [
      "bootstrapped_means_per_transaction_17,     df_17\n",
      "bootstrapped_means_per_transaction_18_25,     df_18_25\n",
      "bootstrapped_means_per_transaction_26_35,     df_26_35\n",
      "bootstrapped_means_per_transaction_36_45,     df_36_45\n",
      "bootstrapped_means_per_transaction_46_50,     df_46_50\n",
      "bootstrapped_means_per_transaction_51_55,     df_51_55\n",
      "bootstrapped_means_per_transaction_55_,     df_55_\n"
     ]
    }
   ],
   "source": [
    "# for i in groups:\n",
    "#     print(f'bootstrapped_means_per_transaction_{i},     df_{i}')"
   ]
  },
  {
   "cell_type": "code",
   "execution_count": 889,
   "id": "71a38e92-6de0-4e80-90f0-3d4543228abe",
   "metadata": {},
   "outputs": [],
   "source": [
    "##calling the earlier written function for generating the bootstrapped data.\n",
    "\n",
    "bootstrapped_means_per_transaction_17    = bootstrapped_list_of_mean(column = df_17['Purchase'], size_of_each_sample = 500, number_of_times_to_sample = 10000)\n",
    "bootstrapped_means_per_transaction_18_25 = bootstrapped_list_of_mean(column = df_18_25['Purchase'], size_of_each_sample = 500, number_of_times_to_sample = 10000)\n",
    "bootstrapped_means_per_transaction_26_35 = bootstrapped_list_of_mean(column = df_26_35['Purchase'], size_of_each_sample = 500, number_of_times_to_sample = 10000)\n",
    "bootstrapped_means_per_transaction_36_45 = bootstrapped_list_of_mean(column = df_36_45['Purchase'], size_of_each_sample = 500, number_of_times_to_sample = 10000)\n",
    "bootstrapped_means_per_transaction_46_50 = bootstrapped_list_of_mean(column = df_46_50['Purchase'], size_of_each_sample = 500, number_of_times_to_sample = 10000)\n",
    "bootstrapped_means_per_transaction_51_55 = bootstrapped_list_of_mean(column = df_51_55['Purchase'], size_of_each_sample = 500, number_of_times_to_sample = 10000)\n",
    "bootstrapped_means_per_transaction_55_   = bootstrapped_list_of_mean(column = df_55_['Purchase'], size_of_each_sample = 500, number_of_times_to_sample = 10000)"
   ]
  },
  {
   "cell_type": "markdown",
   "id": "195575cb-8747-47b1-83dc-f747ea3da6f3",
   "metadata": {},
   "source": [
    "## 5.3 Confidence intervals from bootstrapped data of different age groups"
   ]
  },
  {
   "cell_type": "markdown",
   "id": "1512b3ce-3dcc-4dd3-9b19-5f8e48ee58bb",
   "metadata": {},
   "source": [
    "### Age group 17"
   ]
  },
  {
   "cell_type": "code",
   "execution_count": 890,
   "id": "600fa489-7baa-4dd3-a3d0-ae92903633eb",
   "metadata": {},
   "outputs": [
    {
     "name": "stdout",
     "output_type": "stream",
     "text": [
      "\n",
      "90% CI for folks in age group 17 for spending per transaction is: 8559.65, 9308.15\n",
      "95% CI for folks in age group 17 for spending per transaction is: 8494.28, 9374.25\n",
      "99% CI for folks in age group 17 for spending per transaction is: 8359.99, 9514.62\n"
     ]
    }
   ],
   "source": [
    "#### 90% CI\n",
    "print('')\n",
    "\n",
    "age_17_CI_90_upper = np.percentile(bootstrapped_means_per_transaction_17, 95).round(2)\n",
    "age_17_CI_90_lower = np.percentile(bootstrapped_means_per_transaction_17, 5).round(2)\n",
    "print(f'90% CI for folks in age group 17 for spending per transaction is: {age_17_CI_90_lower}, {age_17_CI_90_upper}') \n",
    "\n",
    "#### 95% CI\n",
    "\n",
    "age_17_CI_95_upper = np.percentile(bootstrapped_means_per_transaction_17, 97.5).round(2)\n",
    "age_17_CI_95_lower = np.percentile(bootstrapped_means_per_transaction_17, 2.5).round(2)\n",
    "print(f'95% CI for folks in age group 17 for spending per transaction is: {age_17_CI_95_lower}, {age_17_CI_95_upper}') \n",
    "\n",
    "\n",
    "####  99% CI\n",
    "age_17_CI_99_upper = np.percentile(bootstrapped_means_per_transaction_17, 99.5).round(2)\n",
    "age_17_CI_99_lower = np.percentile(bootstrapped_means_per_transaction_17, 0.5).round(2)\n",
    "print(f'99% CI for folks in age group 17 for spending per transaction is: {age_17_CI_99_lower}, {age_17_CI_99_upper}') "
   ]
  },
  {
   "cell_type": "markdown",
   "id": "f1c9757d-dd83-41dd-a39c-b1d265973bcf",
   "metadata": {},
   "source": [
    "### Age group 18-25"
   ]
  },
  {
   "cell_type": "code",
   "execution_count": 891,
   "id": "cc7aa9cc-5776-442c-8c1a-e0cd1e3ed636",
   "metadata": {},
   "outputs": [
    {
     "name": "stdout",
     "output_type": "stream",
     "text": [
      "\n",
      "90% CI for folks in age group 18_25 for spending per transaction is: 8805.54, 9548.23\n",
      "95% CI for folks in age group 18_25 for spending per transaction is: 8729.56, 9624.24\n",
      "99% CI for folks in age group 18_25 for spending per transaction is: 8596.99, 9768.93\n"
     ]
    }
   ],
   "source": [
    "#### 90% CI\n",
    "print('')\n",
    "\n",
    "age_18_25_CI_90_upper = np.percentile(bootstrapped_means_per_transaction_18_25, 95).round(2)\n",
    "age_18_25_CI_90_lower = np.percentile(bootstrapped_means_per_transaction_18_25, 5).round(2)\n",
    "print(f'90% CI for folks in age group 18_25 for spending per transaction is: {age_18_25_CI_90_lower}, {age_18_25_CI_90_upper}')\n",
    "\n",
    "#### 95% CI\n",
    "\n",
    "age_18_25_CI_95_upper = np.percentile(bootstrapped_means_per_transaction_18_25, 97.5).round(2)\n",
    "age_18_25_CI_95_lower = np.percentile(bootstrapped_means_per_transaction_18_25, 2.5).round(2)\n",
    "print(f'95% CI for folks in age group 18_25 for spending per transaction is: {age_18_25_CI_95_lower}, {age_18_25_CI_95_upper}')\n",
    "\n",
    "\n",
    "####  99% CI\n",
    "age_18_25_CI_99_upper = np.percentile(bootstrapped_means_per_transaction_18_25, 99.5).round(2)\n",
    "age_18_25_CI_99_lower = np.percentile(bootstrapped_means_per_transaction_18_25, 0.5).round(2)\n",
    "print(f'99% CI for folks in age group 18_25 for spending per transaction is: {age_18_25_CI_99_lower}, {age_18_25_CI_99_upper}')"
   ]
  },
  {
   "cell_type": "markdown",
   "id": "280155fe-297a-4223-9c0e-09b425d57916",
   "metadata": {},
   "source": [
    "##### "
   ]
  },
  {
   "cell_type": "markdown",
   "id": "5921ae81-f06f-4d9b-95f0-ac61b960df61",
   "metadata": {},
   "source": [
    "### Age group 26-35"
   ]
  },
  {
   "cell_type": "code",
   "execution_count": 892,
   "id": "af17c07f-f4c3-4c4f-b8e6-06e2957cdaf3",
   "metadata": {},
   "outputs": [
    {
     "name": "stdout",
     "output_type": "stream",
     "text": [
      "90% CI for folks in age group 26_35 for spending per transaction is: 8880.31, 9624.21\n",
      "95% CI for folks in age group 26_35 for spending per transaction is: 8809.22, 9695.93\n",
      "99% CI for folks in age group 26_35 for spending per transaction is: 8679.92, 9833.64\n"
     ]
    }
   ],
   "source": [
    "#### 90% CI\n",
    "\n",
    "age_26_35_CI_90_upper = np.percentile(bootstrapped_means_per_transaction_26_35, 95).round(2)\n",
    "age_26_35_CI_90_lower = np.percentile(bootstrapped_means_per_transaction_26_35, 5).round(2)\n",
    "print(f'90% CI for folks in age group 26_35 for spending per transaction is: {age_26_35_CI_90_lower}, {age_26_35_CI_90_upper}') \n",
    "\n",
    "#### 95% CI\n",
    "\n",
    "age_26_35_CI_95_upper = np.percentile(bootstrapped_means_per_transaction_26_35, 97.5).round(2)\n",
    "age_26_35_CI_95_lower = np.percentile(bootstrapped_means_per_transaction_26_35, 2.5).round(2)\n",
    "print(f'95% CI for folks in age group 26_35 for spending per transaction is: {age_26_35_CI_95_lower}, {age_26_35_CI_95_upper}') \n",
    "  \n",
    "####  99% CI\n",
    "\n",
    "age_26_35_CI_99_upper = np.percentile(bootstrapped_means_per_transaction_26_35, 99.5).round(2)\n",
    "age_26_35_CI_99_lower = np.percentile(bootstrapped_means_per_transaction_26_35, 0.5).round(2)\n",
    "print(f'99% CI for folks in age group 26_35 for spending per transaction is: {age_26_35_CI_99_lower}, {age_26_35_CI_99_upper}') "
   ]
  },
  {
   "cell_type": "markdown",
   "id": "c6ce3b82-915e-4262-8fa3-602e0c7c7230",
   "metadata": {},
   "source": [
    "##### "
   ]
  },
  {
   "cell_type": "markdown",
   "id": "5309e5fe-5a22-410b-8510-e43236919c1f",
   "metadata": {},
   "source": [
    "### Age group 36-45"
   ]
  },
  {
   "cell_type": "code",
   "execution_count": 895,
   "id": "d8b2b452-6445-47cf-a726-a3e28bd49131",
   "metadata": {},
   "outputs": [
    {
     "name": "stdout",
     "output_type": "stream",
     "text": [
      "90% CI for folks in age group 36_45 for spending per transaction is: 8958.86, 9701.12\n",
      "95% CI for folks in age group 36_45 for spending per transaction is: 8894.44, 9775.08\n",
      "99% CI for folks in age group 36_45 for spending per transaction is: 8757.37, 9916.21\n"
     ]
    }
   ],
   "source": [
    "#### 90% CI\n",
    "\n",
    "age_36_45_CI_90_upper = np.percentile(bootstrapped_means_per_transaction_36_45, 95).round(2)\n",
    "age_36_45_CI_90_lower = np.percentile(bootstrapped_means_per_transaction_36_45, 5).round(2)\n",
    "print(f'90% CI for folks in age group 36_45 for spending per transaction is: {age_36_45_CI_90_lower}, {age_36_45_CI_90_upper}') \n",
    "  \n",
    "#### 95% CI\n",
    "\n",
    "age_36_45_CI_95_upper = np.percentile(bootstrapped_means_per_transaction_36_45, 97.5).round(2)\n",
    "age_36_45_CI_95_lower = np.percentile(bootstrapped_means_per_transaction_36_45, 2.5).round(2)\n",
    "print(f'95% CI for folks in age group 36_45 for spending per transaction is: {age_36_45_CI_95_lower}, {age_36_45_CI_95_upper}') \n",
    "\n",
    "#### 99% CI\n",
    "\n",
    "age_36_45_CI_99_upper = np.percentile(bootstrapped_means_per_transaction_36_45, 99.5).round(2)\n",
    "age_36_45_CI_99_lower = np.percentile(bootstrapped_means_per_transaction_36_45, 0.5).round(2)\n",
    "print(f'99% CI for folks in age group 36_45 for spending per transaction is: {age_36_45_CI_99_lower}, {age_36_45_CI_99_upper}') "
   ]
  },
  {
   "cell_type": "markdown",
   "id": "bc580d10-e3e1-439c-8e90-f38b1004108c",
   "metadata": {},
   "source": [
    "##### "
   ]
  },
  {
   "cell_type": "markdown",
   "id": "5a2b9123-94c2-4994-a280-fa52dac18f06",
   "metadata": {},
   "source": [
    "### Age group 46-50"
   ]
  },
  {
   "cell_type": "code",
   "execution_count": 896,
   "id": "d9e8ffc7-9039-45a9-b33f-ae4f6da2510b",
   "metadata": {},
   "outputs": [
    {
     "name": "stdout",
     "output_type": "stream",
     "text": [
      "90% CI for folks in age group 46_50 for spending per transaction is: 8846.46, 9577.63\n",
      "95% CI for folks in age group 46_50 for spending per transaction is: 8771.16, 9648.25\n",
      "99% CI for folks in age group 46_50 for spending per transaction is: 8639.19, 9793.95\n"
     ]
    }
   ],
   "source": [
    "#### 90% CI\n",
    "\n",
    "age_46_50_CI_90_upper = np.percentile(bootstrapped_means_per_transaction_46_50, 95).round(2)\n",
    "age_46_50_CI_90_lower = np.percentile(bootstrapped_means_per_transaction_46_50, 5).round(2)\n",
    "print(f'90% CI for folks in age group 46_50 for spending per transaction is: {age_46_50_CI_90_lower}, {age_46_50_CI_90_upper}') \n",
    "  \n",
    "#### 95% CI\n",
    "\n",
    "age_46_50_CI_95_upper = np.percentile(bootstrapped_means_per_transaction_46_50, 97.5).round(2)\n",
    "age_46_50_CI_95_lower = np.percentile(bootstrapped_means_per_transaction_46_50, 2.5).round(2)\n",
    "print(f'95% CI for folks in age group 46_50 for spending per transaction is: {age_46_50_CI_95_lower}, {age_46_50_CI_95_upper}') \n",
    "  \n",
    "#### 99% CI\n",
    "\n",
    "age_46_50_CI_99_upper = np.percentile(bootstrapped_means_per_transaction_46_50, 99.5).round(2)\n",
    "age_46_50_CI_99_lower = np.percentile(bootstrapped_means_per_transaction_46_50, 0.5).round(2)\n",
    "print(f'99% CI for folks in age group 46_50 for spending per transaction is: {age_46_50_CI_99_lower}, {age_46_50_CI_99_upper}')"
   ]
  },
  {
   "cell_type": "markdown",
   "id": "e4a186e8-c6a4-472e-9a73-04cb35359cb2",
   "metadata": {},
   "source": [
    "##### "
   ]
  },
  {
   "cell_type": "markdown",
   "id": "eaf3a182-b0b6-420d-bb81-0ce6156e1817",
   "metadata": {},
   "source": [
    "### Age group 51_55"
   ]
  },
  {
   "cell_type": "code",
   "execution_count": 897,
   "id": "07f2b09a-8c70-49ec-9274-0fc6c7ca8709",
   "metadata": {},
   "outputs": [
    {
     "name": "stdout",
     "output_type": "stream",
     "text": [
      "90% CI for folks in age group 51_55 for spending per transaction is: 9157.69, 9901.9\n",
      "95% CI for folks in age group 51_55 for spending per transaction is: 9088.49, 9974.32\n",
      "99% CI for folks in age group 51_55 for spending per transaction is: 8959.15, 10131.81\n"
     ]
    }
   ],
   "source": [
    "#### 90% CI\n",
    "  \n",
    "age_51_55_CI_90_upper = np.percentile(bootstrapped_means_per_transaction_51_55, 95).round(2)\n",
    "age_51_55_CI_90_lower = np.percentile(bootstrapped_means_per_transaction_51_55, 5).round(2)\n",
    "print(f'90% CI for folks in age group 51_55 for spending per transaction is: {age_51_55_CI_90_lower}, {age_51_55_CI_90_upper}') \n",
    "  \n",
    "#### 95% CI\n",
    "  \n",
    "age_51_55_CI_95_upper = np.percentile(bootstrapped_means_per_transaction_51_55, 97.5).round(2)\n",
    "age_51_55_CI_95_lower = np.percentile(bootstrapped_means_per_transaction_51_55, 2.5).round(2)\n",
    "print(f'95% CI for folks in age group 51_55 for spending per transaction is: {age_51_55_CI_95_lower}, {age_51_55_CI_95_upper}') \n",
    "  \n",
    "#### 99% CI\n",
    "  \n",
    "age_51_55_CI_99_upper = np.percentile(bootstrapped_means_per_transaction_51_55, 99.5).round(2)\n",
    "age_51_55_CI_99_lower = np.percentile(bootstrapped_means_per_transaction_51_55, 0.5).round(2)\n",
    "print(f'99% CI for folks in age group 51_55 for spending per transaction is: {age_51_55_CI_99_lower}, {age_51_55_CI_99_upper}') "
   ]
  },
  {
   "cell_type": "markdown",
   "id": "fc24bb56-35ff-4b2a-8cde-496cb8ee1fb3",
   "metadata": {},
   "source": [
    "##### "
   ]
  },
  {
   "cell_type": "markdown",
   "id": "86819d13-8b17-4120-be07-aa9f617dd301",
   "metadata": {},
   "source": [
    "### Age group 55+"
   ]
  },
  {
   "cell_type": "code",
   "execution_count": 861,
   "id": "477fe7ca-7239-4002-9498-9e92edca3bcf",
   "metadata": {
    "collapsed": true,
    "jupyter": {
     "outputs_hidden": true
    },
    "tags": []
   },
   "outputs": [
    {
     "name": "stdout",
     "output_type": "stream",
     "text": [
      "#### 90% CI\n",
      "  \n",
      "age_55__CI_90_upper = np.percentile(bootstrapped_means_per_transaction_55_, 95).round(2)\n",
      "age_55__CI_90_lower = np.percentile(bootstrapped_means_per_transaction_55_, 5).round(2)\n",
      "print(f'90% CI for folks in age group 55_ for spending per transaction is: age_55__CI_90_lower, age_55__CI_90_upper') \n",
      "  \n",
      "#### 95% CI\n",
      "  \n",
      "age_55__CI_95_upper = np.percentile(bootstrapped_means_per_transaction_55_, 97.5).round(2)\n",
      "age_55__CI_95_lower = np.percentile(bootstrapped_means_per_transaction_55_, 2.5).round(2)\n",
      "print(f'95% CI for folks in age group 55_ for spending per transaction is: age_55__CI_95_lower, age_55__CI_95_upper') \n",
      "  \n",
      "#### 99% CI\n",
      "  \n",
      "age_55__CI_99_upper = np.percentile(bootstrapped_means_per_transaction_55_, 99.5).round(2)\n",
      "age_55__CI_99_lower = np.percentile(bootstrapped_means_per_transaction_55_, 0.5).round(2)\n",
      "print(f'99% CI for folks in age group 55_ for spending per transaction is: age_55__CI_99_lower, age_55__CI_99_upper') \n",
      "  \n"
     ]
    }
   ],
   "source": [
    "### code to generate the following print statements.\n",
    "for i in [(90, 95, 5), (95, 97.5, 2.5), (99, 99.5, 0.5)]:\n",
    "    j = '55_'\n",
    "    print(f'#### {i[0]}% CI')\n",
    "    print(\"  \")\n",
    "    print(f\"age_{j}_CI_{i[0]}_upper = np.percentile(bootstrapped_means_per_transaction_{j}, {i[1]}).round(2)\")\n",
    "    print(f\"age_{j}_CI_{i[0]}_lower = np.percentile(bootstrapped_means_per_transaction_{j}, {i[2]}).round(2)\") \n",
    "    print(f\"print(f'{i[0]}% CI for folks in age group {j} for spending per transaction is: age_{j}_CI_{i[0]}_lower, age_{j}_CI_{i[0]}_upper') \")\n",
    "    print('  ')\n",
    "    "
   ]
  },
  {
   "cell_type": "code",
   "execution_count": 898,
   "id": "6774edf5-3427-41a9-825c-9a3ae186c219",
   "metadata": {},
   "outputs": [
    {
     "name": "stdout",
     "output_type": "stream",
     "text": [
      "90% CI for folks in age group 55_ for spending per transaction is: 8964.69, 9704.56\n",
      "95% CI for folks in age group 55_ for spending per transaction is: 8892.39, 9784.24\n",
      "99% CI for folks in age group 55_ for spending per transaction is: 8766.0, 9927.45\n"
     ]
    }
   ],
   "source": [
    "#### 90% CI\n",
    "  \n",
    "age_55__CI_90_upper = np.percentile(bootstrapped_means_per_transaction_55_, 95).round(2)\n",
    "age_55__CI_90_lower = np.percentile(bootstrapped_means_per_transaction_55_, 5).round(2)\n",
    "print(f'90% CI for folks in age group 55_ for spending per transaction is: {age_55__CI_90_lower}, {age_55__CI_90_upper}') \n",
    "  \n",
    "#### 95% CI\n",
    "  \n",
    "age_55__CI_95_upper = np.percentile(bootstrapped_means_per_transaction_55_, 97.5).round(2)\n",
    "age_55__CI_95_lower = np.percentile(bootstrapped_means_per_transaction_55_, 2.5).round(2)\n",
    "print(f'95% CI for folks in age group 55_ for spending per transaction is: {age_55__CI_95_lower}, {age_55__CI_95_upper}') \n",
    "  \n",
    "#### 99% CI\n",
    "  \n",
    "age_55__CI_99_upper = np.percentile(bootstrapped_means_per_transaction_55_, 99.5).round(2)\n",
    "age_55__CI_99_lower = np.percentile(bootstrapped_means_per_transaction_55_, 0.5).round(2)\n",
    "print(f'99% CI for folks in age group 55_ for spending per transaction is: {age_55__CI_99_lower}, {age_55__CI_99_upper}') "
   ]
  },
  {
   "cell_type": "markdown",
   "id": "505d8437-5bee-49f3-b2e7-9a982d8b514c",
   "metadata": {},
   "source": [
    "##### "
   ]
  },
  {
   "cell_type": "markdown",
   "id": "a5b10d82-b59b-4521-be7a-d8450e7157ff",
   "metadata": {},
   "source": [
    "# 5.4 Histogram of overlayed with confidence intervals"
   ]
  },
  {
   "cell_type": "code",
   "execution_count": 767,
   "id": "c1982a03-cd56-4edb-b750-15664435c709",
   "metadata": {},
   "outputs": [],
   "source": [
    "# sns.set_style('whitegrid', facecolor = 'k')\n",
    "# sns.set_style(\"darkgrid\", {\"axes.facecolor\": \"0.95\"})"
   ]
  },
  {
   "cell_type": "code",
   "execution_count": 871,
   "id": "47fc1f80-2a57-48b1-98e6-b740d3882910",
   "metadata": {},
   "outputs": [],
   "source": [
    "groups = ['_17', '_18_25', '_26_35', '_36_45', '_46_50', '_51_55', '_55_']"
   ]
  },
  {
   "cell_type": "markdown",
   "id": "20493f17-2e3e-4979-b2b4-0841f01bbb44",
   "metadata": {
    "jupyter": {
     "outputs_hidden": true
    },
    "tags": []
   },
   "source": [
    "Cell to generate code for plotting."
   ]
  },
  {
   "cell_type": "code",
   "execution_count": 882,
   "id": "18d1e097-f4eb-4dbd-a602-bd07cab46f64",
   "metadata": {
    "collapsed": true,
    "jupyter": {
     "outputs_hidden": true
    },
    "tags": []
   },
   "outputs": [
    {
     "name": "stdout",
     "output_type": "stream",
     "text": [
      "_17 = sns.histplot(bootstrapped_means_per_transaction_17, bins=50, ax=ax1, label='Age group 17', alpha=0.5)\n",
      "_17.axvline(x = age_17_CI_90_upper, color = 'r', label = '90% CI')\n",
      "_17.axvline(x = age_17_CI_90_lower, color = 'r')\n",
      "_17.axvline(x = age_17_CI_95_upper, color = 'm', label = '95% CI')\n",
      "_17.axvline(x = age_17_CI_95_lower, color = 'm')\n",
      "_17.axvline(x = age_17_CI_99_upper, color = 'y', label = '99% CI')\n",
      "_17.axvline(x = age_17_CI_99_lower, color = 'y')\n",
      "_17.legend()\n",
      "  \n",
      "_18_25 = sns.histplot(bootstrapped_means_per_transaction_18_25, bins=50, ax=ax1, label='Age group 18_25', alpha=0.5)\n",
      "_18_25.axvline(x = age_18_25_CI_90_upper, color = 'r', label = '90% CI')\n",
      "_18_25.axvline(x = age_18_25_CI_90_lower, color = 'r')\n",
      "_18_25.axvline(x = age_18_25_CI_95_upper, color = 'm', label = '95% CI')\n",
      "_18_25.axvline(x = age_18_25_CI_95_lower, color = 'm')\n",
      "_18_25.axvline(x = age_18_25_CI_99_upper, color = 'y', label = '99% CI')\n",
      "_18_25.axvline(x = age_18_25_CI_99_lower, color = 'y')\n",
      "_18_25.legend()\n",
      "  \n",
      "_26_35 = sns.histplot(bootstrapped_means_per_transaction_26_35, bins=50, ax=ax1, label='Age group 26_35', alpha=0.5)\n",
      "_26_35.axvline(x = age_26_35_CI_90_upper, color = 'r', label = '90% CI')\n",
      "_26_35.axvline(x = age_26_35_CI_90_lower, color = 'r')\n",
      "_26_35.axvline(x = age_26_35_CI_95_upper, color = 'm', label = '95% CI')\n",
      "_26_35.axvline(x = age_26_35_CI_95_lower, color = 'm')\n",
      "_26_35.axvline(x = age_26_35_CI_99_upper, color = 'y', label = '99% CI')\n",
      "_26_35.axvline(x = age_26_35_CI_99_lower, color = 'y')\n",
      "_26_35.legend()\n",
      "  \n",
      "_36_45 = sns.histplot(bootstrapped_means_per_transaction_36_45, bins=50, ax=ax1, label='Age group 36_45', alpha=0.5)\n",
      "_36_45.axvline(x = age_36_45_CI_90_upper, color = 'r', label = '90% CI')\n",
      "_36_45.axvline(x = age_36_45_CI_90_lower, color = 'r')\n",
      "_36_45.axvline(x = age_36_45_CI_95_upper, color = 'm', label = '95% CI')\n",
      "_36_45.axvline(x = age_36_45_CI_95_lower, color = 'm')\n",
      "_36_45.axvline(x = age_36_45_CI_99_upper, color = 'y', label = '99% CI')\n",
      "_36_45.axvline(x = age_36_45_CI_99_lower, color = 'y')\n",
      "_36_45.legend()\n",
      "  \n",
      "_46_50 = sns.histplot(bootstrapped_means_per_transaction_46_50, bins=50, ax=ax1, label='Age group 46_50', alpha=0.5)\n",
      "_46_50.axvline(x = age_46_50_CI_90_upper, color = 'r', label = '90% CI')\n",
      "_46_50.axvline(x = age_46_50_CI_90_lower, color = 'r')\n",
      "_46_50.axvline(x = age_46_50_CI_95_upper, color = 'm', label = '95% CI')\n",
      "_46_50.axvline(x = age_46_50_CI_95_lower, color = 'm')\n",
      "_46_50.axvline(x = age_46_50_CI_99_upper, color = 'y', label = '99% CI')\n",
      "_46_50.axvline(x = age_46_50_CI_99_lower, color = 'y')\n",
      "_46_50.legend()\n",
      "  \n",
      "_51_55 = sns.histplot(bootstrapped_means_per_transaction_51_55, bins=50, ax=ax1, label='Age group 51_55', alpha=0.5)\n",
      "_51_55.axvline(x = age_51_55_CI_90_upper, color = 'r', label = '90% CI')\n",
      "_51_55.axvline(x = age_51_55_CI_90_lower, color = 'r')\n",
      "_51_55.axvline(x = age_51_55_CI_95_upper, color = 'm', label = '95% CI')\n",
      "_51_55.axvline(x = age_51_55_CI_95_lower, color = 'm')\n",
      "_51_55.axvline(x = age_51_55_CI_99_upper, color = 'y', label = '99% CI')\n",
      "_51_55.axvline(x = age_51_55_CI_99_lower, color = 'y')\n",
      "_51_55.legend()\n",
      "  \n",
      "_55_ = sns.histplot(bootstrapped_means_per_transaction_55_, bins=50, ax=ax1, label='Age group 55_', alpha=0.5)\n",
      "_55_.axvline(x = age_55__CI_90_upper, color = 'r', label = '90% CI')\n",
      "_55_.axvline(x = age_55__CI_90_lower, color = 'r')\n",
      "_55_.axvline(x = age_55__CI_95_upper, color = 'm', label = '95% CI')\n",
      "_55_.axvline(x = age_55__CI_95_lower, color = 'm')\n",
      "_55_.axvline(x = age_55__CI_99_upper, color = 'y', label = '99% CI')\n",
      "_55_.axvline(x = age_55__CI_99_lower, color = 'y')\n",
      "_55_.legend()\n",
      "  \n"
     ]
    }
   ],
   "source": [
    "# for i in groups:\n",
    "    \n",
    "#     print(f\"{i} = sns.histplot(bootstrapped_means_per_transaction{i}, bins=50, ax=ax1, label='Age group {i[1:]}', alpha=0.5)\")\n",
    "\n",
    "#     print(f\"{i}.axvline(x = age{i}_CI_90_upper, color = 'r', label = '90% CI')\")\n",
    "#     print(f\"{i}.axvline(x = age{i}_CI_90_lower, color = 'r')\")\n",
    "\n",
    "#     print(f\"{i}.axvline(x = age{i}_CI_95_upper, color = 'm', label = '95% CI')\")\n",
    "#     print(f\"{i}.axvline(x = age{i}_CI_95_lower, color = 'm')\")\n",
    "\n",
    "#     print(f\"{i}.axvline(x = age{i}_CI_99_upper, color = 'y', label = '99% CI')\")\n",
    "#     print(f\"{i}.axvline(x = age{i}_CI_99_lower, color = 'y')\")\n",
    "\n",
    "#     print(f\"{i}.legend()\")\n",
    "#     print('  ')"
   ]
  },
  {
   "cell_type": "markdown",
   "id": "b55693a0-16c7-4cfd-babb-8e70d4bd654e",
   "metadata": {},
   "source": [
    "##### "
   ]
  },
  {
   "cell_type": "code",
   "execution_count": 932,
   "id": "64527100-83ca-40e5-bf79-426847a8f1d5",
   "metadata": {},
   "outputs": [
    {
     "data": {
      "image/png": "[encoded data removed]",
      "text/plain": [
       "<Figure size 792x864 with 7 Axes>"
      ]
     },
     "metadata": {},
     "output_type": "display_data"
    }
   ],
   "source": [
    "fig,(ax1, ax2, ax3, ax4, ax5, ax6, ax7) = plt.subplots(7,1, figsize=(11,12), sharex=True)\n",
    "plt.suptitle('Histogram showing confidence intervals for average spends per transaction for various age groups (500 records drawn 10000 times per group)')\n",
    "\n",
    "_17 = sns.histplot(bootstrapped_means_per_transaction_17, bins=50, ax=ax1, label='Age group 17', alpha=0.5)\n",
    "_17.axvline(x = age_17_CI_90_upper, color = 'r', label = '90% CI')\n",
    "_17.axvline(x = age_17_CI_90_lower, color = 'r')\n",
    "_17.axvline(x = age_17_CI_95_upper, color = 'm', label = '95% CI')\n",
    "_17.axvline(x = age_17_CI_95_lower, color = 'm')\n",
    "_17.axvline(x = age_17_CI_99_upper, color = 'y', label = '99% CI')\n",
    "_17.axvline(x = age_17_CI_99_lower, color = 'y')\n",
    "_17.set_ylabel(' ')\n",
    "_17.legend(loc='upper center', bbox_to_anchor=(1.2, 1.05), ncol=2, fancybox=True, shadow=True)\n",
    "\n",
    "_18_25 = sns.histplot(bootstrapped_means_per_transaction_18_25, bins=50, ax=ax2, label='Age group 18_25', alpha=0.5)\n",
    "_18_25.axvline(x = age_18_25_CI_90_upper, color = 'r', label = '90% CI')\n",
    "_18_25.axvline(x = age_18_25_CI_90_lower, color = 'r')\n",
    "_18_25.axvline(x = age_18_25_CI_95_upper, color = 'm', label = '95% CI')\n",
    "_18_25.axvline(x = age_18_25_CI_95_lower, color = 'm')\n",
    "_18_25.axvline(x = age_18_25_CI_99_upper, color = 'y', label = '99% CI')\n",
    "_18_25.axvline(x = age_18_25_CI_99_lower, color = 'y')\n",
    "_18_25.set_ylabel(' ')\n",
    "_18_25.legend(loc='upper center', bbox_to_anchor=(1.25, 1.05), ncol=2, fancybox=True, shadow=True)\n",
    "  \n",
    "_26_35 = sns.histplot(bootstrapped_means_per_transaction_26_35, bins=50, ax=ax3, label='Age group 26_35', alpha=0.5)\n",
    "_26_35.axvline(x = age_26_35_CI_90_upper, color = 'r', label = '90% CI')\n",
    "_26_35.axvline(x = age_26_35_CI_90_lower, color = 'r')\n",
    "_26_35.axvline(x = age_26_35_CI_95_upper, color = 'm', label = '95% CI')\n",
    "_26_35.axvline(x = age_26_35_CI_95_lower, color = 'm')\n",
    "_26_35.axvline(x = age_26_35_CI_99_upper, color = 'y', label = '99% CI')\n",
    "_26_35.axvline(x = age_26_35_CI_99_lower, color = 'y')\n",
    "_26_35.set_ylabel(' ')\n",
    "_26_35.legend(loc='upper center', bbox_to_anchor=(1.25, 1.05), ncol=2, fancybox=True, shadow=True)\n",
    "  \n",
    "_36_45 = sns.histplot(bootstrapped_means_per_transaction_36_45, bins=50, ax=ax4, label='Age group 36_45', alpha=0.5)\n",
    "_36_45.axvline(x = age_36_45_CI_90_upper, color = 'r', label = '90% CI')\n",
    "_36_45.axvline(x = age_36_45_CI_90_lower, color = 'r')\n",
    "_36_45.axvline(x = age_36_45_CI_95_upper, color = 'm', label = '95% CI')\n",
    "_36_45.axvline(x = age_36_45_CI_95_lower, color = 'm')\n",
    "_36_45.axvline(x = age_36_45_CI_99_upper, color = 'y', label = '99% CI')\n",
    "_36_45.axvline(x = age_36_45_CI_99_lower, color = 'y')\n",
    "_36_45.set_ylabel(' ')\n",
    "_36_45.legend(loc='upper center', bbox_to_anchor=(1.25, 1.05), ncol=2, fancybox=True, shadow=True)\n",
    "  \n",
    "_46_50 = sns.histplot(bootstrapped_means_per_transaction_46_50, bins=50, ax=ax5, label='Age group 46_50', alpha=0.5)\n",
    "_46_50.axvline(x = age_46_50_CI_90_upper, color = 'r', label = '90% CI')\n",
    "_46_50.axvline(x = age_46_50_CI_90_lower, color = 'r')\n",
    "_46_50.axvline(x = age_46_50_CI_95_upper, color = 'm', label = '95% CI')\n",
    "_46_50.axvline(x = age_46_50_CI_95_lower, color = 'm')\n",
    "_46_50.axvline(x = age_46_50_CI_99_upper, color = 'y', label = '99% CI')\n",
    "_46_50.axvline(x = age_46_50_CI_99_lower, color = 'y')\n",
    "_46_50.set_ylabel(' ')\n",
    "_46_50.legend(loc='upper center', bbox_to_anchor=(1.25, 1.05), ncol=2, fancybox=True, shadow=True)\n",
    "  \n",
    "_51_55 = sns.histplot(bootstrapped_means_per_transaction_51_55, bins=50, ax=ax6, label='Age group 51_55', alpha=0.5)\n",
    "_51_55.axvline(x = age_51_55_CI_90_upper, color = 'r', label = '90% CI')\n",
    "_51_55.axvline(x = age_51_55_CI_90_lower, color = 'r')\n",
    "_51_55.axvline(x = age_51_55_CI_95_upper, color = 'm', label = '95% CI')\n",
    "_51_55.axvline(x = age_51_55_CI_95_lower, color = 'm')\n",
    "_51_55.axvline(x = age_51_55_CI_99_upper, color = 'y', label = '99% CI')\n",
    "_51_55.axvline(x = age_51_55_CI_99_lower, color = 'y')\n",
    "_51_55.set_ylabel(' ')\n",
    "_51_55.legend(loc='upper center', bbox_to_anchor=(1.25, 1.05), ncol=2, fancybox=True, shadow=True)\n",
    "  \n",
    "_55_ = sns.histplot(bootstrapped_means_per_transaction_55_, bins=50, ax=ax7, label='Age group 55_', alpha=0.5)\n",
    "_55_.axvline(x = age_55__CI_90_upper, color = 'r', label = '90% CI')\n",
    "_55_.axvline(x = age_55__CI_90_lower, color = 'r')\n",
    "_55_.axvline(x = age_55__CI_95_upper, color = 'm', label = '95% CI')\n",
    "_55_.axvline(x = age_55__CI_95_lower, color = 'm')\n",
    "_55_.axvline(x = age_55__CI_99_upper, color = 'y', label = '99% CI')\n",
    "_55_.axvline(x = age_55__CI_99_lower, color = 'y')\n",
    "_55_.set_ylabel(' ')\n",
    "_55_.legend(loc='upper center', bbox_to_anchor=(1.25, 1.05), ncol=2, fancybox=True, shadow=True)\n",
    "\n",
    "_55_.set_xlabel('Sampling distribution of sampling means')\n",
    "\n",
    "# fig.text(0.5, -0.05, 'As the sample size increases, the distribution progressively becomes narrower!', ha='center')\n",
    "fig.text(0.01, 0.5, 'Counts', va='center', rotation='vertical')\n",
    "\n",
    "plt.show()"
   ]
  },
  {
   "cell_type": "markdown",
   "id": "acc3188c-d6c8-40ce-97cc-5e91cb2054ba",
   "metadata": {},
   "source": [
    "### Insights\n",
    "\n",
    "- $\\color{blue}{\\text{The boxplot reveals that the all the age groups nearly same median amount per transaction.}}$\n",
    "\n",
    "- $\\color{blue}{\\text{The confidence intervals for various age groups are shown above and all of them are overlapping.}}$"
   ]
  },
  {
   "cell_type": "code",
   "execution_count": null,
   "id": "d6441f95-93e3-42e4-a75c-8954ed8f5522",
   "metadata": {},
   "outputs": [],
   "source": []
  },
  {
   "cell_type": "code",
   "execution_count": null,
   "id": "8d54980c-9dd8-427a-9bd1-6106c962817a",
   "metadata": {},
   "outputs": [],
   "source": []
  },
  {
   "cell_type": "code",
   "execution_count": null,
   "id": "bb89289e-5a26-4dc4-9231-4d099b366823",
   "metadata": {},
   "outputs": [],
   "source": []
  },
  {
   "cell_type": "code",
   "execution_count": null,
   "id": "26fd0952-22cf-4147-8d27-abdf4e363f77",
   "metadata": {},
   "outputs": [],
   "source": []
  },
  {
   "cell_type": "code",
   "execution_count": null,
   "id": "879c02fb-2a03-4b35-a9ae-4f220268064f",
   "metadata": {},
   "outputs": [],
   "source": []
  },
  {
   "cell_type": "code",
   "execution_count": null,
   "id": "91e55164-04e0-425c-846b-59035581a317",
   "metadata": {},
   "outputs": [],
   "source": []
  },
  {
   "cell_type": "code",
   "execution_count": null,
   "id": "00eb2543-5ca5-4311-abde-05f5a4d955a7",
   "metadata": {},
   "outputs": [],
   "source": []
  },
  {
   "cell_type": "code",
   "execution_count": 674,
   "id": "c205b683-85fb-453f-9fd7-5793a840dfd0",
   "metadata": {},
   "outputs": [
    {
     "data": {
      "text/plain": [
       "<AxesSubplot:xlabel='Marital_Status', ylabel='Purchase'>"
      ]
     },
     "execution_count": 674,
     "metadata": {},
     "output_type": "execute_result"
    },
    {
     "data": {
      "image/png": "[encoded data removed]",
      "text/plain": [
       "<Figure size 720x720 with 1 Axes>"
      ]
     },
     "metadata": {},
     "output_type": "display_data"
    }
   ],
   "source": [
    "plt.figure(figsize=(10,10))\n",
    "sns.barplot(data=df, x='Marital_Status', y='Purchase',)"
   ]
  },
  {
   "cell_type": "code",
   "execution_count": null,
   "id": "444427bc-a550-4abd-974a-a76882051178",
   "metadata": {},
   "outputs": [],
   "source": []
  },
  {
   "cell_type": "code",
   "execution_count": null,
   "id": "b289d691-fad1-4d61-a3c9-ddca79844d6a",
   "metadata": {},
   "outputs": [],
   "source": []
  },
  {
   "cell_type": "code",
   "execution_count": null,
   "id": "11898eb0-0abb-463d-8383-4aa496a6b0d6",
   "metadata": {},
   "outputs": [],
   "source": []
  },
  {
   "cell_type": "code",
   "execution_count": 677,
   "id": "40b51f5b-d50a-46e8-9673-856eef981de1",
   "metadata": {},
   "outputs": [],
   "source": [
    "ser = np.random.randint(1,1000,1000)"
   ]
  },
  {
   "cell_type": "code",
   "execution_count": 678,
   "id": "657c89dc-bf02-4414-aaf2-af615b956b75",
   "metadata": {},
   "outputs": [
    {
     "data": {
      "text/plain": [
       "(508.448, 289.0403143092672)"
      ]
     },
     "execution_count": 678,
     "metadata": {},
     "output_type": "execute_result"
    }
   ],
   "source": [
    "np.mean(ser), np.std(ser)"
   ]
  },
  {
   "cell_type": "code",
   "execution_count": null,
   "id": "8880d887-c500-4a47-9ff6-a28c9109ba13",
   "metadata": {},
   "outputs": [],
   "source": []
  },
  {
   "cell_type": "code",
   "execution_count": 684,
   "id": "d5992f48-9e15-4dae-9b3d-67711b140311",
   "metadata": {},
   "outputs": [],
   "source": [
    "means = bootstrapped_list_of_mean(ser,500, 10000)"
   ]
  },
  {
   "cell_type": "code",
   "execution_count": 751,
   "id": "ffe54173-5dc3-4e8c-b83b-bdf135fd5d0a",
   "metadata": {},
   "outputs": [
    {
     "data": {
      "text/plain": [
       "<AxesSubplot:ylabel='Count'>"
      ]
     },
     "execution_count": 751,
     "metadata": {},
     "output_type": "execute_result"
    },
    {
     "data": {
      "image/png": "[encoded data removed]",
      "text/plain": [
       "<Figure size 432x288 with 1 Axes>"
      ]
     },
     "metadata": {},
     "output_type": "display_data"
    }
   ],
   "source": [
    "sns.histplot(means)"
   ]
  },
  {
   "cell_type": "code",
   "execution_count": 756,
   "id": "2e88882c-f707-428d-b903-886e7b735c04",
   "metadata": {},
   "outputs": [
    {
     "data": {
      "text/plain": [
       "508.53131680000007"
      ]
     },
     "execution_count": 756,
     "metadata": {},
     "output_type": "execute_result"
    }
   ],
   "source": [
    "np.mean(means)"
   ]
  },
  {
   "cell_type": "code",
   "execution_count": 757,
   "id": "76f9a600-9579-4b5a-b993-84c8889cdeab",
   "metadata": {},
   "outputs": [
    {
     "data": {
      "text/plain": [
       "12.965924539238912"
      ]
     },
     "execution_count": 757,
     "metadata": {},
     "output_type": "execute_result"
    }
   ],
   "source": [
    "np.std(means)"
   ]
  },
  {
   "cell_type": "code",
   "execution_count": 758,
   "id": "88cc9f7c-5531-4823-80f5-1e5aec5f8ca1",
   "metadata": {},
   "outputs": [
    {
     "data": {
      "text/plain": [
       "(483.27365, 533.6648)"
      ]
     },
     "execution_count": 758,
     "metadata": {},
     "output_type": "execute_result"
    }
   ],
   "source": [
    "np.percentile(means, 2.5), np.percentile(means, 97.5)"
   ]
  },
  {
   "cell_type": "code",
   "execution_count": 762,
   "id": "e8ebbcff-7bb4-4778-a353-d432d28d32f7",
   "metadata": {},
   "outputs": [
    {
     "data": {
      "text/plain": [
       "(483.1185716768277, 533.9440619231724)"
      ]
     },
     "execution_count": 762,
     "metadata": {},
     "output_type": "execute_result"
    }
   ],
   "source": [
    "np.mean(means) - norm.ppf(0.975)*np.std(means), np.mean(means) + norm.ppf(0.975)*np.std(means)"
   ]
  },
  {
   "cell_type": "code",
   "execution_count": 763,
   "id": "890d05cd-6191-4e23-9ab6-464dde264fd6",
   "metadata": {},
   "outputs": [
    {
     "data": {
      "text/plain": [
       "1.959963984540054"
      ]
     },
     "execution_count": 763,
     "metadata": {},
     "output_type": "execute_result"
    }
   ],
   "source": [
    "norm.ppf(0.975)"
   ]
  },
  {
   "cell_type": "code",
   "execution_count": 194,
   "id": "7a348577-1d01-4fef-bad8-7096e78840e1",
   "metadata": {},
   "outputs": [
    {
     "data": {
      "text/html": [
       "<div>\n",
       "<style scoped>\n",
       "    .dataframe tbody tr th:only-of-type {\n",
       "        vertical-align: middle;\n",
       "    }\n",
       "\n",
       "    .dataframe tbody tr th {\n",
       "        vertical-align: top;\n",
       "    }\n",
       "\n",
       "    .dataframe thead th {\n",
       "        text-align: right;\n",
       "    }\n",
       "</style>\n",
       "<table border=\"1\" class=\"dataframe\">\n",
       "  <thead>\n",
       "    <tr style=\"text-align: right;\">\n",
       "      <th></th>\n",
       "      <th>User_ID</th>\n",
       "      <th>Gender</th>\n",
       "      <th>Age</th>\n",
       "      <th>City_Category</th>\n",
       "      <th>Marital_Status</th>\n",
       "      <th>Purchase</th>\n",
       "    </tr>\n",
       "  </thead>\n",
       "  <tbody>\n",
       "    <tr>\n",
       "      <th>0</th>\n",
       "      <td>1000001</td>\n",
       "      <td>F</td>\n",
       "      <td>0-17</td>\n",
       "      <td>A</td>\n",
       "      <td>0</td>\n",
       "      <td>334093</td>\n",
       "    </tr>\n",
       "    <tr>\n",
       "      <th>1</th>\n",
       "      <td>1000002</td>\n",
       "      <td>M</td>\n",
       "      <td>55+</td>\n",
       "      <td>C</td>\n",
       "      <td>0</td>\n",
       "      <td>810472</td>\n",
       "    </tr>\n",
       "    <tr>\n",
       "      <th>2</th>\n",
       "      <td>1000003</td>\n",
       "      <td>M</td>\n",
       "      <td>26-35</td>\n",
       "      <td>A</td>\n",
       "      <td>0</td>\n",
       "      <td>341635</td>\n",
       "    </tr>\n",
       "    <tr>\n",
       "      <th>3</th>\n",
       "      <td>1000004</td>\n",
       "      <td>M</td>\n",
       "      <td>46-50</td>\n",
       "      <td>B</td>\n",
       "      <td>1</td>\n",
       "      <td>206468</td>\n",
       "    </tr>\n",
       "    <tr>\n",
       "      <th>4</th>\n",
       "      <td>1000005</td>\n",
       "      <td>M</td>\n",
       "      <td>26-35</td>\n",
       "      <td>A</td>\n",
       "      <td>1</td>\n",
       "      <td>821001</td>\n",
       "    </tr>\n",
       "  </tbody>\n",
       "</table>\n",
       "</div>"
      ],
      "text/plain": [
       "   User_ID Gender    Age City_Category Marital_Status  Purchase\n",
       "0  1000001      F   0-17             A              0    334093\n",
       "1  1000002      M    55+             C              0    810472\n",
       "2  1000003      M  26-35             A              0    341635\n",
       "3  1000004      M  46-50             B              1    206468\n",
       "4  1000005      M  26-35             A              1    821001"
      ]
     },
     "execution_count": 194,
     "metadata": {},
     "output_type": "execute_result"
    }
   ],
   "source": [
    "df_user.head()"
   ]
  },
  {
   "cell_type": "code",
   "execution_count": 195,
   "id": "7920b0e2-bb02-4cbf-92db-bd603a51d6b4",
   "metadata": {},
   "outputs": [
    {
     "data": {
      "text/plain": [
       "Gender\n",
       "F    712024.394958\n",
       "M    925344.402367\n",
       "Name: Purchase, dtype: float64"
      ]
     },
     "execution_count": 195,
     "metadata": {},
     "output_type": "execute_result"
    }
   ],
   "source": [
    "df_user.groupby('Gender')['Purchase'].mean()"
   ]
  },
  {
   "cell_type": "code",
   "execution_count": null,
   "id": "5edeb0bf-7058-41e8-b521-1ad5a887fb7e",
   "metadata": {},
   "outputs": [],
   "source": []
  },
  {
   "cell_type": "code",
   "execution_count": 197,
   "id": "98b667a4-ee1d-42c5-a9f3-e4961d9c36c6",
   "metadata": {},
   "outputs": [
    {
     "data": {
      "text/plain": [
       "<AxesSubplot:xlabel='Purchase', ylabel='Gender'>"
      ]
     },
     "execution_count": 197,
     "metadata": {},
     "output_type": "execute_result"
    },
    {
     "data": {
      "image/png": "[encoded data removed]",
      "text/plain": [
       "<Figure size 432x288 with 1 Axes>"
      ]
     },
     "metadata": {},
     "output_type": "display_data"
    }
   ],
   "source": [
    "sns.boxplot(data=df_user, y='Gender', x='Purchase')"
   ]
  },
  {
   "cell_type": "code",
   "execution_count": null,
   "id": "2124b599-faf5-4781-b2a6-e775050522af",
   "metadata": {},
   "outputs": [],
   "source": []
  },
  {
   "cell_type": "code",
   "execution_count": null,
   "id": "883f0442-73f2-4558-a4cb-d30096876d66",
   "metadata": {},
   "outputs": [],
   "source": []
  },
  {
   "cell_type": "code",
   "execution_count": null,
   "id": "09163f79-7aef-448a-914f-8a9b90fb1841",
   "metadata": {},
   "outputs": [],
   "source": []
  },
  {
   "cell_type": "code",
   "execution_count": 175,
   "id": "83e4d8c2-abb3-41e4-beae-7c40e431579a",
   "metadata": {},
   "outputs": [
    {
     "data": {
      "text/html": [
       "<div>\n",
       "<style scoped>\n",
       "    .dataframe tbody tr th:only-of-type {\n",
       "        vertical-align: middle;\n",
       "    }\n",
       "\n",
       "    .dataframe tbody tr th {\n",
       "        vertical-align: top;\n",
       "    }\n",
       "\n",
       "    .dataframe thead th {\n",
       "        text-align: right;\n",
       "    }\n",
       "</style>\n",
       "<table border=\"1\" class=\"dataframe\">\n",
       "  <thead>\n",
       "    <tr style=\"text-align: right;\">\n",
       "      <th></th>\n",
       "      <th>User_ID</th>\n",
       "      <th>Product_ID</th>\n",
       "      <th>Gender</th>\n",
       "      <th>Age</th>\n",
       "      <th>Occupation</th>\n",
       "      <th>City_Category</th>\n",
       "      <th>Stay_In_Current_City_Years</th>\n",
       "      <th>Marital_Status</th>\n",
       "      <th>Product_Category</th>\n",
       "      <th>Purchase</th>\n",
       "    </tr>\n",
       "  </thead>\n",
       "  <tbody>\n",
       "    <tr>\n",
       "      <th>0</th>\n",
       "      <td>1000001</td>\n",
       "      <td>P00069042</td>\n",
       "      <td>F</td>\n",
       "      <td>0-17</td>\n",
       "      <td>10</td>\n",
       "      <td>A</td>\n",
       "      <td>2</td>\n",
       "      <td>0</td>\n",
       "      <td>3</td>\n",
       "      <td>8370</td>\n",
       "    </tr>\n",
       "    <tr>\n",
       "      <th>1</th>\n",
       "      <td>1000001</td>\n",
       "      <td>P00248942</td>\n",
       "      <td>F</td>\n",
       "      <td>0-17</td>\n",
       "      <td>10</td>\n",
       "      <td>A</td>\n",
       "      <td>2</td>\n",
       "      <td>0</td>\n",
       "      <td>1</td>\n",
       "      <td>15200</td>\n",
       "    </tr>\n",
       "    <tr>\n",
       "      <th>2</th>\n",
       "      <td>1000001</td>\n",
       "      <td>P00087842</td>\n",
       "      <td>F</td>\n",
       "      <td>0-17</td>\n",
       "      <td>10</td>\n",
       "      <td>A</td>\n",
       "      <td>2</td>\n",
       "      <td>0</td>\n",
       "      <td>12</td>\n",
       "      <td>1422</td>\n",
       "    </tr>\n",
       "    <tr>\n",
       "      <th>3</th>\n",
       "      <td>1000001</td>\n",
       "      <td>P00085442</td>\n",
       "      <td>F</td>\n",
       "      <td>0-17</td>\n",
       "      <td>10</td>\n",
       "      <td>A</td>\n",
       "      <td>2</td>\n",
       "      <td>0</td>\n",
       "      <td>12</td>\n",
       "      <td>1057</td>\n",
       "    </tr>\n",
       "    <tr>\n",
       "      <th>4</th>\n",
       "      <td>1000002</td>\n",
       "      <td>P00285442</td>\n",
       "      <td>M</td>\n",
       "      <td>55+</td>\n",
       "      <td>16</td>\n",
       "      <td>C</td>\n",
       "      <td>4+</td>\n",
       "      <td>0</td>\n",
       "      <td>8</td>\n",
       "      <td>7969</td>\n",
       "    </tr>\n",
       "  </tbody>\n",
       "</table>\n",
       "</div>"
      ],
      "text/plain": [
       "   User_ID Product_ID Gender   Age Occupation City_Category  \\\n",
       "0  1000001  P00069042      F  0-17         10             A   \n",
       "1  1000001  P00248942      F  0-17         10             A   \n",
       "2  1000001  P00087842      F  0-17         10             A   \n",
       "3  1000001  P00085442      F  0-17         10             A   \n",
       "4  1000002  P00285442      M   55+         16             C   \n",
       "\n",
       "  Stay_In_Current_City_Years Marital_Status Product_Category  Purchase  \n",
       "0                          2              0                3      8370  \n",
       "1                          2              0                1     15200  \n",
       "2                          2              0               12      1422  \n",
       "3                          2              0               12      1057  \n",
       "4                         4+              0                8      7969  "
      ]
     },
     "execution_count": 175,
     "metadata": {},
     "output_type": "execute_result"
    }
   ],
   "source": [
    "df.head()"
   ]
  },
  {
   "cell_type": "code",
   "execution_count": 176,
   "id": "cafff646-77af-444c-933d-17bbba05767e",
   "metadata": {},
   "outputs": [
    {
     "data": {
      "text/html": [
       "<div>\n",
       "<style scoped>\n",
       "    .dataframe tbody tr th:only-of-type {\n",
       "        vertical-align: middle;\n",
       "    }\n",
       "\n",
       "    .dataframe tbody tr th {\n",
       "        vertical-align: top;\n",
       "    }\n",
       "\n",
       "    .dataframe thead th {\n",
       "        text-align: right;\n",
       "    }\n",
       "</style>\n",
       "<table border=\"1\" class=\"dataframe\">\n",
       "  <thead>\n",
       "    <tr style=\"text-align: right;\">\n",
       "      <th></th>\n",
       "      <th>User_ID</th>\n",
       "      <th>Product_ID</th>\n",
       "      <th>Gender</th>\n",
       "      <th>Age</th>\n",
       "      <th>Occupation</th>\n",
       "      <th>City_Category</th>\n",
       "      <th>Stay_In_Current_City_Years</th>\n",
       "      <th>Marital_Status</th>\n",
       "      <th>Product_Category</th>\n",
       "      <th>Purchase</th>\n",
       "    </tr>\n",
       "  </thead>\n",
       "  <tbody>\n",
       "    <tr>\n",
       "      <th>0</th>\n",
       "      <td>1000001</td>\n",
       "      <td>P00069042</td>\n",
       "      <td>F</td>\n",
       "      <td>0-17</td>\n",
       "      <td>10</td>\n",
       "      <td>A</td>\n",
       "      <td>2</td>\n",
       "      <td>0</td>\n",
       "      <td>3</td>\n",
       "      <td>8370</td>\n",
       "    </tr>\n",
       "    <tr>\n",
       "      <th>1</th>\n",
       "      <td>1000001</td>\n",
       "      <td>P00248942</td>\n",
       "      <td>F</td>\n",
       "      <td>0-17</td>\n",
       "      <td>10</td>\n",
       "      <td>A</td>\n",
       "      <td>2</td>\n",
       "      <td>0</td>\n",
       "      <td>1</td>\n",
       "      <td>15200</td>\n",
       "    </tr>\n",
       "    <tr>\n",
       "      <th>2</th>\n",
       "      <td>1000001</td>\n",
       "      <td>P00087842</td>\n",
       "      <td>F</td>\n",
       "      <td>0-17</td>\n",
       "      <td>10</td>\n",
       "      <td>A</td>\n",
       "      <td>2</td>\n",
       "      <td>0</td>\n",
       "      <td>12</td>\n",
       "      <td>1422</td>\n",
       "    </tr>\n",
       "    <tr>\n",
       "      <th>3</th>\n",
       "      <td>1000001</td>\n",
       "      <td>P00085442</td>\n",
       "      <td>F</td>\n",
       "      <td>0-17</td>\n",
       "      <td>10</td>\n",
       "      <td>A</td>\n",
       "      <td>2</td>\n",
       "      <td>0</td>\n",
       "      <td>12</td>\n",
       "      <td>1057</td>\n",
       "    </tr>\n",
       "    <tr>\n",
       "      <th>14</th>\n",
       "      <td>1000006</td>\n",
       "      <td>P00231342</td>\n",
       "      <td>F</td>\n",
       "      <td>51-55</td>\n",
       "      <td>9</td>\n",
       "      <td>A</td>\n",
       "      <td>1</td>\n",
       "      <td>0</td>\n",
       "      <td>5</td>\n",
       "      <td>5378</td>\n",
       "    </tr>\n",
       "    <tr>\n",
       "      <th>...</th>\n",
       "      <td>...</td>\n",
       "      <td>...</td>\n",
       "      <td>...</td>\n",
       "      <td>...</td>\n",
       "      <td>...</td>\n",
       "      <td>...</td>\n",
       "      <td>...</td>\n",
       "      <td>...</td>\n",
       "      <td>...</td>\n",
       "      <td>...</td>\n",
       "    </tr>\n",
       "    <tr>\n",
       "      <th>550061</th>\n",
       "      <td>1006029</td>\n",
       "      <td>P00372445</td>\n",
       "      <td>F</td>\n",
       "      <td>26-35</td>\n",
       "      <td>1</td>\n",
       "      <td>C</td>\n",
       "      <td>1</td>\n",
       "      <td>1</td>\n",
       "      <td>20</td>\n",
       "      <td>599</td>\n",
       "    </tr>\n",
       "    <tr>\n",
       "      <th>550064</th>\n",
       "      <td>1006035</td>\n",
       "      <td>P00375436</td>\n",
       "      <td>F</td>\n",
       "      <td>26-35</td>\n",
       "      <td>1</td>\n",
       "      <td>C</td>\n",
       "      <td>3</td>\n",
       "      <td>0</td>\n",
       "      <td>20</td>\n",
       "      <td>371</td>\n",
       "    </tr>\n",
       "    <tr>\n",
       "      <th>550065</th>\n",
       "      <td>1006036</td>\n",
       "      <td>P00375436</td>\n",
       "      <td>F</td>\n",
       "      <td>26-35</td>\n",
       "      <td>15</td>\n",
       "      <td>B</td>\n",
       "      <td>4+</td>\n",
       "      <td>1</td>\n",
       "      <td>20</td>\n",
       "      <td>137</td>\n",
       "    </tr>\n",
       "    <tr>\n",
       "      <th>550066</th>\n",
       "      <td>1006038</td>\n",
       "      <td>P00375436</td>\n",
       "      <td>F</td>\n",
       "      <td>55+</td>\n",
       "      <td>1</td>\n",
       "      <td>C</td>\n",
       "      <td>2</td>\n",
       "      <td>0</td>\n",
       "      <td>20</td>\n",
       "      <td>365</td>\n",
       "    </tr>\n",
       "    <tr>\n",
       "      <th>550067</th>\n",
       "      <td>1006039</td>\n",
       "      <td>P00371644</td>\n",
       "      <td>F</td>\n",
       "      <td>46-50</td>\n",
       "      <td>0</td>\n",
       "      <td>B</td>\n",
       "      <td>4+</td>\n",
       "      <td>1</td>\n",
       "      <td>20</td>\n",
       "      <td>490</td>\n",
       "    </tr>\n",
       "  </tbody>\n",
       "</table>\n",
       "<p>135809 rows × 10 columns</p>\n",
       "</div>"
      ],
      "text/plain": [
       "        User_ID Product_ID Gender    Age Occupation City_Category  \\\n",
       "0       1000001  P00069042      F   0-17         10             A   \n",
       "1       1000001  P00248942      F   0-17         10             A   \n",
       "2       1000001  P00087842      F   0-17         10             A   \n",
       "3       1000001  P00085442      F   0-17         10             A   \n",
       "14      1000006  P00231342      F  51-55          9             A   \n",
       "...         ...        ...    ...    ...        ...           ...   \n",
       "550061  1006029  P00372445      F  26-35          1             C   \n",
       "550064  1006035  P00375436      F  26-35          1             C   \n",
       "550065  1006036  P00375436      F  26-35         15             B   \n",
       "550066  1006038  P00375436      F    55+          1             C   \n",
       "550067  1006039  P00371644      F  46-50          0             B   \n",
       "\n",
       "       Stay_In_Current_City_Years Marital_Status Product_Category  Purchase  \n",
       "0                               2              0                3      8370  \n",
       "1                               2              0                1     15200  \n",
       "2                               2              0               12      1422  \n",
       "3                               2              0               12      1057  \n",
       "14                              1              0                5      5378  \n",
       "...                           ...            ...              ...       ...  \n",
       "550061                          1              1               20       599  \n",
       "550064                          3              0               20       371  \n",
       "550065                         4+              1               20       137  \n",
       "550066                          2              0               20       365  \n",
       "550067                         4+              1               20       490  \n",
       "\n",
       "[135809 rows x 10 columns]"
      ]
     },
     "execution_count": 176,
     "metadata": {},
     "output_type": "execute_result"
    }
   ],
   "source": [
    "df[df['Gender'] == 'F']"
   ]
  },
  {
   "cell_type": "code",
   "execution_count": null,
   "id": "6d560359-cc19-45ef-a5b4-afd1c94a1de5",
   "metadata": {},
   "outputs": [],
   "source": [
    "df['']"
   ]
  }
 ],
 "metadata": {
  "kernelspec": {
   "display_name": "Python 3",
   "language": "python",
   "name": "python3"
  },
  "language_info": {
   "codemirror_mode": {
    "name": "ipython",
    "version": 3
   },
   "file_extension": ".py",
   "mimetype": "text/x-python",
   "name": "python",
   "nbconvert_exporter": "python",
   "pygments_lexer": "ipython3",
   "version": "3.8.8"
  }
 },
 "nbformat": 4,
 "nbformat_minor": 5
}
