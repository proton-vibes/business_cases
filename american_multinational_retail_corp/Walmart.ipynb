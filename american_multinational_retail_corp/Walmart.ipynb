{
 "cells": [
  {
   "cell_type": "markdown",
   "id": "26dd66fb-4c9c-4a01-8063-bad7af0fb066",
   "metadata": {},
   "source": [
    "\n",
    "# American Multinational Retail Corportaion (W***mart)\n",
    "<hr>"
   ]
  },
  {
   "cell_type": "markdown",
   "id": "2ca54bfb-c0ba-4a8d-921f-27a33ef7fbe3",
   "metadata": {},
   "source": [
    "##### -- The corportaion in the context of case study will be called as store. \n",
    "\n",
    "-- This store has more than 100 million customers worldwide.\n",
    "\n",
    "-- Questions on confidence interval and central limit theorem (CLT)"
   ]
  },
  {
   "cell_type": "markdown",
   "id": "3ae8db02-752b-47ea-917b-cd3ebf216429",
   "metadata": {},
   "source": [
    "$\\color{blue}{\\text{The datatypes look proper.\n",
    "All the expected numerical values are int and strings are object}}$"
   ]
  },
  {
   "cell_type": "markdown",
   "id": "0c0be52c-5e70-45fe-b096-e6c70479626d",
   "metadata": {},
   "source": [
    "$$\n",
    "\\text{this is awesome} \\\\\n",
    "And\n",
    "$$"
   ]
  },
  {
   "cell_type": "markdown",
   "id": "ac74eb83-d411-4f78-971b-8615618f903c",
   "metadata": {},
   "source": [
    "$ \\color{blue} {1. c = \\sqrt{a^2 + b^2} sdf \\\\ 2. fasdf\\\\ asdfds}$"
   ]
  },
  {
   "cell_type": "code",
   "execution_count": null,
   "id": "675c6b0d-7459-4b09-94f3-743d3bce6aaf",
   "metadata": {},
   "outputs": [],
   "source": []
  }
 ],
 "metadata": {
  "kernelspec": {
   "display_name": "Python 3",
   "language": "python",
   "name": "python3"
  },
  "language_info": {
   "codemirror_mode": {
    "name": "ipython",
    "version": 3
   },
   "file_extension": ".py",
   "mimetype": "text/x-python",
   "name": "python",
   "nbconvert_exporter": "python",
   "pygments_lexer": "ipython3",
   "version": "3.8.8"
  }
 },
 "nbformat": 4,
 "nbformat_minor": 5
}
